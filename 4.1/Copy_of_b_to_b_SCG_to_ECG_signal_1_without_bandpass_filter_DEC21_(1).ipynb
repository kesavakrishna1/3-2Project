{
  "cells": [
    {
      "cell_type": "markdown",
      "metadata": {
        "id": "view-in-github",
        "colab_type": "text"
      },
      "source": [
        "<a href=\"https://colab.research.google.com/github/kesavakrishna1/3-2Project/blob/main/4.1/Copy_of_b_to_b_SCG_to_ECG_signal_1_without_bandpass_filter_DEC21_(1).ipynb\" target=\"_parent\"><img src=\"https://colab.research.google.com/assets/colab-badge.svg\" alt=\"Open In Colab\"/></a>"
      ]
    },
    {
      "cell_type": "code",
      "execution_count": null,
      "metadata": {
        "id": "cem7L7F-6SiB"
      },
      "outputs": [],
      "source": [
        "#!pip install tensorflow\n"
      ]
    },
    {
      "cell_type": "code",
      "execution_count": null,
      "metadata": {
        "colab": {
          "base_uri": "https://localhost:8080/"
        },
        "id": "O_CFmfRUUMks",
        "outputId": "bfd655a4-8d13-4f32-fa2a-7ec56f83dc55"
      },
      "outputs": [
        {
          "output_type": "stream",
          "name": "stdout",
          "text": [
            "2.14.0\n"
          ]
        }
      ],
      "source": [
        "import tensorflow\n",
        "print(tensorflow.__version__)"
      ]
    },
    {
      "cell_type": "code",
      "execution_count": null,
      "metadata": {
        "id": "71TTGDer6Dko"
      },
      "outputs": [],
      "source": [
        "from tensorflow.keras.layers import LayerNormalization"
      ]
    },
    {
      "cell_type": "code",
      "source": [],
      "metadata": {
        "id": "BpaGGeyzTWyC"
      },
      "execution_count": null,
      "outputs": []
    },
    {
      "cell_type": "code",
      "source": [],
      "metadata": {
        "id": "vkga0yxxTVid"
      },
      "execution_count": null,
      "outputs": []
    },
    {
      "cell_type": "code",
      "execution_count": null,
      "metadata": {
        "colab": {
          "base_uri": "https://localhost:8080/"
        },
        "id": "qW_tZJ9dIu-_",
        "outputId": "43d6d05f-b2d6-4780-e453-65dd07ab9b92"
      },
      "outputs": [
        {
          "output_type": "stream",
          "name": "stdout",
          "text": [
            "Mounted at /content/drive\n"
          ]
        }
      ],
      "source": [
        "from google.colab import drive\n",
        "drive.mount('/content/drive')"
      ]
    },
    {
      "cell_type": "code",
      "execution_count": null,
      "metadata": {
        "id": "hVJfPhRdzJsT"
      },
      "outputs": [],
      "source": [
        "# from tensorflow.python.client import device_lib\n",
        "# print(device_lib.list_local_devices())"
      ]
    },
    {
      "cell_type": "code",
      "execution_count": null,
      "metadata": {
        "colab": {
          "base_uri": "https://localhost:8080/"
        },
        "id": "ummp5mKUOnWg",
        "outputId": "3b1f1ed6-c64a-4520-85fd-26abeafb1d66"
      },
      "outputs": [
        {
          "output_type": "stream",
          "name": "stdout",
          "text": [
            "Collecting git+https://www.github.com/keras-team/keras-contrib.git\n",
            "  Cloning https://www.github.com/keras-team/keras-contrib.git to /tmp/pip-req-build-g_1vu5bu\n",
            "  Running command git clone --filter=blob:none --quiet https://www.github.com/keras-team/keras-contrib.git /tmp/pip-req-build-g_1vu5bu\n",
            "  warning: redirecting to https://github.com/keras-team/keras-contrib.git/\n",
            "  Resolved https://www.github.com/keras-team/keras-contrib.git to commit 3fc5ef709e061416f4bc8a92ca3750c824b5d2b0\n",
            "  Preparing metadata (setup.py) ... \u001b[?25l\u001b[?25hdone\n",
            "Requirement already satisfied: keras in /usr/local/lib/python3.10/dist-packages (from keras-contrib==2.0.8) (2.14.0)\n",
            "Building wheels for collected packages: keras-contrib\n",
            "  Building wheel for keras-contrib (setup.py) ... \u001b[?25l\u001b[?25hdone\n",
            "  Created wheel for keras-contrib: filename=keras_contrib-2.0.8-py3-none-any.whl size=101056 sha256=e3e5a83cabe6024986eb84266aaa86719b111635ac66b06fb13a33a55aec2568\n",
            "  Stored in directory: /tmp/pip-ephem-wheel-cache-0fjw8rab/wheels/74/d5/f7/0245af7ac33d5b0c2e095688649916e4bf9a8d6b3362a849f5\n",
            "Successfully built keras-contrib\n",
            "Installing collected packages: keras-contrib\n",
            "Successfully installed keras-contrib-2.0.8\n"
          ]
        }
      ],
      "source": [
        "!pip install git+https://www.github.com/keras-team/keras-contrib.git"
      ]
    },
    {
      "cell_type": "code",
      "execution_count": null,
      "metadata": {
        "colab": {
          "base_uri": "https://localhost:8080/"
        },
        "id": "ZtGrwIAvPScX",
        "outputId": "7c29c808-d814-4175-8df8-0054d08abec2"
      },
      "outputs": [
        {
          "output_type": "stream",
          "name": "stdout",
          "text": [
            "Collecting pyedflib\n",
            "  Downloading pyEDFlib-0.1.36-cp310-cp310-manylinux_2_17_x86_64.manylinux2014_x86_64.whl (2.6 MB)\n",
            "\u001b[2K     \u001b[90m━━━━━━━━━━━━━━━━━━━━━━━━━━━━━━━━━━━━━━━━\u001b[0m \u001b[32m2.6/2.6 MB\u001b[0m \u001b[31m12.0 MB/s\u001b[0m eta \u001b[36m0:00:00\u001b[0m\n",
            "\u001b[?25hRequirement already satisfied: numpy>=1.9.1 in /usr/local/lib/python3.10/dist-packages (from pyedflib) (1.23.5)\n",
            "Installing collected packages: pyedflib\n",
            "Successfully installed pyedflib-0.1.36\n"
          ]
        }
      ],
      "source": [
        "!pip install pyedflib"
      ]
    },
    {
      "cell_type": "code",
      "execution_count": null,
      "metadata": {
        "colab": {
          "base_uri": "https://localhost:8080/"
        },
        "id": "gx3C2Z7jPs0P",
        "outputId": "a56ba658-acb5-4745-e3b8-13e28d2b1a97"
      },
      "outputs": [
        {
          "output_type": "stream",
          "name": "stdout",
          "text": [
            "Collecting padasip\n",
            "  Downloading padasip-1.2.2.tar.gz (28 kB)\n",
            "  Preparing metadata (setup.py) ... \u001b[?25l\u001b[?25hdone\n",
            "Requirement already satisfied: numpy in /usr/local/lib/python3.10/dist-packages (from padasip) (1.23.5)\n",
            "Building wheels for collected packages: padasip\n",
            "  Building wheel for padasip (setup.py) ... \u001b[?25l\u001b[?25hdone\n",
            "  Created wheel for padasip: filename=padasip-1.2.2-py3-none-any.whl size=51650 sha256=6fe3426f58978d80aa97338198f76a83e3c3f9725d9f0ef3c078f61987315a4d\n",
            "  Stored in directory: /root/.cache/pip/wheels/a0/bb/e7/b57f417dbad7d85dbcb177f2c185543ca34a1b36541f115e95\n",
            "Successfully built padasip\n",
            "Installing collected packages: padasip\n",
            "Successfully installed padasip-1.2.2\n"
          ]
        }
      ],
      "source": [
        "!pip install padasip"
      ]
    },
    {
      "cell_type": "code",
      "execution_count": null,
      "metadata": {
        "id": "P1VOk7-c5xF5"
      },
      "outputs": [],
      "source": [
        "fileNames = []\n",
        "fileName_str = []\n",
        "#Change the number here to read different files\n",
        "for i in range(10,11,1):\n",
        "  name_str = ''\n",
        "  if(i<10):\n",
        "    name_str = 'b00'\n",
        "  else:\n",
        "    name_str = 'b0'\n",
        "  fileNames.append(name_str+ str(i)+'.edf')\n",
        "  fileName_str.append(name_str+ str(i))"
      ]
    },
    {
      "cell_type": "code",
      "execution_count": null,
      "metadata": {
        "id": "7OjZGW0ABl60"
      },
      "outputs": [],
      "source": [
        "import pandas as pd\n",
        "import numpy as np\n",
        "import matplotlib.pyplot as plt\n",
        "from scipy.signal import butter, filtfilt, find_peaks"
      ]
    },
    {
      "cell_type": "code",
      "execution_count": null,
      "metadata": {
        "id": "T_TPhcggPIG5"
      },
      "outputs": [],
      "source": [
        "import pyedflib\n",
        "import numpy as np\n",
        "from scipy import signal\n",
        "from scipy.signal import butter, filtfilt\n",
        "from sklearn.decomposition import FastICA\n",
        "from sklearn.preprocessing import scale\n",
        "import padasip as pa\n",
        "from scipy import signal\n",
        "from keras.layers import LeakyReLU\n",
        "original_scg = []\n",
        "original_ecg = []\n",
        "class DataUtils:\n",
        "\n",
        "    def __init__(self) -> None:\n",
        "        super().__init__()\n",
        "        self.fileNames = fileNames\n",
        "\n",
        "\n",
        "    # def readData(self, sigNum, path=\"/content/drive/MyDrive/Colab Notebooks/basal/\"):\n",
        "    def readData(self, sigNum, path=\"/content/drive/MyDrive/drive-download-20230428T081947Z-001/\"):\n",
        "        file_name = path + self.fileNames[sigNum]\n",
        "        #print(file_name)\n",
        "        #file_name =  self.fileNames[sigNum]\n",
        "        f = pyedflib.EdfReader(file_name)\n",
        "        n = f.signals_in_file\n",
        "        signal_labels = f.getSignalLabels()\n",
        "        print(\"Reading file:: \",file_name)\n",
        "        print(\"different columns:: \",signal_labels)\n",
        "        print(\"total number of samples\",f.getNSamples())\n",
        "        abdECG = np.zeros((1, f.getNSamples()[0]))\n",
        "        scg = np.zeros((1, f.getNSamples()[0]))\n",
        "        scg[0, :] = f.readSignal(3)\n",
        "        scg = scale(scg, axis=1)\n",
        "        #scg[0, :] = scale(self.butter_bandpass_filter(scg, 1, 200, 1000), axis=1)\n",
        "        #for i in np.arange(0, n-2):\n",
        "        abdECG[0, :] = f.readSignal(0)\n",
        "        abdECG = scale(abdECG, axis=1)\n",
        "        #abdECG = scale(self.butter_bandpass_filter(abdECG, 1, 110, 1000), axis=1)\n",
        "        print(\"before downsampling\",abdECG.shape[1])\n",
        "        abdECG = signal.resample(abdECG, int(abdECG.shape[1] / 5), axis=1)\n",
        "        scg = signal.resample(scg, int(scg.shape[1] / 5), axis=1)\n",
        "\n",
        "        # # differencing code starts\n",
        "        # scg = np.diff(scg)\n",
        "        # abdECG = np.diff(abdECG)\n",
        "        # # differencing code ends\n",
        "\n",
        "        print(\"after downsampling\",abdECG.shape[1])\n",
        "        '''function for ecg identification, using pan-tompkins algorithm'''\n",
        "        fs = []\n",
        "        fs.append(f.getSampleFrequency(0))\n",
        "\n",
        "        #changed the return sequence, so that converion will be from SCG to ECG\n",
        "        return  scg, abdECG, fs\n",
        "\n",
        "    def windowingSig(self, sig1, sig2, windowSize=15):\n",
        "        signalLen = sig2.shape[1]\n",
        "        signalsWindow1 = [sig1[:, int(i):int(i + windowSize)].transpose() for i in range(0, signalLen - windowSize, windowSize)]\n",
        "        signalsWindow2 = [sig2[:, int(i):int(i + windowSize)].transpose() for i in range(0, signalLen - windowSize, windowSize)]\n",
        "        print(\"SCG shape after windowing:: \",np.array(signalsWindow1).shape)\n",
        "        print(\"ECG shape after windowing:: \",np.array(signalsWindow2).shape)\n",
        "\n",
        "        return signalsWindow1, signalsWindow2\n",
        "\n",
        "    def adaptFilterOnSig(self, src, ref):\n",
        "        f = pa.filters.FilterNLMS(n=4, mu=0.1, w=\"random\")\n",
        "        for index, sig in enumerate(src):\n",
        "            try:\n",
        "                y, e, w = f.run(ref[index][:, 0], sig)\n",
        "                ref[index][:, 0] = e\n",
        "            except:\n",
        "                pass\n",
        "\n",
        "        return ref\n",
        "\n",
        "    def calculateICA(self, sdSig, component=7):\n",
        "        ica = FastICA(n_components=component, max_iter=1000)\n",
        "        icaRes = []\n",
        "        for index, sig in enumerate(sdSig):\n",
        "            try:\n",
        "                icaSignal = np.array(ica.fit_transform(sig))\n",
        "                icaSignal = np.append(icaSignal, sig[:, range(2, 4)], axis=1)\n",
        "                icaRes.append(icaSignal)\n",
        "            except:\n",
        "                pass\n",
        "        return np.array(icaRes)\n",
        "\n",
        "    def createDelayRepetition(self, signal, numberDelay=4, delay=10):\n",
        "        signal = np.repeat(signal, numberDelay, axis=0)\n",
        "        #print(\"createDelayRepetition::\",signal.shape)\n",
        "        for row in range(1, signal.shape[0]):\n",
        "            signal[row, :] = np.roll(signal[row, :], shift=delay * row)\n",
        "\n",
        "        #print(\"createDelayRepetition 2::\",signal.shape)\n",
        "        return signal\n",
        "\n",
        "    def __butter_bandpass(self, lowcut, highcut, fs, order=5):\n",
        "        #print(\"00\")\n",
        "        nyq = 0.5 * fs\n",
        "        #print(\"0\")\n",
        "        low = lowcut / nyq\n",
        "        #print(\"11\")\n",
        "        high = highcut / nyq\n",
        "        b, a = butter(order, [low, high], btype='band')\n",
        "        #print(\"1\")\n",
        "        return b, a\n",
        "\n",
        "    def butter_bandpass_filter(self, data, lowcut, highcut, fs, order=3, axis=1):\n",
        "        #print(\"In butter_bandpass_filter\")\n",
        "        b, a = self.__butter_bandpass(lowcut, highcut, fs, order=order)\n",
        "        y = filtfilt(b, a, data, axis=axis)\n",
        "        #print(\"2\")\n",
        "        return y"
      ]
    },
    {
      "cell_type": "code",
      "execution_count": null,
      "metadata": {
        "id": "YMp0XeQhDxva"
      },
      "outputs": [],
      "source": [
        "'''function for ecg identification, using pan-tompkins algorithm'''\n",
        "\n",
        "def codeFn(ecg, fs):\n",
        "    nyquist = 0.5 * fs\n",
        "    low_cutoff = 5\n",
        "    high_cutoff = 15\n",
        "    b, a = butter(1, [low_cutoff/nyquist, high_cutoff/nyquist], btype='band')\n",
        "    ecg_filt = filtfilt(b, a, ecg)\n",
        "\n",
        "    b = np.array([1, 0, -1])\n",
        "    ecg_diff = np.convolve(ecg_filt, b, mode='same')\n",
        "    ecg_sq = ecg_diff ** 2\n",
        "\n",
        "    ma_len = int(0.08 * fs)\n",
        "    ecg_ma = np.convolve(ecg_sq, np.ones(ma_len)/ma_len, mode='same')\n",
        "\n",
        "    qrs_idx, _ = find_peaks(ecg_ma, distance=int(0.2 * fs), height=0.2 * np.max(ecg_ma))\n",
        "\n",
        "    return qrs_idx\n"
      ]
    },
    {
      "cell_type": "code",
      "execution_count": null,
      "metadata": {
        "id": "VyDUBs4I4keJ"
      },
      "outputs": [],
      "source": [
        "from sklearn.model_selection import train_test_split\n",
        "\n",
        "#from Utils.DataUtils import DataUtils\n",
        "import numpy as np\n",
        "import copy\n",
        "\n",
        "class TrainUtils:\n",
        "    def __init__(self) -> None:\n",
        "        super().__init__()\n",
        "        self.dataUtils = DataUtils()\n",
        "\n",
        "    def prepareData(self, delay=5, path=\"/content/drive/MyDrive/drive-download-20230428T081947Z-001/b010.edf\"):\n",
        "        scgAll, ecg, fs = self.dataUtils.readData(0,path)\n",
        "        print(scgAll.shape)\n",
        "        #print(\"scg shape:: \",ecg.shape)\n",
        "        scgAll = scgAll[range(1), :]\n",
        "        #print(\"Number of samples:: \",scg.shape)\n",
        "        delayNum = scgAll.shape[0]\n",
        "        ecgAll = self.dataUtils.createDelayRepetition(ecg, delayNum, delay)\n",
        "        #print(\"scg all shape:: \",ecgAll.shape)\n",
        "        for i in range(1, len(fileNames)):\n",
        "            scg, ecg = self.dataUtils.readData(i,path)\n",
        "            print(\"Number of samples:: \",ecg.shape)\n",
        "            scg = scg[range(1), :]\n",
        "            ecgDelayed = self.dataUtils.createDelayRepetition(ecg, 1, delay)\n",
        "            scgAll = np.append(scgAll, scg, axis=1)\n",
        "            ecgAll = np.append(ecgAll, ecgDelayed, axis=1)\n",
        "        #print(\"SCG all merged shape:: \", scg.shape)\n",
        "        print(\"ECG all merged shape:: \", ecgAll.shape)\n",
        "\n",
        "        original_scg = scgAll\n",
        "        original_ecg = ecgAll\n",
        "        scgWindows, ecgWindows = self.dataUtils.windowingSig(scgAll, ecgAll, windowSize=1000)\n",
        "        # ecgWindows = self.dataUtils.adaptFilterOnSig(scgWindows, ecgWindows)\n",
        "        # scgWindows = self.dataUtils.calculateICA(scgWindows, component=2)\n",
        "        return scgWindows, ecgWindows\n",
        "\n",
        "    def trainTestSplit(self, sig, label, trainPercent, shuffle=True):\n",
        "        print(\"Splitting into train and test:: \")\n",
        "        X_train, X_test, y_train, y_test = train_test_split(sig, label, train_size=trainPercent, shuffle=False)\n",
        "        X_train = np.array(X_train)\n",
        "        #X_train = self.window_the_data(X_train,  60)\n",
        "        X_test = np.array(X_test)\n",
        "        #X_test = self.window_the_data(X_test,  60)\n",
        "        y_train = np.array(y_train)\n",
        "        y_test = np.array(y_test)\n",
        "        return X_train, X_test, y_train, y_test\n",
        "\n",
        "    def window_the_data(self,data,window=32):\n",
        "      r = list()\n",
        "      for i, mat in enumerate(data):\n",
        "        s = 0\n",
        "        a = list()\n",
        "        print(data.shape)\n",
        "        while s + window < 256:\n",
        "          a.append(copy.deepcopy(mat[s : s + window].T))\n",
        "          # for i,x in enumerate(a):\n",
        "            # a[i] = scaler.fit_transform(x)\n",
        "          s += 2\n",
        "        r.append(copy.deepcopy(a))\n",
        "        #print(r.shape())\n",
        "\n",
        "\n",
        "      r = np.array(r)\n",
        "      return copy.deepcopy(r)"
      ]
    },
    {
      "cell_type": "code",
      "execution_count": null,
      "metadata": {
        "id": "GfyVIAEdz6iL"
      },
      "outputs": [],
      "source": [
        "# '''function for ecg identification, using pan-tompkins algorithm'''\n",
        "\n",
        "# def codeFn(ecg, fs):\n",
        "#     nyquist = 0.5 * fs\n",
        "#     low_cutoff = 5\n",
        "#     high_cutoff = 15\n",
        "#     b, a = butter(1, [low_cutoff/nyquist, high_cutoff/nyquist], btype='band')\n",
        "#     ecg_filt = filtfilt(b, a, ecg)\n",
        "\n",
        "#     b = np.array([1, 0, -1])\n",
        "#     ecg_diff = np.convolve(ecg_filt, b, mode='same')\n",
        "#     ecg_sq = ecg_diff ** 2\n",
        "\n",
        "#     ma_len = int(0.08 * fs)\n",
        "#     ecg_ma = np.convolve(ecg_sq, np.ones(ma_len)/ma_len, mode='same')\n",
        "\n",
        "#     qrs_idx, _ = find_peaks(ecg_ma, distance=int(0.2 * fs), height=0.2 * np.max(ecg_ma))\n",
        "\n",
        "#     return qrs_idx\n",
        "\n",
        "# # f=readData(,,)\n",
        "# fs = f.getSampleFrequency(0)"
      ]
    },
    {
      "cell_type": "code",
      "execution_count": null,
      "metadata": {
        "colab": {
          "base_uri": "https://localhost:8080/",
          "height": 321
        },
        "id": "S6hm8PqtUDsN",
        "outputId": "50c2405e-6d31-48b8-d050-ddbf3ca27de8"
      },
      "outputs": [
        {
          "output_type": "stream",
          "name": "stdout",
          "text": [
            "Requirement already satisfied: keras in /usr/local/lib/python3.10/dist-packages (2.13.1)\n",
            "Collecting keras\n",
            "  Downloading keras-2.14.0-py3-none-any.whl (1.7 MB)\n",
            "\u001b[2K     \u001b[90m━━━━━━━━━━━━━━━━━━━━━━━━━━━━━━━━━━━━━━━━\u001b[0m \u001b[32m1.7/1.7 MB\u001b[0m \u001b[31m22.2 MB/s\u001b[0m eta \u001b[36m0:00:00\u001b[0m\n",
            "\u001b[?25hInstalling collected packages: keras\n",
            "  Attempting uninstall: keras\n",
            "    Found existing installation: keras 2.13.1\n",
            "    Uninstalling keras-2.13.1:\n",
            "      Successfully uninstalled keras-2.13.1\n",
            "\u001b[31mERROR: pip's dependency resolver does not currently take into account all the packages that are installed. This behaviour is the source of the following dependency conflicts.\n",
            "tensorflow 2.13.0 requires keras<2.14,>=2.13.1, but you have keras 2.14.0 which is incompatible.\u001b[0m\u001b[31m\n",
            "\u001b[0mSuccessfully installed keras-2.14.0\n"
          ]
        },
        {
          "output_type": "display_data",
          "data": {
            "application/vnd.colab-display-data+json": {
              "pip_warning": {
                "packages": [
                  "keras"
                ]
              }
            }
          },
          "metadata": {}
        }
      ],
      "source": [
        "!pip install --upgrade keras"
      ]
    },
    {
      "cell_type": "code",
      "execution_count": null,
      "metadata": {
        "id": "7X2IeRM92QgC"
      },
      "outputs": [],
      "source": [
        "#pip install --upgrade tensorflow\n"
      ]
    },
    {
      "cell_type": "markdown",
      "source": [
        "**added 2 discriminators**\n",
        "\n",
        "---\n",
        "\n",
        "* line 103, 104 self.image shape c and d\n",
        "* line 124 - 140 discriminator c and d\n",
        "* line 151, 152 modified generators\n",
        "* line 167, 168 added fake_c and d\n",
        "* line 286 and 287 added batches C and D\n",
        "* line 299-302 added imgs_c, imgs_d\n",
        "* line 310, 311 fake_c and d\n",
        "* line 315, 316 added reconstr_c and d\n",
        "* line 324 added img_c and d for g_loss\n",
        "* line 326-332 added dC and dD loss real and fake\n",
        "* line 335 modified d_loss\n",
        "* line 376-384 added fake_c and d, reconstr_c and d\n",
        "* line 394 added imgs_C, fake_D, reconstr_C, imgs_D, fake_C, reconstr_D to gen_imgs\n"
      ],
      "metadata": {
        "id": "jWSGLeDSYotR"
      }
    },
    {
      "cell_type": "code",
      "execution_count": null,
      "metadata": {
        "id": "xo68JTwIbtL0"
      },
      "outputs": [],
      "source": [
        "from __future__ import print_function, division\n",
        "\n",
        "import datetime\n",
        "import os\n",
        "\n",
        "import matplotlib.pyplot as plt\n",
        "import numpy as np\n",
        "import keras.backend as K\n",
        "from keras import Input, Model\n",
        "from keras.layers import Conv1D, UpSampling1D, LeakyReLU, Dropout, Lambda, Embedding, Bidirectional, LSTM, Dense, Flatten, Layer, MultiHeadAttention, LayerNormalization, GlobalAveragePooling1D\n",
        "from tensorflow.keras.optimizers import Adam\n",
        "from tensorflow.keras.optimizers import legacy as legacy_optimizers\n",
        "from keras_contrib.layers import InstanceNormalization\n",
        "#from keras_self_attention import ScaledDotProductAttention\n",
        "#from keras_self_attention.backend import regularizers\n",
        "from sklearn.preprocessing import scale\n",
        "\n",
        "import tensorflow as tf\n",
        "from tensorflow.python.keras import Sequential\n",
        "#from tensorflow.python.keras.layers import Normalization\n",
        "\n",
        "#from Utils.DataUtils import DataUtils\n",
        "\n",
        "\n",
        "class TransformerBlock(Layer):\n",
        "    def __init__(self, embed_dim, num_heads, rate=0.1):\n",
        "        super(TransformerBlock, self).__init__()\n",
        "        self.att = MultiHeadAttention(num_heads=num_heads, key_dim=embed_dim)\n",
        "        # self.ffn = Sequential(\n",
        "        #     [Dense(ff_dim, activation=\"relu\"), Dense(embed_dim), ]\n",
        "        # )\n",
        "        #print(\"apply layered normalization\")\n",
        "        self.layernorm1 = LayerNormalization(epsilon=1e-4)\n",
        "        # self.layernorm2 = LayerNormalization(epsilon=1e-6)\n",
        "        #print(\"apply dropout\")\n",
        "        self.dropout1 = Dropout(rate)\n",
        "        # self.dropout2 = Dropout(rate)\n",
        "\n",
        "    def call(self, inputs):\n",
        "        #print(\"In call function of transformer\")\n",
        "        attn_output = self.att(inputs, inputs)\n",
        "        attn_output = self.dropout1(attn_output)\n",
        "        out1 = self.layernorm1(inputs * attn_output)\n",
        "        # ffn_output = self.ffn(out1)\n",
        "        # ffn_output = self.dropout2(ffn_output)\n",
        "        return out1\n",
        "    def get_config(self):\n",
        "        \"\"\"\n",
        "            For rebuilding models on load time.\n",
        "        \"\"\"\n",
        "\n",
        "        #config = {\n",
        "        #    'output_dim': self.output_dim,\n",
        "        #    'units': self.units,\n",
        "        #    'return_probabilities': self.return_probabilities\n",
        "        #}\n",
        "        base_config = super(TransformerBlock, self).get_config()\n",
        "        return dict(list(base_config.items()))\n",
        "\n",
        "def batch_creation(dataX, dataY, batch_size,batch_idx):\n",
        "    # get 64 pictures from the files\n",
        "    # process_batchA = []\n",
        "    # process_batchB = []\n",
        "    X = dataX[batch_idx*batch_size:batch_idx*batch_size+batch_size]\n",
        "    y = dataY[batch_idx*batch_size:batch_idx*batch_size+batch_size]\n",
        "    #print(current_pic)\n",
        "    # call read picture\n",
        "    # for i in range(len(current_pic)):\n",
        "    #     filename = os.path.join(image_paths, current_pic[i])\n",
        "    #     A,B = read_picture(filename)\n",
        "    #     # normalize picture\n",
        "    #     A = normalize_picture(A)\n",
        "    #     B = normalize_picture(B)\n",
        "    #     #append 2 pic in a list\n",
        "    #     process_batchA.append(A)\n",
        "    #     process_batchB.append(B)\n",
        "\n",
        "    return X, y\n",
        "\n",
        "class CycleGAN:\n",
        "    def __init__(self, row, col):\n",
        "        gpus = tf.config.experimental.list_physical_devices('GPU')\n",
        "        if gpus:\n",
        "            try:\n",
        "                # Restrict TensorFlow to only use the fourth GPU\n",
        "                tf.config.experimental.set_visible_devices(gpus[0], 'GPU')\n",
        "\n",
        "                # Currently, memory growth needs to be the same across GPUs\n",
        "                for gpu in gpus:\n",
        "                    tf.config.experimental.set_memory_growth(gpu, True)\n",
        "                logical_gpus = tf.config.experimental.list_logical_devices('GPU')\n",
        "                print(len(gpus), \"Physical GPUs,\", len(logical_gpus), \"Logical GPUs\")\n",
        "            except RuntimeError as e:\n",
        "                # Memory growth must be set before GPUs have been initialized\n",
        "                print(e)\n",
        "        # Input shape\n",
        "        self.dataUtils = DataUtils()\n",
        "        self.img_rows = row\n",
        "        self.img_cols = col\n",
        "        self.channels = 1\n",
        "        self.img_shape = (self.img_rows, self.img_cols)\n",
        "        self.img_shape_b = (self.img_rows,1)\n",
        "        # self.img_shape_c = (self.img_rows,1)\n",
        "        # self.img_shape_d = (self.img_rows,1)\n",
        "\n",
        "        # Configure data loader\n",
        "        self.dataset_name = 'ECG2FECG'\n",
        "\n",
        "        print(\"1\")\n",
        "        # Calculate output shape of D (PatchGAN)\n",
        "        patch = int(self.img_rows / 2 ** 4)\n",
        "        self.disc_patch = (self.img_rows, 1)\n",
        "\n",
        "        # Number of filters in the first layer of G and D\n",
        "        self.gf = 6\n",
        "        self.df = 13\n",
        "\n",
        "        # Loss weights\n",
        "        self.lambda_cycle = 4.0  # Cycle-consistency loss\n",
        "        self.lambda_id = 0.01 * self.lambda_cycle  # Identity loss\n",
        "\n",
        "        # optimizer = Adam()\n",
        "        optimizer = legacy_optimizers.Adam(learning_rate=0.001)\n",
        "        # Build and compile the discriminators\n",
        "        self.d_A = self.build_discriminator(self.img_shape)\n",
        "        self.d_B = self.build_discriminator(self.img_shape_b)\n",
        "        self.d_C = self.build_discriminator(self.img_shape_c)\n",
        "        self.d_D = self.build_discriminator(self.img_shape_d)\n",
        "\n",
        "        self.d_A.compile(loss='MSE',\n",
        "                         optimizer=optimizer,\n",
        "                         metrics=['accuracy'])\n",
        "        self.d_B.compile(loss='MSE',\n",
        "                         optimizer=optimizer,\n",
        "                         metrics=['accuracy'])\n",
        "        self.d_C.compile(loss='MSE',\n",
        "                         optimizer=optimizer,\n",
        "                         metrics=['accuracy'])\n",
        "        self.d_D.compile(loss='MSE',\n",
        "                         optimizer=optimizer,\n",
        "                         metrics=['accuracy'])\n",
        "\n",
        "        # -------------------------\n",
        "        # Construct Computational\n",
        "        #   Graph of Generators\n",
        "        # -------------------------\n",
        "\n",
        "        # Build the generators\n",
        "        self.g_AB = self.build_generator(self.img_shape)\n",
        "        self.g_BA = self.build_generator(self.img_shape_b)\n",
        "        #=============================\n",
        "        # should/not add 2 generators\n",
        "        #===========================\n",
        "        # self.g_CD = self.build_generator(self.img_shape_c)\n",
        "        # self.g_DC = self.build_generator(self.img_shape_d)\n",
        "\n",
        "\n",
        "        # Input images from both domains\n",
        "        img_A = Input(shape=self.img_shape)\n",
        "        img_B = Input(shape=self.img_shape_b)\n",
        "        img_C = Input(shape=self.img_shape_c)\n",
        "        img_D = Input(shape=self.img_shape_d)\n",
        "\n",
        "        # Translate images to the other domain\n",
        "        fake_B = self.g_AB(img_A)\n",
        "        fake_A = self.g_BA(img_B)\n",
        "        fake_C = self.g_AB(img_C)\n",
        "        fake_D = self.g_BA(img_D)\n",
        "\n",
        "        # Translate images back to original domain\n",
        "        reconstr_A = self.g_BA(fake_B)\n",
        "        reconstr_B = self.g_AB(fake_A)\n",
        "        #print(\"1\")\n",
        "        # Identity mapping of images\n",
        "        img_A_id = self.g_BA(img_A)\n",
        "        img_B_id = self.g_AB(img_B)\n",
        "\n",
        "        #print(\"2\")\n",
        "        # For the combined model we will only train the generators\n",
        "        self.d_A.trainable = False\n",
        "        self.d_B.trainable = False\n",
        "        #print(\"3\")\n",
        "\n",
        "        # Discriminators determines validity of translated images\n",
        "        valid_A = self.d_A(fake_A)\n",
        "        valid_B = self.d_B(fake_B)\n",
        "        #print(\"4\")\n",
        "\n",
        "        # Combined model trains generators to fool discriminators\n",
        "        self.combined = Model(inputs=[img_A, img_B],\n",
        "                              outputs=[valid_A, valid_B,\n",
        "                                       fake_B, fake_A,\n",
        "                                       reconstr_A, reconstr_B])\n",
        "        print(\"model created\")\n",
        "        self.combined.compile(loss=['huber_loss', 'huber_loss',\n",
        "                                    'huber_loss', 'huber_loss', 'huber_loss',\n",
        "                                    'huber_loss'],\n",
        "                              loss_weights=[1, 1,\n",
        "                                            self.lambda_cycle, self.lambda_cycle,\n",
        "                                            self.lambda_id, self.lambda_id],\n",
        "                              optimizer=optimizer)\n",
        "        print(\"Model compiled\")\n",
        "\n",
        "    # Define custom loss\n",
        "    def custom_loss(self):\n",
        "\n",
        "        # Create a loss function that adds the MSE loss to the mean of all squared activations of a specific layer\n",
        "        def loss(y_true, y_pred):\n",
        "            return K.mean(y_true * K.log(y_true / y_pred + K.epsilon()))\n",
        "\n",
        "        # Return a function\n",
        "        return loss\n",
        "\n",
        "    def build_generator(self,img_shape):\n",
        "        \"\"\"U-Net Generator\"\"\"\n",
        "        print(\"In build generator\")\n",
        "        def conv1DWithSINE(layer_input, filters, f_size=30):\n",
        "            \"\"\"Layers used during downsampling\"\"\"\n",
        "            d = Conv1D(filters, kernel_size=f_size, padding='same', activation=tf.nn.leaky_relu)(layer_input)\n",
        "            d = InstanceNormalization()(d)\n",
        "            return d\n",
        "\n",
        "        def multiply(x):\n",
        "            mask,image  = x\n",
        "            return image* K.clip(mask,0.8,1)\n",
        "\n",
        "        input = Input(shape=img_shape)\n",
        "        print(\"Input shape:: \", input.shape)\n",
        "        #value = conv1DWithSINE(input, input.shape[2], f_size=30)\n",
        "        value = conv1DWithSINE(input, 30, f_size=30)\n",
        "        print(\" shape after conv1d :: \", value.shape)\n",
        "\n",
        "        print(\"apply attention.\")\n",
        "        att = TransformerBlock(input.shape[1], 2)(value)\n",
        "        print(\"shape after attention:: \",att.shape )\n",
        "        att = LayerNormalization(axis=1)(att)\n",
        "        print(\"shape after normalizing attention:: \",att.shape )\n",
        "\n",
        "        remainedInput = Lambda(multiply)([att, value])\n",
        "        print(\"shape after apply lambda:: \",remainedInput.shape )\n",
        "\n",
        "        output_img = conv1DWithSINE(remainedInput, 17, f_size=30)\n",
        "        print(\"input shape after first conv1d:: \",output_img.shape)\n",
        "        output_img = conv1DWithSINE(output_img, 13, f_size=30)\n",
        "        print(\"input shape after second conv1d:: \",output_img.shape)\n",
        "        output_img = conv1DWithSINE(output_img, 13, f_size=30)\n",
        "        print(\"input shape after third conv1d:: \",output_img.shape)\n",
        "        output_img = conv1DWithSINE(output_img, 1, f_size=1)\n",
        "        print(\"input shape after fourth conv1d:: \",output_img.shape)\n",
        "\n",
        "        return Model(input, output_img)\n",
        "\n",
        "    def build_discriminator(self,img_shape):\n",
        "        print(\"In building discriminator\")\n",
        "        def d_layer(layer_input, filters, f_size=13, normalization=True):\n",
        "            \"\"\"Discriminator layer\"\"\"\n",
        "            d = Conv1D(filters, kernel_size=f_size, padding='same',activation=tf.nn.leaky_relu)(layer_input)\n",
        "            if normalization:\n",
        "                d = InstanceNormalization()(d)\n",
        "            return d\n",
        "\n",
        "        img = Input(shape=img_shape)\n",
        "        print(\"input shape:: \",img.shape)\n",
        "        d1 = d_layer(img, self.df)\n",
        "        print(\"input shape after first conv1d:: \",d1.shape)\n",
        "        d2 = d_layer(d1, 13)\n",
        "        print(\"input shape after second conv1d:: \",d2.shape)\n",
        "        d3 = d_layer(d2, 13)\n",
        "        print(\"input shape after third conv1d:: \",d3.shape)\n",
        "        validity = d_layer(d3, 1)\n",
        "        # validity = d_layer(d3, img.shape[1])\n",
        "        print(\"final shape after 4th layer:: \",validity.shape)\n",
        "\n",
        "\n",
        "        return Model(img, validity)\n",
        "\n",
        "    def train(self, x_train, y_train, epochs, batch_size=1, sample_interval=20):\n",
        "        print(\"Num Samples\", x_train.shape[0])\n",
        "        print(\"In train:: \")\n",
        "        start_time = datetime.datetime.now()\n",
        "\n",
        "        # Adversarial loss ground truths\n",
        "        valid = np.ones((batch_size,) + self.disc_patch)\n",
        "        fake = np.zeros((batch_size,) + self.disc_patch)\n",
        "\n",
        "        for epoch in range(epochs):\n",
        "            for batch_idx in range(x_train.shape[0]//batch_size):\n",
        "                batchA, batchB = batch_creation(x_train, y_train, batch_size,batch_idx)\n",
        "                batchA = np.asarray(batchA)\n",
        "                batchB = np.asarray(batchB)\n",
        "                # batchA = np.asarray(batchA)\n",
        "                # batchB = np.asarray(batchB)\n",
        "                batchC = np.asarray(batchC)\n",
        "                batchD = np.asarray(batchD)\n",
        "                imgs_A = batchA\n",
        "                imgs_B = batchB\n",
        "                imgs_B = np.reshape(imgs_B, (-1, x_train.shape[1], x_train.shape[2]))\n",
        "                imgs_A = np.reshape(imgs_A, (-1, x_train.shape[1], x_train.shape[2]))\n",
        "                imgs_C = batchC\n",
        "                imgs_D = batchD\n",
        "                imgs_D = np.reshape(imgs_D, (-1, x_train.shape[1], x_train.shape[2]))\n",
        "                imgs_C = np.reshape(imgs_C, (-1, x_train.shape[1], x_train.shape[2]))\n",
        "                # ----------------------\n",
        "                #  Train Discriminators\n",
        "                # ----------------------\n",
        "\n",
        "                # Translate images to the other domain\n",
        "                fake_B = self.g_AB.predict(imgs_A)\n",
        "                fake_A = self.g_BA.predict(imgs_B)\n",
        "                fake_D = self.g_AB.predict(imgs_C)\n",
        "                fake_C = self.g_BA.predict(imgs_D)\n",
        "                # Translate images back to original domain\n",
        "                reconstr_A = self.g_BA.predict(fake_B)\n",
        "                reconstr_B = self.g_AB.predict(fake_A)\n",
        "                reconstr_C = self.g_BA.predict(fake_D)\n",
        "                reconstr_D = self.g_AB.predict(fake_C)\n",
        "                # Train the discriminators (original images = real / translated = Fake)\n",
        "                dA_loss_real = self.d_A.train_on_batch(imgs_A, valid)\n",
        "                dA_loss_fake = self.d_A.train_on_batch(fake_A, fake)\n",
        "                dA_loss = 0.5 * np.add(dA_loss_real, dA_loss_fake)\n",
        "\n",
        "                dB_loss_real = self.d_B.train_on_batch(imgs_B, valid)\n",
        "                dB_loss_fake = self.d_B.train_on_batch(fake_B, fake)\n",
        "                dB_loss = 0.5 * np.add(dB_loss_real, dB_loss_fake)\n",
        "\n",
        "                dC_loss_real = self.d_C.train_on_batch(imgs_C, valid)\n",
        "                dC_loss_fake = self.d_C.train_on_batch(fake_C, fake)\n",
        "                dC_loss = 0.5 * np.add(dC_loss_real, dC_loss_fake)\n",
        "\n",
        "                dD_loss_real = self.d_D.train_on_batch(imgs_D, valid)\n",
        "                dD_loss_fake = self.d_D.train_on_batch(fake_D, fake)\n",
        "                dD_loss = 0.5 * np.add(dD_loss_real, dD_loss_fake)\n",
        "\n",
        "                # Total disciminator loss\n",
        "                d_loss = 0.5 * np.add(dA_loss, dB_loss, dC_loss, dD_loss)\n",
        "\n",
        "                # ------------------\n",
        "                #  Train Generators\n",
        "                # ------------------\n",
        "\n",
        "                # Train the generators\n",
        "                # g_loss = self.combined.train_on_batch([imgs_A, imgs_B],\n",
        "                                                      # [valid, valid,\n",
        "                                                      #  imgs_B, imgs_A,\n",
        "                                                      #  reconstr_A, reconstr_B])\n",
        "\n",
        "                g_loss = self.combined.train_on_batch([imgs_A, imgs_B, imgs_C, imgs_D],\n",
        "                                                      [valid, valid,\n",
        "                                                       imgs_B, imgs_A,\n",
        "                                                       reconstr_A, reconstr_B,\n",
        "                                                       valid_C, valid_D])\n",
        "\n",
        "\n",
        "                elapsed_time = datetime.datetime.now() - start_time\n",
        "\n",
        "                # Plot the progress\n",
        "                print(\"[Epoch %d/%d] [Batch %d/%d] [D loss: %f, acc: %3d%%] [G loss: %05f, adv: %05f, recon: %05f, id: %05f] time: %s \" \\\n",
        "                      % (epoch, epochs,\n",
        "                         batch_idx, 1,\n",
        "                         d_loss[0], 100 * d_loss[1],\n",
        "                         g_loss[0],\n",
        "                         np.mean(g_loss[1:3]),\n",
        "                         np.mean(g_loss[3:5]),\n",
        "                         np.mean(g_loss[5:6]),\n",
        "                         elapsed_time))\n",
        "\n",
        "                # If at save interval => save generated image samples\n",
        "                #print(\"shape of image a\",imgs_A.shape)\n",
        "                #print(\"shape of image b\",imgs_B.shape)\n",
        "                if batch_idx % sample_interval == 0:\n",
        "                    self.sample_images(epoch, batch_idx, imgs_A, imgs_B)\n",
        "        self.g_AB.save(\"ECG2FECG.h5\", overwrite=True)\n",
        "        self.g_BA.save(\"FECG2ECG.h5\", overwrite=True)\n",
        "\n",
        "    def sample_images(self, epoch, batch_idx, imgs_A, imgs_B):\n",
        "        os.makedirs('images/%s' % self.dataset_name, exist_ok=True)\n",
        "        r, c = 2, 3\n",
        "\n",
        "        # Demo (for GIF)\n",
        "        # imgs_A = self.data_loader.load_img('datasets/apple2orange/testA/n07740461_1541.jpg')\n",
        "        # imgs_B = self.data_loader.load_img('datasets/apple2orange/testB/n07749192_4241.jpg')\n",
        "\n",
        "        # Translate images to the other domain\n",
        "        fake_B = self.g_AB.predict(imgs_A)\n",
        "        fake_A = self.g_BA.predict(imgs_B)\n",
        "        fake_D = self.g_AB.predict(imgs_C)\n",
        "        fake_C = self.g_BA.predict(imgs_D)\n",
        "        # Translate back to original domain\n",
        "        reconstr_A = self.g_BA.predict(fake_B)\n",
        "        reconstr_B = self.g_AB.predict(fake_A)\n",
        "        reconstr_C = self.g_BA.predict(fake_D)\n",
        "        reconstr_D = self.g_AB.predict(fake_C)\n",
        "\n",
        "        gen_imgs = np.concatenate([imgs_A, fake_B, reconstr_A, imgs_B, fake_A, reconstr_B, imgs_C, fake_D, reconstr_C, imgs_D, fake_C, reconstr_D])\n",
        "        #print(\"shape of gen\",gen_imgs.shape)\n",
        "        # Rescale images 0 - 1\n",
        "        # gen_imgs = 0.5 * gen_imgs + 0.5\n",
        "\n",
        "        titles = ['Original', 'Translated', 'Reconstructed']\n",
        "        fig, axs = plt.subplots(r, c)\n",
        "        cnt = 0\n",
        "\n",
        "        # gen_imgs[1] = gen_imgs[0]-gen_imgs[1]\n",
        "        try:\n",
        "            for i in range(r):\n",
        "                for j in range(c):\n",
        "                    for bias in range(1):\n",
        "                        #gen_imgs[cnt][:, bias] = scale(self.dataUtils.butter_bandpass_filter(gen_imgs[cnt][:, bias], 10, 50, 200, axis=0), axis=0)\n",
        "                        #gen_imgs[cnt][:, bias] = scale(gen_imgs[cnt][:, bias], axis=0)\n",
        "                        if np.max(gen_imgs[cnt][:, bias]) != 0:\n",
        "                            gen_imgs[cnt][:, bias] = gen_imgs[cnt][:, bias] / np.max(gen_imgs[cnt][:, bias])\n",
        "                        axs[i, j].plot(gen_imgs[cnt][:, bias] + bias)\n",
        "                    axs[i, j].set_title(titles[j])\n",
        "                    cnt += 1\n",
        "            # fig.savefig(\"images/%s/%d_%d.png\" % (self.dataset_name, epoch, batch_idx))\n",
        "            plt.close()\n",
        "        except:\n",
        "            pass"
      ]
    },
    {
      "cell_type": "code",
      "execution_count": null,
      "metadata": {
        "id": "mWEa6jqtQECU"
      },
      "outputs": [],
      "source": [
        "from keras import backend as K\n",
        "from keras import regularizers, constraints, initializers, activations\n",
        "from keras.layers import TimeDistributed\n",
        "#from keras.layers.recurrent import Recurrent\n",
        "from tensorflow.keras.layers import InputSpec\n",
        "\n",
        "\n",
        "\n",
        "\n",
        "class AttentionDecoder():\n",
        "\n",
        "    def __init__(self, units, output_dim,\n",
        "                 activation='tanh',\n",
        "                 return_probabilities=False,\n",
        "                 name='AttentionDecoder',\n",
        "                 kernel_initializer='glorot_uniform',\n",
        "                 recurrent_initializer='orthogonal',\n",
        "                 bias_initializer='zeros',\n",
        "                 kernel_regularizer=None,\n",
        "                 bias_regularizer=None,\n",
        "                 activity_regularizer=None,\n",
        "                 kernel_constraint=None,\n",
        "                 bias_constraint=None,\n",
        "                 **kwargs):\n",
        "        \"\"\"\n",
        "        Implements an AttentionDecoder that takes in a sequence encoded by an\n",
        "        encoder and outputs the decoded states\n",
        "        :param units: dimension of the hidden state and the attention matrices\n",
        "        :param output_dim: the number of labels in the output space\n",
        "        references:\n",
        "            Bahdanau, Dzmitry, Kyunghyun Cho, and Yoshua Bengio.\n",
        "            \"Neural machine translation by jointly learning to align and translate.\"\n",
        "            arXiv preprint arXiv:1409.0473 (2014).\n",
        "        \"\"\"\n",
        "        self.units = units\n",
        "        self.output_dim = output_dim\n",
        "        self.return_probabilities = return_probabilities\n",
        "        self.activation = activations.get(activation)\n",
        "        self.kernel_initializer = initializers.get(kernel_initializer)\n",
        "        self.recurrent_initializer = initializers.get(recurrent_initializer)\n",
        "        self.bias_initializer = initializers.get(bias_initializer)\n",
        "\n",
        "        self.kernel_regularizer = regularizers.get(kernel_regularizer)\n",
        "        self.recurrent_regularizer = regularizers.get(kernel_regularizer)\n",
        "        self.bias_regularizer = regularizers.get(bias_regularizer)\n",
        "        self.activity_regularizer = regularizers.get(activity_regularizer)\n",
        "\n",
        "        self.kernel_constraint = constraints.get(kernel_constraint)\n",
        "        self.recurrent_constraint = constraints.get(kernel_constraint)\n",
        "        self.bias_constraint = constraints.get(bias_constraint)\n",
        "\n",
        "        super(AttentionDecoder, self).__init__(**kwargs)\n",
        "        self.name = name\n",
        "        self.return_sequences = True  # must return sequences\n",
        "\n",
        "    def build(self, input_shape):\n",
        "        \"\"\"\n",
        "          See Appendix 2 of Bahdanau 2014, arXiv:1409.0473\n",
        "          for model details that correspond to the matrices here.\n",
        "        \"\"\"\n",
        "\n",
        "        self.batch_size, self.timesteps, self.input_dim = input_shape\n",
        "\n",
        "        if self.stateful:\n",
        "            super(AttentionDecoder, self).reset_states()\n",
        "\n",
        "        self.states = [None, None]  # y, s\n",
        "\n",
        "        \"\"\"\n",
        "            Matrices for creating the context vector\n",
        "        \"\"\"\n",
        "\n",
        "        self.V_a = self.add_weight(shape=(self.units,),\n",
        "                                   name='V_a',\n",
        "                                   initializer=self.kernel_initializer,\n",
        "                                   regularizer=self.kernel_regularizer,\n",
        "                                   constraint=self.kernel_constraint)\n",
        "        self.W_a = self.add_weight(shape=(self.units, self.units),\n",
        "                                   name='W_a',\n",
        "                                   initializer=self.kernel_initializer,\n",
        "                                   regularizer=self.kernel_regularizer,\n",
        "                                   constraint=self.kernel_constraint)\n",
        "        self.U_a = self.add_weight(shape=(self.input_dim, self.units),\n",
        "                                   name='U_a',\n",
        "                                   initializer=self.kernel_initializer,\n",
        "                                   regularizer=self.kernel_regularizer,\n",
        "                                   constraint=self.kernel_constraint)\n",
        "        self.b_a = self.add_weight(shape=(self.units,),\n",
        "                                   name='b_a',\n",
        "                                   initializer=self.bias_initializer,\n",
        "                                   regularizer=self.bias_regularizer,\n",
        "                                   constraint=self.bias_constraint)\n",
        "        \"\"\"\n",
        "            Matrices for the r (reset) gate\n",
        "        \"\"\"\n",
        "        self.C_r = self.add_weight(shape=(self.input_dim, self.units),\n",
        "                                   name='C_r',\n",
        "                                   initializer=self.recurrent_initializer,\n",
        "                                   regularizer=self.recurrent_regularizer,\n",
        "                                   constraint=self.recurrent_constraint)\n",
        "        self.U_r = self.add_weight(shape=(self.units, self.units),\n",
        "                                   name='U_r',\n",
        "                                   initializer=self.recurrent_initializer,\n",
        "                                   regularizer=self.recurrent_regularizer,\n",
        "                                   constraint=self.recurrent_constraint)\n",
        "        self.W_r = self.add_weight(shape=(self.output_dim, self.units),\n",
        "                                   name='W_r',\n",
        "                                   initializer=self.recurrent_initializer,\n",
        "                                   regularizer=self.recurrent_regularizer,\n",
        "                                   constraint=self.recurrent_constraint)\n",
        "        self.b_r = self.add_weight(shape=(self.units,),\n",
        "                                   name='b_r',\n",
        "                                   initializer=self.bias_initializer,\n",
        "                                   regularizer=self.bias_regularizer,\n",
        "                                   constraint=self.bias_constraint)\n",
        "\n",
        "        \"\"\"\n",
        "            Matrices for the z (update) gate\n",
        "        \"\"\"\n",
        "        self.C_z = self.add_weight(shape=(self.input_dim, self.units),\n",
        "                                   name='C_z',\n",
        "                                   initializer=self.recurrent_initializer,\n",
        "                                   regularizer=self.recurrent_regularizer,\n",
        "                                   constraint=self.recurrent_constraint)\n",
        "        self.U_z = self.add_weight(shape=(self.units, self.units),\n",
        "                                   name='U_z',\n",
        "                                   initializer=self.recurrent_initializer,\n",
        "                                   regularizer=self.recurrent_regularizer,\n",
        "                                   constraint=self.recurrent_constraint)\n",
        "        self.W_z = self.add_weight(shape=(self.output_dim, self.units),\n",
        "                                   name='W_z',\n",
        "                                   initializer=self.recurrent_initializer,\n",
        "                                   regularizer=self.recurrent_regularizer,\n",
        "                                   constraint=self.recurrent_constraint)\n",
        "        self.b_z = self.add_weight(shape=(self.units,),\n",
        "                                   name='b_z',\n",
        "                                   initializer=self.bias_initializer,\n",
        "                                   regularizer=self.bias_regularizer,\n",
        "                                   constraint=self.bias_constraint)\n",
        "        \"\"\"\n",
        "            Matrices for the proposal\n",
        "        \"\"\"\n",
        "        self.C_p = self.add_weight(shape=(self.input_dim, self.units),\n",
        "                                   name='C_p',\n",
        "                                   initializer=self.recurrent_initializer,\n",
        "                                   regularizer=self.recurrent_regularizer,\n",
        "                                   constraint=self.recurrent_constraint)\n",
        "        self.U_p = self.add_weight(shape=(self.units, self.units),\n",
        "                                   name='U_p',\n",
        "                                   initializer=self.recurrent_initializer,\n",
        "                                   regularizer=self.recurrent_regularizer,\n",
        "                                   constraint=self.recurrent_constraint)\n",
        "        self.W_p = self.add_weight(shape=(self.output_dim, self.units),\n",
        "                                   name='W_p',\n",
        "                                   initializer=self.recurrent_initializer,\n",
        "                                   regularizer=self.recurrent_regularizer,\n",
        "                                   constraint=self.recurrent_constraint)\n",
        "        self.b_p = self.add_weight(shape=(self.units,),\n",
        "                                   name='b_p',\n",
        "                                   initializer=self.bias_initializer,\n",
        "                                   regularizer=self.bias_regularizer,\n",
        "                                   constraint=self.bias_constraint)\n",
        "        \"\"\"\n",
        "            Matrices for making the final prediction vector\n",
        "        \"\"\"\n",
        "        self.C_o = self.add_weight(shape=(self.input_dim, self.output_dim),\n",
        "                                   name='C_o',\n",
        "                                   initializer=self.recurrent_initializer,\n",
        "                                   regularizer=self.recurrent_regularizer,\n",
        "                                   constraint=self.recurrent_constraint)\n",
        "        self.U_o = self.add_weight(shape=(self.units, self.output_dim),\n",
        "                                   name='U_o',\n",
        "                                   initializer=self.recurrent_initializer,\n",
        "                                   regularizer=self.recurrent_regularizer,\n",
        "                                   constraint=self.recurrent_constraint)\n",
        "        self.W_o = self.add_weight(shape=(self.output_dim, self.output_dim),\n",
        "                                   name='W_o',\n",
        "                                   initializer=self.recurrent_initializer,\n",
        "                                   regularizer=self.recurrent_regularizer,\n",
        "                                   constraint=self.recurrent_constraint)\n",
        "        self.b_o = self.add_weight(shape=(self.output_dim,),\n",
        "                                   name='b_o',\n",
        "                                   initializer=self.bias_initializer,\n",
        "                                   regularizer=self.bias_regularizer,\n",
        "                                   constraint=self.bias_constraint)\n",
        "\n",
        "        # For creating the initial state:\n",
        "        self.W_s = self.add_weight(shape=(self.input_dim, self.units),\n",
        "                                   name='W_s',\n",
        "                                   initializer=self.recurrent_initializer,\n",
        "                                   regularizer=self.recurrent_regularizer,\n",
        "                                   constraint=self.recurrent_constraint)\n",
        "\n",
        "        self.input_spec = [\n",
        "            InputSpec(shape=(self.batch_size, self.timesteps, self.input_dim))]\n",
        "        self.built = True\n",
        "\n",
        "    def _time_distributed_dense(self,x, w, b=None, dropout=None,\n",
        "                                input_dim=None, output_dim=None,\n",
        "                                timesteps=None, training=None):\n",
        "        \"\"\"Apply `y . w + b` for every temporal slice y of x.\n",
        "        # Arguments\n",
        "            x: input tensor.\n",
        "            w: weight matrix.\n",
        "            b: optional bias vector.\n",
        "            dropout: wether to apply dropout (same dropout mask\n",
        "                for every temporal slice of the input).\n",
        "            input_dim: integer; optional dimensionality of the input.\n",
        "            output_dim: integer; optional dimensionality of the output.\n",
        "            timesteps: integer; optional number of timesteps.\n",
        "            training: training phase tensor or boolean.\n",
        "        # Returns\n",
        "            Output tensor.\n",
        "        \"\"\"\n",
        "        if not input_dim:\n",
        "            input_dim = K.shape(x)[2]\n",
        "        if not timesteps:\n",
        "            timesteps = K.shape(x)[1]\n",
        "        if not output_dim:\n",
        "            output_dim = K.shape(w)[1]\n",
        "\n",
        "        if dropout is not None and 0. < dropout < 1.:\n",
        "            # apply the same dropout pattern at every timestep\n",
        "            ones = K.ones_like(K.reshape(x[:, 0, :], (-1, input_dim)))\n",
        "            dropout_matrix = K.dropout(ones, dropout)\n",
        "            expanded_dropout_matrix = K.repeat(dropout_matrix, timesteps)\n",
        "            x = K.in_train_phase(x * expanded_dropout_matrix, x, training=training)\n",
        "\n",
        "        # collapse time dimension and batch dimension together\n",
        "        x = K.reshape(x, (-1, input_dim))\n",
        "        x = K.dot(x, w)\n",
        "        if b is not None:\n",
        "            x = K.bias_add(x, b)\n",
        "        # reshape to 3D tensor\n",
        "        if K.backend() == 'tensorflow':\n",
        "            x = K.reshape(x, K.stack([-1, timesteps, output_dim]))\n",
        "            x.set_shape([None, None, output_dim])\n",
        "        else:\n",
        "            x = K.reshape(x, (-1, timesteps, output_dim))\n",
        "        return x\n",
        "\n",
        "    def call(self, x):\n",
        "        # store the whole sequence so we can \"attend\" to it at each timestep\n",
        "        self.x_seq = x\n",
        "\n",
        "        # apply the a dense layer over the time dimension of the sequence\n",
        "        # do it here because it doesn't depend on any previous steps\n",
        "        # thefore we can save computation time:\n",
        "        self._uxpb = self._time_distributed_dense(self.x_seq, self.U_a, b=self.b_a,\n",
        "                                             input_dim=self.input_dim,\n",
        "                                             timesteps=self.timesteps,\n",
        "                                             output_dim=self.units)\n",
        "\n",
        "        return super(AttentionDecoder, self).call(x, )\n",
        "\n",
        "    def get_initial_state(self, inputs):\n",
        "        # apply the matrix on the first time step to get the initial s0.\n",
        "        s0 = activations.tanh(K.dot(inputs[:, 0], self.W_s))\n",
        "\n",
        "        # from keras.layers.recurrent to initialize a vector of (batchsize,\n",
        "        # output_dim)\n",
        "        y0 = K.zeros_like(inputs)  # (samples, timesteps, input_dims)\n",
        "        y0 = K.sum(y0, axis=(1, 2))  # (samples, )\n",
        "        y0 = K.expand_dims(y0)  # (samples, 1)\n",
        "        y0 = K.tile(y0, [1, self.output_dim])\n",
        "\n",
        "        return [y0, s0]\n",
        "\n",
        "    def step(self, x, states):\n",
        "\n",
        "        ytm, stm = states\n",
        "\n",
        "        # repeat the hidden state to the length of the sequence\n",
        "        _stm = K.repeat(stm, self.timesteps)\n",
        "\n",
        "        # now multiplty the weight matrix with the repeated hidden state\n",
        "        _Wxstm = K.dot(_stm, self.W_a)\n",
        "\n",
        "        # calculate the attention probabilities\n",
        "        # this relates how much other timesteps contributed to this one.\n",
        "        et = K.dot(activations.tanh(_Wxstm + self._uxpb),\n",
        "                   K.expand_dims(self.V_a))\n",
        "        at = K.exp(et)\n",
        "        at_sum = K.sum(at, axis=1)\n",
        "        at_sum_repeated = K.repeat(at_sum, self.timesteps)\n",
        "        at /= at_sum_repeated  # vector of size (batchsize, timesteps, 1)\n",
        "\n",
        "        # calculate the context vector\n",
        "        context = K.squeeze(K.batch_dot(at, self.x_seq, axes=1), axis=1)\n",
        "        # ~~~> calculate new hidden state\n",
        "        # first calculate the \"r\" gate:\n",
        "\n",
        "        rt = activations.sigmoid(\n",
        "            K.dot(ytm, self.W_r)\n",
        "            + K.dot(stm, self.U_r)\n",
        "            + K.dot(context, self.C_r)\n",
        "            + self.b_r)\n",
        "\n",
        "        # now calculate the \"z\" gate\n",
        "        zt = activations.sigmoid(\n",
        "            K.dot(ytm, self.W_z)\n",
        "            + K.dot(stm, self.U_z)\n",
        "            + K.dot(context, self.C_z)\n",
        "            + self.b_z)\n",
        "\n",
        "        # calculate the proposal hidden state:\n",
        "        s_tp = activations.tanh(\n",
        "            K.dot(ytm, self.W_p)\n",
        "            + K.dot((rt * stm), self.U_p)\n",
        "            + K.dot(context, self.C_p)\n",
        "            + self.b_p)\n",
        "\n",
        "        # new hidden state:\n",
        "        st = (1 - zt) * stm + zt * s_tp\n",
        "\n",
        "        yt = activations.softmax(\n",
        "            K.dot(ytm, self.W_o)\n",
        "            + K.dot(stm, self.U_o)\n",
        "            + K.dot(context, self.C_o)\n",
        "            + self.b_o)\n",
        "\n",
        "        if self.return_probabilities:\n",
        "            return at, [yt, st]\n",
        "        else:\n",
        "            return yt, [yt, st]\n",
        "\n",
        "    def compute_output_shape(self, input_shape):\n",
        "        \"\"\"\n",
        "            For Keras internal compatability checking\n",
        "        \"\"\"\n",
        "        if self.return_probabilities:\n",
        "            return (None, self.timesteps, self.timesteps)\n",
        "        else:\n",
        "            return (None, self.timesteps, self.output_dim)\n",
        "\n",
        "    def get_config(self):\n",
        "        \"\"\"\n",
        "            For rebuilding models on load time.\n",
        "        \"\"\"\n",
        "        config = {\n",
        "            'output_dim': self.output_dim,\n",
        "            'units': self.units,\n",
        "            'return_probabilities': self.return_probabilities\n",
        "        }\n",
        "        base_config = super(AttentionDecoder, self).get_config()\n",
        "        return dict(list(base_config.items()) + list(config.items()))"
      ]
    },
    {
      "cell_type": "code",
      "execution_count": null,
      "metadata": {
        "id": "nXdJaaSpNkfO"
      },
      "outputs": [],
      "source": [
        "\n",
        "from unittest import TestCase\n",
        "import numpy as np\n",
        "\n",
        "#from Utils.TrainUtils import TrainUtils\n",
        "#from deeplearning.CycleGAN import CycleGAN\n",
        "\n",
        "\n",
        "class TestCycleGAN(TestCase):\n",
        "\n",
        "    def __init__(self, methodName: str = ...) -> None:\n",
        "        super().__init__(methodName)\n",
        "        self.trainUtils = TrainUtils()\n",
        "\n",
        "    def test_trainSignal(self,path=\"/content/drive/MyDrive/drive-download-20230428T081947Z-001/b010.edf\"):\n",
        "        scgWindows, ecgWindows = self.trainUtils.prepareData(delay=2,path=\"/content/drive/MyDrive/drive-download-20230428T081947Z-001/\")\n",
        "        print(\"ecgWindows:: \",np.array(ecgWindows).shape)\n",
        "        X_train, X_test, Y_train, y_test = self.trainUtils.trainTestSplit(scgWindows, ecgWindows, 0.75)\n",
        "        X_train = np.reshape(X_train, [-1, X_train.shape[1], X_train.shape[2]])\n",
        "        # X_test = np.reshape(X_test, [-1, X_test.shape[1], X_test.shape[2], 1])\n",
        "        Y_train = np.reshape(Y_train, [-1, Y_train.shape[1], Y_train.shape[2]])\n",
        "\n",
        "        print(\"Shape of x train and y train:: \",X_train.shape, Y_train.shape)\n",
        "        print(\"Shape of x test and y test:: \",X_test.shape, y_test.shape)\n",
        "        # y_test = np.reshape(Y_test, [-1, Y_test.shape[1], Y_test.shape[2], 1])\n",
        "        cycleGAN = CycleGAN(X_train.shape[1], X_train.shape[2])\n",
        "        print(\"model instantiated\")\n",
        "        cycleGAN.train(x_train=X_train, y_train=Y_train, epochs=1)\n",
        "        return cycleGAN, X_test, y_test\n",
        "    def divide_test_train(self,path=\"/content/drive/MyDrive/drive-download-20230428T081947Z-001/b010.edf\"):\n",
        "        scgWindows, ecgWindows = self.trainUtils.prepareData(delay=2,path=\"/content/drive/MyDrive/drive-download-20230428T081947Z-001\")\n",
        "        X_train, X_test, Y_train, y_test = self.trainUtils.trainTestSplit(scgWindows, ecgWindows, 0.75)\n",
        "        return X_train, X_test, Y_train, y_test\n",
        "#model = TestCycleGAN(\"test_trainSignal\")"
      ]
    },
    {
      "cell_type": "code",
      "execution_count": null,
      "metadata": {
        "id": "wOqLtJow4Sbk"
      },
      "outputs": [],
      "source": [
        "model = TestCycleGAN(\"test_trainSignal\")"
      ]
    },
    {
      "cell_type": "code",
      "execution_count": null,
      "metadata": {
        "colab": {
          "base_uri": "https://localhost:8080/"
        },
        "id": "-Nk72Kbz7AxB",
        "outputId": "4e0a1ba0-ea77-49d6-f9d9-68e2e66f9205"
      },
      "outputs": [
        {
          "output_type": "stream",
          "name": "stdout",
          "text": [
            "Reading file::  /content/drive/MyDrive/drive-download-20230428T081947Z-001/b010.edf\n",
            "different columns::  ['I', 'II', 'RESP', 'SCG']\n",
            "total number of samples [1505000 1505000 1505000 1505000]\n",
            "before downsampling 1505000\n",
            "after downsampling 301000\n",
            "(1, 301000)\n",
            "ECG all merged shape::  (1, 301000)\n",
            "SCG shape after windowing::  (300, 1000, 1)\n",
            "ECG shape after windowing::  (300, 1000, 1)\n",
            "ecgWindows::  (300, 1000, 1)\n",
            "Splitting into train and test:: \n",
            "Shape of x train and y train::  (225, 1000, 1) (225, 1000, 1)\n",
            "Shape of x test and y test::  (75, 1000, 1) (75, 1000, 1)\n",
            "1 Physical GPUs, 1 Logical GPUs\n",
            "1\n",
            "In building discriminator\n",
            "input shape::  (None, 1000, 1)\n",
            "input shape after first conv1d::  (None, 1000, 13)\n",
            "input shape after second conv1d::  (None, 1000, 13)\n",
            "input shape after third conv1d::  (None, 1000, 13)\n",
            "final shape after 4th layer::  (None, 1000, 1)\n",
            "In building discriminator\n",
            "input shape::  (None, 1000, 1)\n",
            "input shape after first conv1d::  (None, 1000, 13)\n",
            "input shape after second conv1d::  (None, 1000, 13)\n",
            "input shape after third conv1d::  (None, 1000, 13)\n",
            "final shape after 4th layer::  (None, 1000, 1)\n",
            "In build generator\n",
            "Input shape::  (None, 1000, 1)\n",
            " shape after conv1d ::  (None, 1000, 30)\n",
            "apply attention.\n",
            "shape after attention::  (None, 1000, 30)\n",
            "shape after normalizing attention::  (None, 1000, 30)\n",
            "shape after apply lambda::  (None, 1000, 30)\n",
            "input shape after first conv1d::  (None, 1000, 17)\n",
            "input shape after second conv1d::  (None, 1000, 13)\n",
            "input shape after third conv1d::  (None, 1000, 13)\n",
            "input shape after fourth conv1d::  (None, 1000, 1)\n",
            "In build generator\n",
            "Input shape::  (None, 1000, 1)\n",
            " shape after conv1d ::  (None, 1000, 30)\n",
            "apply attention.\n",
            "shape after attention::  (None, 1000, 30)\n",
            "shape after normalizing attention::  (None, 1000, 30)\n",
            "shape after apply lambda::  (None, 1000, 30)\n",
            "input shape after first conv1d::  (None, 1000, 17)\n",
            "input shape after second conv1d::  (None, 1000, 13)\n",
            "input shape after third conv1d::  (None, 1000, 13)\n",
            "input shape after fourth conv1d::  (None, 1000, 1)\n",
            "model created\n",
            "Model compiled\n",
            "model instantiated\n",
            "Num Samples 225\n",
            "In train:: \n",
            "1/1 [==============================] - 0s 301ms/step\n",
            "1/1 [==============================] - 0s 264ms/step\n",
            "1/1 [==============================] - 0s 18ms/step\n",
            "1/1 [==============================] - 0s 18ms/step\n"
          ]
        },
        {
          "output_type": "stream",
          "name": "stderr",
          "text": [
            "WARNING:tensorflow:5 out of the last 9 calls to <function Model.make_train_function.<locals>.train_function at 0x7f2ea04c44c0> triggered tf.function retracing. Tracing is expensive and the excessive number of tracings could be due to (1) creating @tf.function repeatedly in a loop, (2) passing tensors with different shapes, (3) passing Python objects instead of tensors. For (1), please define your @tf.function outside of the loop. For (2), @tf.function has reduce_retracing=True option that can avoid unnecessary retracing. For (3), please refer to https://www.tensorflow.org/guide/function#controlling_retracing and https://www.tensorflow.org/api_docs/python/tf/function for  more details.\n",
            "WARNING:tensorflow:6 out of the last 11 calls to <function Model.make_train_function.<locals>.train_function at 0x7f2ea06f25f0> triggered tf.function retracing. Tracing is expensive and the excessive number of tracings could be due to (1) creating @tf.function repeatedly in a loop, (2) passing tensors with different shapes, (3) passing Python objects instead of tensors. For (1), please define your @tf.function outside of the loop. For (2), @tf.function has reduce_retracing=True option that can avoid unnecessary retracing. For (3), please refer to https://www.tensorflow.org/guide/function#controlling_retracing and https://www.tensorflow.org/api_docs/python/tf/function for  more details.\n"
          ]
        },
        {
          "output_type": "stream",
          "name": "stdout",
          "text": [
            "[Epoch 0/1] [Batch 0/1] [D loss: 1.494586, acc:  52%] [G loss: 6.222922, adv: 0.653080, recon: 0.614367, id: 0.009921] time: 0:00:11.659074 \n",
            "1/1 [==============================] - 0s 21ms/step\n",
            "1/1 [==============================] - 0s 18ms/step\n",
            "1/1 [==============================] - 0s 19ms/step\n",
            "1/1 [==============================] - 0s 19ms/step\n",
            "1/1 [==============================] - 0s 23ms/step\n",
            "1/1 [==============================] - 0s 23ms/step\n",
            "1/1 [==============================] - 0s 18ms/step\n",
            "1/1 [==============================] - 0s 18ms/step\n",
            "[Epoch 0/1] [Batch 1/1] [D loss: 1.485991, acc:  53%] [G loss: 4.937771, adv: 0.657027, recon: 0.452930, id: 0.002826] time: 0:00:12.585741 \n",
            "1/1 [==============================] - 0s 18ms/step\n",
            "1/1 [==============================] - 0s 18ms/step\n",
            "1/1 [==============================] - 0s 17ms/step\n",
            "1/1 [==============================] - 0s 20ms/step\n",
            "[Epoch 0/1] [Batch 2/1] [D loss: 1.480315, acc:  56%] [G loss: 4.739582, adv: 0.668466, recon: 0.425320, id: 0.001527] time: 0:00:12.916699 \n",
            "1/1 [==============================] - 0s 18ms/step\n",
            "1/1 [==============================] - 0s 20ms/step\n",
            "1/1 [==============================] - 0s 21ms/step\n",
            "1/1 [==============================] - 0s 21ms/step\n",
            "[Epoch 0/1] [Batch 3/1] [D loss: 1.462749, acc:  54%] [G loss: 4.740488, adv: 0.612099, recon: 0.439532, id: 0.000671] time: 0:00:13.265979 \n",
            "1/1 [==============================] - 0s 20ms/step\n",
            "1/1 [==============================] - 0s 20ms/step\n",
            "1/1 [==============================] - 0s 17ms/step\n",
            "1/1 [==============================] - 0s 19ms/step\n",
            "[Epoch 0/1] [Batch 4/1] [D loss: 1.453989, acc:  53%] [G loss: 4.653239, adv: 0.701033, recon: 0.406393, id: 0.000523] time: 0:00:13.606034 \n",
            "1/1 [==============================] - 0s 18ms/step\n",
            "1/1 [==============================] - 0s 23ms/step\n",
            "1/1 [==============================] - 0s 20ms/step\n",
            "1/1 [==============================] - 0s 19ms/step\n",
            "[Epoch 0/1] [Batch 5/1] [D loss: 1.438860, acc:  54%] [G loss: 4.121177, adv: 0.561106, recon: 0.374869, id: 0.000183] time: 0:00:13.951048 \n",
            "1/1 [==============================] - 0s 21ms/step\n",
            "1/1 [==============================] - 0s 18ms/step\n",
            "1/1 [==============================] - 0s 18ms/step\n",
            "1/1 [==============================] - 0s 17ms/step\n",
            "[Epoch 0/1] [Batch 6/1] [D loss: 1.441773, acc:  54%] [G loss: 4.426942, adv: 0.541523, recon: 0.417984, id: 0.000433] time: 0:00:14.291655 \n",
            "1/1 [==============================] - 0s 23ms/step\n",
            "1/1 [==============================] - 0s 18ms/step\n",
            "1/1 [==============================] - 0s 18ms/step\n",
            "1/1 [==============================] - 0s 19ms/step\n",
            "[Epoch 0/1] [Batch 7/1] [D loss: 1.434281, acc:  55%] [G loss: 3.792594, adv: 0.550242, recon: 0.336512, id: 0.000215] time: 0:00:14.659379 \n",
            "1/1 [==============================] - 0s 20ms/step\n",
            "1/1 [==============================] - 0s 18ms/step\n",
            "1/1 [==============================] - 0s 18ms/step\n",
            "1/1 [==============================] - 0s 17ms/step\n",
            "[Epoch 0/1] [Batch 8/1] [D loss: 1.413263, acc:  51%] [G loss: 4.202818, adv: 0.660160, recon: 0.360310, id: 0.000195] time: 0:00:15.001673 \n",
            "1/1 [==============================] - 0s 19ms/step\n",
            "1/1 [==============================] - 0s 17ms/step\n",
            "1/1 [==============================] - 0s 18ms/step\n",
            "1/1 [==============================] - 0s 19ms/step\n",
            "[Epoch 0/1] [Batch 9/1] [D loss: 1.416419, acc:  53%] [G loss: 4.177835, adv: 0.627129, recon: 0.365445, id: 0.000090] time: 0:00:15.428016 \n",
            "1/1 [==============================] - 0s 19ms/step\n",
            "1/1 [==============================] - 0s 18ms/step\n",
            "1/1 [==============================] - 0s 18ms/step\n",
            "1/1 [==============================] - 0s 19ms/step\n",
            "[Epoch 0/1] [Batch 10/1] [D loss: 1.418693, acc:  54%] [G loss: 3.717015, adv: 0.608888, recon: 0.312403, id: 0.000042] time: 0:00:15.764348 \n",
            "1/1 [==============================] - 0s 19ms/step\n",
            "1/1 [==============================] - 0s 17ms/step\n",
            "1/1 [==============================] - 0s 18ms/step\n",
            "1/1 [==============================] - 0s 19ms/step\n",
            "[Epoch 0/1] [Batch 11/1] [D loss: 1.388536, acc:  54%] [G loss: 3.842017, adv: 0.574503, recon: 0.336625, id: 0.000048] time: 0:00:16.110562 \n",
            "1/1 [==============================] - 0s 19ms/step\n",
            "1/1 [==============================] - 0s 19ms/step\n",
            "1/1 [==============================] - 0s 21ms/step\n",
            "1/1 [==============================] - 0s 18ms/step\n",
            "[Epoch 0/1] [Batch 12/1] [D loss: 1.382978, acc:  54%] [G loss: 3.598947, adv: 0.617869, recon: 0.295400, id: 0.000087] time: 0:00:16.475994 \n",
            "1/1 [==============================] - 0s 18ms/step\n",
            "1/1 [==============================] - 0s 18ms/step\n",
            "1/1 [==============================] - 0s 19ms/step\n",
            "1/1 [==============================] - 0s 18ms/step\n",
            "[Epoch 0/1] [Batch 13/1] [D loss: 1.367460, acc:  52%] [G loss: 4.232218, adv: 0.589871, recon: 0.381558, id: 0.000016] time: 0:00:16.894863 \n",
            "1/1 [==============================] - 0s 17ms/step\n",
            "1/1 [==============================] - 0s 18ms/step\n",
            "1/1 [==============================] - 0s 20ms/step\n",
            "1/1 [==============================] - 0s 21ms/step\n",
            "[Epoch 0/1] [Batch 14/1] [D loss: 1.355407, acc:  59%] [G loss: 3.408631, adv: 0.514827, recon: 0.297368, id: 0.000044] time: 0:00:17.236921 \n",
            "1/1 [==============================] - 0s 20ms/step\n",
            "1/1 [==============================] - 0s 18ms/step\n",
            "1/1 [==============================] - 0s 21ms/step\n",
            "1/1 [==============================] - 0s 18ms/step\n",
            "[Epoch 0/1] [Batch 15/1] [D loss: 1.325423, acc:  57%] [G loss: 3.774796, adv: 0.618685, recon: 0.317176, id: 0.000047] time: 0:00:17.601903 \n",
            "1/1 [==============================] - 0s 17ms/step\n",
            "1/1 [==============================] - 0s 19ms/step\n",
            "1/1 [==============================] - 0s 18ms/step\n",
            "1/1 [==============================] - 0s 18ms/step\n",
            "[Epoch 0/1] [Batch 16/1] [D loss: 1.317223, acc:  54%] [G loss: 3.520927, adv: 0.587026, recon: 0.293358, id: 0.000049] time: 0:00:17.947497 \n",
            "1/1 [==============================] - 0s 19ms/step\n",
            "1/1 [==============================] - 0s 19ms/step\n",
            "1/1 [==============================] - 0s 17ms/step\n",
            "1/1 [==============================] - 0s 17ms/step\n",
            "[Epoch 0/1] [Batch 17/1] [D loss: 1.304064, acc:  58%] [G loss: 4.009482, adv: 0.535113, recon: 0.367404, id: 0.000033] time: 0:00:18.293282 \n",
            "1/1 [==============================] - 0s 19ms/step\n",
            "1/1 [==============================] - 0s 19ms/step\n",
            "1/1 [==============================] - 0s 17ms/step\n",
            "1/1 [==============================] - 0s 18ms/step\n",
            "[Epoch 0/1] [Batch 18/1] [D loss: 1.297374, acc:  53%] [G loss: 3.534138, adv: 0.653009, recon: 0.278513, id: 0.000063] time: 0:00:18.651365 \n",
            "1/1 [==============================] - 0s 18ms/step\n",
            "1/1 [==============================] - 0s 25ms/step\n",
            "1/1 [==============================] - 0s 18ms/step\n",
            "1/1 [==============================] - 0s 22ms/step\n",
            "[Epoch 0/1] [Batch 19/1] [D loss: 1.321000, acc:  55%] [G loss: 3.629784, adv: 0.648405, recon: 0.291621, id: 0.000069] time: 0:00:19.007867 \n",
            "1/1 [==============================] - 0s 17ms/step\n",
            "1/1 [==============================] - 0s 21ms/step\n",
            "1/1 [==============================] - 0s 19ms/step\n",
            "1/1 [==============================] - 0s 18ms/step\n",
            "[Epoch 0/1] [Batch 20/1] [D loss: 1.310391, acc:  55%] [G loss: 3.145176, adv: 0.516084, recon: 0.264125, id: 0.000095] time: 0:00:19.353562 \n",
            "1/1 [==============================] - 0s 19ms/step\n",
            "1/1 [==============================] - 0s 25ms/step\n",
            "1/1 [==============================] - 0s 21ms/step\n",
            "1/1 [==============================] - 0s 20ms/step\n",
            "1/1 [==============================] - 0s 19ms/step\n",
            "1/1 [==============================] - 0s 19ms/step\n",
            "1/1 [==============================] - 0s 19ms/step\n",
            "1/1 [==============================] - 0s 18ms/step\n",
            "[Epoch 0/1] [Batch 21/1] [D loss: 1.279501, acc:  55%] [G loss: 3.443057, adv: 0.505776, recon: 0.303937, id: 0.000021] time: 0:00:20.025379 \n",
            "1/1 [==============================] - 0s 18ms/step\n",
            "1/1 [==============================] - 0s 18ms/step\n",
            "1/1 [==============================] - 0s 18ms/step\n",
            "1/1 [==============================] - 0s 18ms/step\n",
            "[Epoch 0/1] [Batch 22/1] [D loss: 1.274520, acc:  54%] [G loss: 3.870518, adv: 0.610427, recon: 0.331206, id: 0.000165] time: 0:00:20.455644 \n",
            "1/1 [==============================] - 0s 33ms/step\n",
            "1/1 [==============================] - 0s 30ms/step\n",
            "1/1 [==============================] - 0s 26ms/step\n",
            "1/1 [==============================] - 0s 27ms/step\n",
            "[Epoch 0/1] [Batch 23/1] [D loss: 1.303753, acc:  57%] [G loss: 3.398259, adv: 0.611262, recon: 0.271965, id: 0.000045] time: 0:00:21.023512 \n",
            "1/1 [==============================] - 0s 28ms/step\n",
            "1/1 [==============================] - 0s 27ms/step\n",
            "1/1 [==============================] - 0s 25ms/step\n",
            "1/1 [==============================] - 0s 26ms/step\n",
            "[Epoch 0/1] [Batch 24/1] [D loss: 1.295969, acc:  53%] [G loss: 3.244839, adv: 0.628185, recon: 0.248558, id: 0.000028] time: 0:00:21.546497 \n",
            "1/1 [==============================] - 0s 27ms/step\n",
            "1/1 [==============================] - 0s 32ms/step\n",
            "1/1 [==============================] - 0s 34ms/step\n",
            "1/1 [==============================] - 0s 29ms/step\n",
            "[Epoch 0/1] [Batch 25/1] [D loss: 1.271428, acc:  54%] [G loss: 3.569255, adv: 0.658845, recon: 0.281444, id: 0.000026] time: 0:00:22.030453 \n",
            "1/1 [==============================] - 0s 30ms/step\n",
            "1/1 [==============================] - 0s 26ms/step\n",
            "1/1 [==============================] - 0s 29ms/step\n",
            "1/1 [==============================] - 0s 26ms/step\n",
            "[Epoch 0/1] [Batch 26/1] [D loss: 1.276005, acc:  54%] [G loss: 3.381803, adv: 0.674531, recon: 0.254092, id: 0.000130] time: 0:00:22.483302 \n",
            "1/1 [==============================] - 0s 44ms/step\n",
            "1/1 [==============================] - 0s 28ms/step\n",
            "1/1 [==============================] - 0s 26ms/step\n",
            "1/1 [==============================] - 0s 30ms/step\n",
            "[Epoch 0/1] [Batch 27/1] [D loss: 1.223012, acc:  56%] [G loss: 3.047900, adv: 0.519379, recon: 0.251142, id: 0.000048] time: 0:00:22.968289 \n",
            "1/1 [==============================] - 0s 28ms/step\n",
            "1/1 [==============================] - 0s 26ms/step\n",
            "1/1 [==============================] - 0s 29ms/step\n",
            "1/1 [==============================] - 0s 30ms/step\n",
            "[Epoch 0/1] [Batch 28/1] [D loss: 1.222248, acc:  53%] [G loss: 3.342261, adv: 0.583095, recon: 0.272008, id: 0.000152] time: 0:00:23.442141 \n",
            "1/1 [==============================] - 0s 30ms/step\n",
            "1/1 [==============================] - 0s 36ms/step\n",
            "1/1 [==============================] - 0s 30ms/step\n",
            "1/1 [==============================] - 0s 23ms/step\n",
            "[Epoch 0/1] [Batch 29/1] [D loss: 1.193354, acc:  53%] [G loss: 2.763094, adv: 0.522144, recon: 0.214850, id: 0.000097] time: 0:00:23.914637 \n",
            "1/1 [==============================] - 0s 18ms/step\n",
            "1/1 [==============================] - 0s 19ms/step\n",
            "1/1 [==============================] - 0s 17ms/step\n",
            "1/1 [==============================] - 0s 17ms/step\n",
            "[Epoch 0/1] [Batch 30/1] [D loss: 1.190307, acc:  54%] [G loss: 3.117626, adv: 0.534740, recon: 0.256018, id: 0.000071] time: 0:00:24.257326 \n",
            "1/1 [==============================] - 0s 17ms/step\n",
            "1/1 [==============================] - 0s 17ms/step\n",
            "1/1 [==============================] - 0s 17ms/step\n",
            "1/1 [==============================] - 0s 17ms/step\n",
            "[Epoch 0/1] [Batch 31/1] [D loss: 1.189368, acc:  56%] [G loss: 2.775007, adv: 0.503930, recon: 0.220892, id: 0.000142] time: 0:00:24.611786 \n",
            "1/1 [==============================] - 0s 19ms/step\n",
            "1/1 [==============================] - 0s 18ms/step\n",
            "1/1 [==============================] - 0s 20ms/step\n",
            "1/1 [==============================] - 0s 18ms/step\n",
            "[Epoch 0/1] [Batch 32/1] [D loss: 1.239730, acc:  70%] [G loss: 2.863394, adv: 0.501160, recon: 0.232633, id: 0.000094] time: 0:00:24.983785 \n",
            "1/1 [==============================] - 0s 18ms/step\n",
            "1/1 [==============================] - 0s 19ms/step\n",
            "1/1 [==============================] - 0s 18ms/step\n",
            "1/1 [==============================] - 0s 17ms/step\n",
            "[Epoch 0/1] [Batch 33/1] [D loss: 1.239711, acc:  71%] [G loss: 3.121450, adv: 0.498588, recon: 0.265534, id: 0.000054] time: 0:00:25.333618 \n",
            "1/1 [==============================] - 0s 20ms/step\n",
            "1/1 [==============================] - 0s 21ms/step\n",
            "1/1 [==============================] - 0s 18ms/step\n",
            "1/1 [==============================] - 0s 19ms/step\n",
            "[Epoch 0/1] [Batch 34/1] [D loss: 1.231584, acc:  70%] [G loss: 2.778431, adv: 0.484814, recon: 0.226099, id: 0.000239] time: 0:00:25.681148 \n",
            "1/1 [==============================] - 0s 19ms/step\n",
            "1/1 [==============================] - 0s 21ms/step\n",
            "1/1 [==============================] - 0s 18ms/step\n",
            "1/1 [==============================] - 0s 18ms/step\n",
            "[Epoch 0/1] [Batch 35/1] [D loss: 1.219341, acc:  71%] [G loss: 2.813975, adv: 0.489078, recon: 0.229477, id: 0.000084] time: 0:00:26.042344 \n",
            "1/1 [==============================] - 0s 18ms/step\n",
            "1/1 [==============================] - 0s 27ms/step\n",
            "1/1 [==============================] - 0s 18ms/step\n",
            "1/1 [==============================] - 0s 18ms/step\n",
            "[Epoch 0/1] [Batch 36/1] [D loss: 1.180157, acc:  64%] [G loss: 2.614801, adv: 0.554677, recon: 0.188180, id: 0.000130] time: 0:00:26.478630 \n",
            "1/1 [==============================] - 0s 18ms/step\n",
            "1/1 [==============================] - 0s 19ms/step\n",
            "1/1 [==============================] - 0s 24ms/step\n",
            "1/1 [==============================] - 0s 19ms/step\n",
            "[Epoch 0/1] [Batch 37/1] [D loss: 1.181876, acc:  58%] [G loss: 4.393712, adv: 0.608854, recon: 0.396998, id: 0.000465] time: 0:00:26.833684 \n",
            "1/1 [==============================] - 0s 18ms/step\n",
            "1/1 [==============================] - 0s 19ms/step\n",
            "1/1 [==============================] - 0s 19ms/step\n",
            "1/1 [==============================] - 0s 20ms/step\n",
            "[Epoch 0/1] [Batch 38/1] [D loss: 1.193135, acc:  55%] [G loss: 3.608547, adv: 0.596971, recon: 0.301824, id: 0.000293] time: 0:00:27.189023 \n",
            "1/1 [==============================] - 0s 20ms/step\n",
            "1/1 [==============================] - 0s 17ms/step\n",
            "1/1 [==============================] - 0s 17ms/step\n",
            "1/1 [==============================] - 0s 18ms/step\n",
            "[Epoch 0/1] [Batch 39/1] [D loss: 1.131250, acc:  54%] [G loss: 2.853001, adv: 0.493906, recon: 0.233148, id: 0.000051] time: 0:00:27.527840 \n",
            "1/1 [==============================] - 0s 19ms/step\n",
            "1/1 [==============================] - 0s 18ms/step\n",
            "1/1 [==============================] - 0s 18ms/step\n",
            "1/1 [==============================] - 0s 18ms/step\n",
            "[Epoch 0/1] [Batch 40/1] [D loss: 1.108225, acc:  64%] [G loss: 2.928101, adv: 0.546899, recon: 0.229287, id: 0.000171] time: 0:00:27.897449 \n",
            "1/1 [==============================] - 0s 20ms/step\n",
            "1/1 [==============================] - 0s 19ms/step\n",
            "1/1 [==============================] - 0s 17ms/step\n",
            "1/1 [==============================] - 0s 19ms/step\n",
            "1/1 [==============================] - 0s 19ms/step\n",
            "1/1 [==============================] - 0s 17ms/step\n",
            "1/1 [==============================] - 0s 17ms/step\n",
            "1/1 [==============================] - 0s 21ms/step\n",
            "[Epoch 0/1] [Batch 41/1] [D loss: 1.186737, acc:  55%] [G loss: 3.033569, adv: 0.555568, recon: 0.240303, id: 0.000224] time: 0:00:28.547463 \n",
            "1/1 [==============================] - 0s 19ms/step\n",
            "1/1 [==============================] - 0s 18ms/step\n",
            "1/1 [==============================] - 0s 17ms/step\n",
            "1/1 [==============================] - 0s 18ms/step\n",
            "[Epoch 0/1] [Batch 42/1] [D loss: 1.193170, acc:  55%] [G loss: 3.085605, adv: 0.564283, recon: 0.244629, id: 0.000078] time: 0:00:28.892054 \n",
            "1/1 [==============================] - 0s 19ms/step\n",
            "1/1 [==============================] - 0s 18ms/step\n",
            "1/1 [==============================] - 0s 18ms/step\n",
            "1/1 [==============================] - 0s 17ms/step\n",
            "[Epoch 0/1] [Batch 43/1] [D loss: 1.188275, acc:  53%] [G loss: 3.455965, adv: 0.596033, recon: 0.282986, id: 0.000252] time: 0:00:29.238461 \n",
            "1/1 [==============================] - 0s 19ms/step\n",
            "1/1 [==============================] - 0s 17ms/step\n",
            "1/1 [==============================] - 0s 17ms/step\n",
            "1/1 [==============================] - 0s 18ms/step\n",
            "[Epoch 0/1] [Batch 44/1] [D loss: 1.182173, acc:  53%] [G loss: 3.034819, adv: 0.564185, recon: 0.238305, id: 0.000285] time: 0:00:29.582965 \n",
            "1/1 [==============================] - 0s 18ms/step\n",
            "1/1 [==============================] - 0s 23ms/step\n",
            "1/1 [==============================] - 0s 18ms/step\n",
            "1/1 [==============================] - 0s 21ms/step\n",
            "[Epoch 0/1] [Batch 45/1] [D loss: 1.175512, acc:  53%] [G loss: 2.886150, adv: 0.560742, recon: 0.220583, id: 0.000073] time: 0:00:29.945261 \n",
            "1/1 [==============================] - 0s 18ms/step\n",
            "1/1 [==============================] - 0s 22ms/step\n",
            "1/1 [==============================] - 0s 19ms/step\n",
            "1/1 [==============================] - 0s 20ms/step\n",
            "[Epoch 0/1] [Batch 46/1] [D loss: 1.167440, acc:  54%] [G loss: 2.860472, adv: 0.558482, recon: 0.217938, id: 0.000036] time: 0:00:30.304150 \n",
            "1/1 [==============================] - 0s 18ms/step\n",
            "1/1 [==============================] - 0s 18ms/step\n",
            "1/1 [==============================] - 0s 18ms/step\n",
            "1/1 [==============================] - 0s 20ms/step\n",
            "[Epoch 0/1] [Batch 47/1] [D loss: 1.157519, acc:  55%] [G loss: 3.056969, adv: 0.555841, recon: 0.243160, id: 0.000110] time: 0:00:30.650962 \n",
            "1/1 [==============================] - 0s 23ms/step\n",
            "1/1 [==============================] - 0s 22ms/step\n",
            "1/1 [==============================] - 0s 24ms/step\n",
            "1/1 [==============================] - 0s 18ms/step\n",
            "[Epoch 0/1] [Batch 48/1] [D loss: 1.147292, acc:  54%] [G loss: 2.922680, adv: 0.560580, recon: 0.225189, id: 0.000146] time: 0:00:31.018059 \n",
            "1/1 [==============================] - 0s 20ms/step\n",
            "1/1 [==============================] - 0s 19ms/step\n",
            "1/1 [==============================] - 0s 18ms/step\n",
            "1/1 [==============================] - 0s 19ms/step\n",
            "[Epoch 0/1] [Batch 49/1] [D loss: 1.131899, acc:  53%] [G loss: 2.989520, adv: 0.602296, recon: 0.223116, id: 0.000032] time: 0:00:31.380541 \n",
            "1/1 [==============================] - 0s 25ms/step\n",
            "1/1 [==============================] - 0s 19ms/step\n",
            "1/1 [==============================] - 0s 20ms/step\n",
            "1/1 [==============================] - 0s 18ms/step\n",
            "[Epoch 0/1] [Batch 50/1] [D loss: 1.111235, acc:  53%] [G loss: 2.920431, adv: 0.602851, recon: 0.214341, id: 0.000046] time: 0:00:31.737083 \n",
            "1/1 [==============================] - 0s 19ms/step\n",
            "1/1 [==============================] - 0s 19ms/step\n",
            "1/1 [==============================] - 0s 18ms/step\n",
            "1/1 [==============================] - 0s 17ms/step\n",
            "[Epoch 0/1] [Batch 51/1] [D loss: 1.096843, acc:  55%] [G loss: 3.233446, adv: 0.606190, recon: 0.252633, id: 0.000130] time: 0:00:32.084594 \n",
            "1/1 [==============================] - 0s 20ms/step\n",
            "1/1 [==============================] - 0s 21ms/step\n",
            "1/1 [==============================] - 0s 18ms/step\n",
            "1/1 [==============================] - 0s 22ms/step\n",
            "[Epoch 0/1] [Batch 52/1] [D loss: 1.080616, acc:  51%] [G loss: 3.193236, adv: 0.572450, recon: 0.256041, id: 0.000076] time: 0:00:32.439776 \n",
            "1/1 [==============================] - 0s 19ms/step\n",
            "1/1 [==============================] - 0s 18ms/step\n",
            "1/1 [==============================] - 0s 18ms/step\n",
            "1/1 [==============================] - 0s 18ms/step\n",
            "[Epoch 0/1] [Batch 53/1] [D loss: 1.105947, acc:  56%] [G loss: 2.890204, adv: 0.558542, recon: 0.221639, id: 0.000075] time: 0:00:32.782302 \n",
            "1/1 [==============================] - 0s 19ms/step\n",
            "1/1 [==============================] - 0s 22ms/step\n",
            "1/1 [==============================] - 0s 20ms/step\n",
            "1/1 [==============================] - 0s 21ms/step\n",
            "[Epoch 0/1] [Batch 54/1] [D loss: 1.114166, acc:  61%] [G loss: 2.602161, adv: 0.548911, recon: 0.188042, id: 0.000128] time: 0:00:33.143462 \n",
            "1/1 [==============================] - 0s 18ms/step\n",
            "1/1 [==============================] - 0s 18ms/step\n",
            "1/1 [==============================] - 0s 18ms/step\n",
            "1/1 [==============================] - 0s 20ms/step\n",
            "[Epoch 0/1] [Batch 55/1] [D loss: 1.111663, acc:  61%] [G loss: 2.862632, adv: 0.547532, recon: 0.220946, id: 0.000036] time: 0:00:33.495251 \n",
            "1/1 [==============================] - 0s 18ms/step\n",
            "1/1 [==============================] - 0s 21ms/step\n",
            "1/1 [==============================] - 0s 20ms/step\n",
            "1/1 [==============================] - 0s 18ms/step\n",
            "[Epoch 0/1] [Batch 56/1] [D loss: 1.106849, acc:  64%] [G loss: 2.765019, adv: 0.550341, recon: 0.208041, id: 0.000249] time: 0:00:33.892538 \n",
            "1/1 [==============================] - 0s 31ms/step\n",
            "1/1 [==============================] - 0s 32ms/step\n",
            "1/1 [==============================] - 0s 28ms/step\n",
            "1/1 [==============================] - 0s 27ms/step\n",
            "[Epoch 0/1] [Batch 57/1] [D loss: 1.101294, acc:  61%] [G loss: 2.728611, adv: 0.562934, recon: 0.200342, id: 0.000188] time: 0:00:34.384598 \n",
            "1/1 [==============================] - 0s 31ms/step\n",
            "1/1 [==============================] - 0s 33ms/step\n",
            "1/1 [==============================] - 0s 31ms/step\n",
            "1/1 [==============================] - 0s 32ms/step\n",
            "[Epoch 0/1] [Batch 58/1] [D loss: 1.095404, acc:  63%] [G loss: 2.633727, adv: 0.543018, recon: 0.193461, id: 0.000124] time: 0:00:34.906120 \n",
            "1/1 [==============================] - 0s 29ms/step\n",
            "1/1 [==============================] - 0s 29ms/step\n",
            "1/1 [==============================] - 0s 27ms/step\n",
            "1/1 [==============================] - 0s 28ms/step\n",
            "[Epoch 0/1] [Batch 59/1] [D loss: 1.089444, acc:  62%] [G loss: 2.443860, adv: 0.540262, recon: 0.170417, id: 0.000028] time: 0:00:35.483930 \n",
            "1/1 [==============================] - 0s 27ms/step\n",
            "1/1 [==============================] - 0s 27ms/step\n",
            "1/1 [==============================] - 0s 27ms/step\n",
            "1/1 [==============================] - 0s 30ms/step\n",
            "[Epoch 0/1] [Batch 60/1] [D loss: 1.083178, acc:  64%] [G loss: 2.657152, adv: 0.531918, recon: 0.199164, id: 0.000065] time: 0:00:35.979070 \n",
            "1/1 [==============================] - 0s 27ms/step\n",
            "1/1 [==============================] - 0s 28ms/step\n",
            "1/1 [==============================] - 0s 26ms/step\n",
            "1/1 [==============================] - 0s 27ms/step\n",
            "1/1 [==============================] - 0s 28ms/step\n",
            "1/1 [==============================] - 0s 27ms/step\n",
            "1/1 [==============================] - 0s 27ms/step\n",
            "1/1 [==============================] - 0s 29ms/step\n",
            "[Epoch 0/1] [Batch 61/1] [D loss: 1.076854, acc:  61%] [G loss: 2.490679, adv: 0.530277, recon: 0.178765, id: 0.000087] time: 0:00:36.898337 \n",
            "1/1 [==============================] - 0s 34ms/step\n",
            "1/1 [==============================] - 0s 29ms/step\n",
            "1/1 [==============================] - 0s 28ms/step\n",
            "1/1 [==============================] - 0s 32ms/step\n",
            "[Epoch 0/1] [Batch 62/1] [D loss: 1.070361, acc:  63%] [G loss: 2.384404, adv: 0.532132, recon: 0.165017, id: 0.000054] time: 0:00:37.383014 \n",
            "1/1 [==============================] - 0s 22ms/step\n",
            "1/1 [==============================] - 0s 21ms/step\n",
            "1/1 [==============================] - 0s 23ms/step\n",
            "1/1 [==============================] - 0s 20ms/step\n",
            "[Epoch 0/1] [Batch 63/1] [D loss: 1.063898, acc:  64%] [G loss: 2.468224, adv: 0.533702, recon: 0.175102, id: 0.000121] time: 0:00:37.756314 \n",
            "1/1 [==============================] - 0s 20ms/step\n",
            "1/1 [==============================] - 0s 27ms/step\n",
            "1/1 [==============================] - 0s 19ms/step\n",
            "1/1 [==============================] - 0s 23ms/step\n",
            "[Epoch 0/1] [Batch 64/1] [D loss: 1.056876, acc:  61%] [G loss: 2.543717, adv: 0.552013, recon: 0.179961, id: 0.000083] time: 0:00:38.136830 \n",
            "1/1 [==============================] - 0s 19ms/step\n",
            "1/1 [==============================] - 0s 20ms/step\n",
            "1/1 [==============================] - 0s 20ms/step\n",
            "1/1 [==============================] - 0s 19ms/step\n",
            "[Epoch 0/1] [Batch 65/1] [D loss: 1.049771, acc:  60%] [G loss: 2.650167, adv: 0.537709, recon: 0.196843, id: 0.000156] time: 0:00:38.515166 \n",
            "1/1 [==============================] - 0s 19ms/step\n",
            "1/1 [==============================] - 0s 19ms/step\n",
            "1/1 [==============================] - 0s 19ms/step\n",
            "1/1 [==============================] - 0s 19ms/step\n",
            "[Epoch 0/1] [Batch 66/1] [D loss: 1.041924, acc:  62%] [G loss: 2.485999, adv: 0.531745, recon: 0.177813, id: 0.000044] time: 0:00:38.878473 \n",
            "1/1 [==============================] - 0s 20ms/step\n",
            "1/1 [==============================] - 0s 18ms/step\n",
            "1/1 [==============================] - 0s 19ms/step\n",
            "1/1 [==============================] - 0s 22ms/step\n",
            "[Epoch 0/1] [Batch 67/1] [D loss: 1.033174, acc:  59%] [G loss: 2.481322, adv: 0.535691, recon: 0.176242, id: 0.000077] time: 0:00:39.256252 \n",
            "1/1 [==============================] - 0s 19ms/step\n",
            "1/1 [==============================] - 0s 18ms/step\n",
            "1/1 [==============================] - 0s 18ms/step\n",
            "1/1 [==============================] - 0s 21ms/step\n",
            "[Epoch 0/1] [Batch 68/1] [D loss: 1.021007, acc:  57%] [G loss: 2.790820, adv: 0.542383, recon: 0.213256, id: 0.000145] time: 0:00:39.623701 \n",
            "1/1 [==============================] - 0s 19ms/step\n",
            "1/1 [==============================] - 0s 18ms/step\n",
            "1/1 [==============================] - 0s 19ms/step\n",
            "1/1 [==============================] - 0s 20ms/step\n",
            "[Epoch 0/1] [Batch 69/1] [D loss: 1.008940, acc:  55%] [G loss: 2.779626, adv: 0.564682, recon: 0.206282, id: 0.000086] time: 0:00:39.991109 \n",
            "1/1 [==============================] - 0s 19ms/step\n",
            "1/1 [==============================] - 0s 19ms/step\n",
            "1/1 [==============================] - 0s 26ms/step\n",
            "1/1 [==============================] - 0s 20ms/step\n",
            "[Epoch 0/1] [Batch 70/1] [D loss: 1.003629, acc:  58%] [G loss: 2.430732, adv: 0.553799, recon: 0.165391, id: 0.000072] time: 0:00:40.356551 \n",
            "1/1 [==============================] - 0s 20ms/step\n",
            "1/1 [==============================] - 0s 17ms/step\n",
            "1/1 [==============================] - 0s 21ms/step\n",
            "1/1 [==============================] - 0s 17ms/step\n",
            "[Epoch 0/1] [Batch 71/1] [D loss: 0.981341, acc:  57%] [G loss: 2.472662, adv: 0.521130, recon: 0.178800, id: 0.000108] time: 0:00:40.710750 \n",
            "1/1 [==============================] - 0s 22ms/step\n",
            "1/1 [==============================] - 0s 20ms/step\n",
            "1/1 [==============================] - 0s 19ms/step\n",
            "1/1 [==============================] - 0s 25ms/step\n",
            "[Epoch 0/1] [Batch 72/1] [D loss: 0.979635, acc:  55%] [G loss: 2.268744, adv: 0.521575, recon: 0.153198, id: 0.000121] time: 0:00:41.092192 \n",
            "1/1 [==============================] - 0s 19ms/step\n",
            "1/1 [==============================] - 0s 21ms/step\n",
            "1/1 [==============================] - 0s 19ms/step\n",
            "1/1 [==============================] - 0s 18ms/step\n",
            "[Epoch 0/1] [Batch 73/1] [D loss: 0.951184, acc:  49%] [G loss: 2.654380, adv: 0.535306, recon: 0.197970, id: 0.000177] time: 0:00:41.451353 \n",
            "1/1 [==============================] - 0s 18ms/step\n",
            "1/1 [==============================] - 0s 20ms/step\n",
            "1/1 [==============================] - 0s 19ms/step\n",
            "1/1 [==============================] - 0s 18ms/step\n",
            "[Epoch 0/1] [Batch 74/1] [D loss: 0.942352, acc:  44%] [G loss: 2.369918, adv: 0.526019, recon: 0.164734, id: 0.000117] time: 0:00:41.809870 \n",
            "1/1 [==============================] - 0s 20ms/step\n",
            "1/1 [==============================] - 0s 19ms/step\n",
            "1/1 [==============================] - 0s 20ms/step\n",
            "1/1 [==============================] - 0s 18ms/step\n",
            "[Epoch 0/1] [Batch 75/1] [D loss: 0.946079, acc:  52%] [G loss: 2.410543, adv: 0.569286, recon: 0.158996, id: 0.000082] time: 0:00:42.181270 \n",
            "1/1 [==============================] - 0s 19ms/step\n",
            "1/1 [==============================] - 0s 20ms/step\n",
            "1/1 [==============================] - 0s 21ms/step\n",
            "1/1 [==============================] - 0s 27ms/step\n",
            "[Epoch 0/1] [Batch 76/1] [D loss: 0.977113, acc:  55%] [G loss: 2.561505, adv: 0.577336, recon: 0.175853, id: 0.000133] time: 0:00:42.586767 \n",
            "1/1 [==============================] - 0s 19ms/step\n",
            "1/1 [==============================] - 0s 25ms/step\n",
            "1/1 [==============================] - 0s 19ms/step\n",
            "1/1 [==============================] - 0s 19ms/step\n",
            "[Epoch 0/1] [Batch 77/1] [D loss: 0.985645, acc:  53%] [G loss: 2.490588, adv: 0.557636, recon: 0.171914, id: 0.000069] time: 0:00:42.960595 \n",
            "1/1 [==============================] - 0s 18ms/step\n",
            "1/1 [==============================] - 0s 21ms/step\n",
            "1/1 [==============================] - 0s 20ms/step\n",
            "1/1 [==============================] - 0s 22ms/step\n",
            "[Epoch 0/1] [Batch 78/1] [D loss: 0.981960, acc:  53%] [G loss: 2.407103, adv: 0.558439, recon: 0.161278, id: 0.000061] time: 0:00:43.367865 \n",
            "1/1 [==============================] - 0s 21ms/step\n",
            "1/1 [==============================] - 0s 18ms/step\n",
            "1/1 [==============================] - 0s 18ms/step\n",
            "1/1 [==============================] - 0s 18ms/step\n",
            "[Epoch 0/1] [Batch 79/1] [D loss: 0.977039, acc:  53%] [G loss: 2.562720, adv: 0.564095, recon: 0.179316, id: 0.000057] time: 0:00:43.726667 \n",
            "1/1 [==============================] - 0s 19ms/step\n",
            "1/1 [==============================] - 0s 18ms/step\n",
            "1/1 [==============================] - 0s 17ms/step\n",
            "1/1 [==============================] - 0s 20ms/step\n",
            "[Epoch 0/1] [Batch 80/1] [D loss: 0.971255, acc:  50%] [G loss: 2.287542, adv: 0.563939, recon: 0.144957, id: 0.000095] time: 0:00:44.093287 \n",
            "1/1 [==============================] - 0s 18ms/step\n",
            "1/1 [==============================] - 0s 18ms/step\n",
            "1/1 [==============================] - 0s 19ms/step\n",
            "1/1 [==============================] - 0s 22ms/step\n",
            "1/1 [==============================] - 0s 18ms/step\n",
            "1/1 [==============================] - 0s 17ms/step\n",
            "1/1 [==============================] - 0s 17ms/step\n",
            "1/1 [==============================] - 0s 19ms/step\n",
            "[Epoch 0/1] [Batch 81/1] [D loss: 0.964543, acc:  51%] [G loss: 2.227387, adv: 0.548651, recon: 0.141260, id: 0.000093] time: 0:00:44.784276 \n",
            "1/1 [==============================] - 0s 19ms/step\n",
            "1/1 [==============================] - 0s 17ms/step\n",
            "1/1 [==============================] - 0s 19ms/step\n",
            "1/1 [==============================] - 0s 20ms/step\n",
            "[Epoch 0/1] [Batch 82/1] [D loss: 0.954371, acc:  52%] [G loss: 2.181346, adv: 0.555647, recon: 0.133755, id: 0.000084] time: 0:00:45.145339 \n",
            "1/1 [==============================] - 0s 21ms/step\n",
            "1/1 [==============================] - 0s 19ms/step\n",
            "1/1 [==============================] - 0s 18ms/step\n",
            "1/1 [==============================] - 0s 17ms/step\n",
            "[Epoch 0/1] [Batch 83/1] [D loss: 0.908131, acc:  52%] [G loss: 2.291983, adv: 0.549628, recon: 0.149090, id: 0.000190] time: 0:00:45.507229 \n",
            "1/1 [==============================] - 0s 17ms/step\n",
            "1/1 [==============================] - 0s 17ms/step\n",
            "1/1 [==============================] - 0s 17ms/step\n",
            "1/1 [==============================] - 0s 17ms/step\n",
            "[Epoch 0/1] [Batch 84/1] [D loss: 0.920317, acc:  52%] [G loss: 2.095686, adv: 0.511531, recon: 0.134078, id: 0.000054] time: 0:00:45.926347 \n",
            "1/1 [==============================] - 0s 71ms/step\n",
            "1/1 [==============================] - 0s 96ms/step\n",
            "1/1 [==============================] - 0s 103ms/step\n",
            "1/1 [==============================] - 0s 50ms/step\n",
            "[Epoch 0/1] [Batch 85/1] [D loss: 0.925896, acc:  52%] [G loss: 2.064950, adv: 0.512139, recon: 0.130084, id: 0.000052] time: 0:00:46.939807 \n",
            "1/1 [==============================] - 0s 19ms/step\n",
            "1/1 [==============================] - 0s 19ms/step\n",
            "1/1 [==============================] - 0s 22ms/step\n",
            "1/1 [==============================] - 0s 23ms/step\n",
            "[Epoch 0/1] [Batch 86/1] [D loss: 0.920580, acc:  52%] [G loss: 2.340145, adv: 0.512549, recon: 0.164380, id: 0.000118] time: 0:00:47.297365 \n",
            "1/1 [==============================] - 0s 30ms/step\n",
            "1/1 [==============================] - 0s 30ms/step\n",
            "1/1 [==============================] - 0s 28ms/step\n",
            "1/1 [==============================] - 0s 30ms/step\n",
            "[Epoch 0/1] [Batch 87/1] [D loss: 0.905688, acc:  52%] [G loss: 1.971955, adv: 0.508887, recon: 0.119272, id: 0.000151] time: 0:00:47.742477 \n",
            "1/1 [==============================] - 0s 32ms/step\n",
            "1/1 [==============================] - 0s 31ms/step\n",
            "1/1 [==============================] - 0s 26ms/step\n",
            "1/1 [==============================] - 0s 27ms/step\n",
            "[Epoch 0/1] [Batch 88/1] [D loss: 0.876556, acc:  53%] [G loss: 2.218562, adv: 0.532102, recon: 0.144294, id: 0.000110] time: 0:00:48.218353 \n",
            "1/1 [==============================] - 0s 31ms/step\n",
            "1/1 [==============================] - 0s 25ms/step\n",
            "1/1 [==============================] - 0s 25ms/step\n",
            "1/1 [==============================] - 0s 25ms/step\n",
            "[Epoch 0/1] [Batch 89/1] [D loss: 0.852896, acc:  52%] [G loss: 2.102319, adv: 0.486171, recon: 0.141246, id: 0.000100] time: 0:00:48.663650 \n",
            "1/1 [==============================] - 0s 30ms/step\n",
            "1/1 [==============================] - 0s 30ms/step\n",
            "1/1 [==============================] - 0s 31ms/step\n",
            "1/1 [==============================] - 0s 29ms/step\n",
            "[Epoch 0/1] [Batch 90/1] [D loss: 0.836318, acc:  48%] [G loss: 2.917919, adv: 0.556686, recon: 0.225566, id: 0.000364] time: 0:00:49.152041 \n",
            "1/1 [==============================] - 0s 33ms/step\n",
            "1/1 [==============================] - 0s 25ms/step\n",
            "1/1 [==============================] - 0s 26ms/step\n",
            "1/1 [==============================] - 0s 26ms/step\n",
            "[Epoch 0/1] [Batch 91/1] [D loss: 0.819996, acc:  55%] [G loss: 2.202884, adv: 0.502530, recon: 0.149727, id: 0.000136] time: 0:00:49.620688 \n",
            "1/1 [==============================] - 0s 31ms/step\n",
            "1/1 [==============================] - 0s 27ms/step\n",
            "1/1 [==============================] - 0s 27ms/step\n",
            "1/1 [==============================] - 0s 25ms/step\n",
            "[Epoch 0/1] [Batch 92/1] [D loss: 0.884374, acc:  51%] [G loss: 1.855538, adv: 0.504029, recon: 0.105934, id: 0.000141] time: 0:00:50.172075 \n",
            "1/1 [==============================] - 0s 26ms/step\n",
            "1/1 [==============================] - 0s 28ms/step\n",
            "1/1 [==============================] - 0s 26ms/step\n",
            "1/1 [==============================] - 0s 27ms/step\n",
            "[Epoch 0/1] [Batch 93/1] [D loss: 0.896179, acc:  50%] [G loss: 3.095439, adv: 0.516965, recon: 0.257688, id: 0.000132] time: 0:00:50.636425 \n",
            "1/1 [==============================] - 0s 28ms/step\n",
            "1/1 [==============================] - 0s 29ms/step\n",
            "1/1 [==============================] - 0s 28ms/step\n",
            "1/1 [==============================] - 0s 19ms/step\n",
            "[Epoch 0/1] [Batch 94/1] [D loss: 0.895480, acc:  52%] [G loss: 2.061735, adv: 0.497744, recon: 0.133279, id: 0.000266] time: 0:00:51.060383 \n",
            "1/1 [==============================] - 0s 17ms/step\n",
            "1/1 [==============================] - 0s 23ms/step\n",
            "1/1 [==============================] - 0s 17ms/step\n",
            "1/1 [==============================] - 0s 18ms/step\n",
            "[Epoch 0/1] [Batch 95/1] [D loss: 0.892597, acc:  57%] [G loss: 2.138663, adv: 0.477385, recon: 0.147986, id: 0.000068] time: 0:00:51.422942 \n",
            "1/1 [==============================] - 0s 17ms/step\n",
            "1/1 [==============================] - 0s 17ms/step\n",
            "1/1 [==============================] - 0s 18ms/step\n",
            "1/1 [==============================] - 0s 18ms/step\n",
            "[Epoch 0/1] [Batch 96/1] [D loss: 0.888970, acc:  55%] [G loss: 2.060135, adv: 0.483931, recon: 0.136533, id: 0.000158] time: 0:00:51.788377 \n",
            "1/1 [==============================] - 0s 19ms/step\n",
            "1/1 [==============================] - 0s 18ms/step\n",
            "1/1 [==============================] - 0s 19ms/step\n",
            "1/1 [==============================] - 0s 18ms/step\n",
            "[Epoch 0/1] [Batch 97/1] [D loss: 0.884810, acc:  57%] [G loss: 2.283012, adv: 0.484082, recon: 0.164354, id: 0.000290] time: 0:00:52.133343 \n",
            "1/1 [==============================] - 0s 19ms/step\n",
            "1/1 [==============================] - 0s 20ms/step\n",
            "1/1 [==============================] - 0s 19ms/step\n",
            "1/1 [==============================] - 0s 18ms/step\n",
            "[Epoch 0/1] [Batch 98/1] [D loss: 0.880240, acc:  55%] [G loss: 2.106908, adv: 0.485303, recon: 0.142037, id: 0.000140] time: 0:00:52.488311 \n",
            "1/1 [==============================] - 0s 23ms/step\n",
            "1/1 [==============================] - 0s 19ms/step\n",
            "1/1 [==============================] - 0s 19ms/step\n",
            "1/1 [==============================] - 0s 21ms/step\n",
            "[Epoch 0/1] [Batch 99/1] [D loss: 0.875761, acc:  55%] [G loss: 2.304628, adv: 0.486398, recon: 0.166477, id: 0.000291] time: 0:00:52.844396 \n",
            "1/1 [==============================] - 0s 18ms/step\n",
            "1/1 [==============================] - 0s 17ms/step\n",
            "1/1 [==============================] - 0s 21ms/step\n",
            "1/1 [==============================] - 0s 25ms/step\n",
            "[Epoch 0/1] [Batch 100/1] [D loss: 0.871114, acc:  54%] [G loss: 2.262251, adv: 0.490621, recon: 0.160125, id: 0.000119] time: 0:00:53.217357 \n",
            "1/1 [==============================] - 0s 19ms/step\n",
            "1/1 [==============================] - 0s 21ms/step\n",
            "1/1 [==============================] - 0s 19ms/step\n",
            "1/1 [==============================] - 0s 18ms/step\n",
            "1/1 [==============================] - 0s 18ms/step\n",
            "1/1 [==============================] - 0s 17ms/step\n",
            "1/1 [==============================] - 0s 17ms/step\n",
            "1/1 [==============================] - 0s 17ms/step\n",
            "[Epoch 0/1] [Batch 101/1] [D loss: 0.866516, acc:  52%] [G loss: 2.110025, adv: 0.497647, recon: 0.139340, id: 0.000236] time: 0:00:53.950796 \n",
            "1/1 [==============================] - 0s 19ms/step\n",
            "1/1 [==============================] - 0s 18ms/step\n",
            "1/1 [==============================] - 0s 18ms/step\n",
            "1/1 [==============================] - 0s 18ms/step\n",
            "[Epoch 0/1] [Batch 102/1] [D loss: 0.861726, acc:  52%] [G loss: 2.033467, adv: 0.508277, recon: 0.127113, id: 0.000133] time: 0:00:54.291608 \n",
            "1/1 [==============================] - 0s 19ms/step\n",
            "1/1 [==============================] - 0s 19ms/step\n",
            "1/1 [==============================] - 0s 19ms/step\n",
            "1/1 [==============================] - 0s 18ms/step\n",
            "[Epoch 0/1] [Batch 103/1] [D loss: 0.857020, acc:  50%] [G loss: 2.125247, adv: 0.487726, recon: 0.143723, id: 0.000239] time: 0:00:54.727467 \n",
            "1/1 [==============================] - 0s 19ms/step\n",
            "1/1 [==============================] - 0s 18ms/step\n",
            "1/1 [==============================] - 0s 18ms/step\n",
            "1/1 [==============================] - 0s 19ms/step\n",
            "[Epoch 0/1] [Batch 104/1] [D loss: 0.852309, acc:  52%] [G loss: 1.865982, adv: 0.471108, recon: 0.115469, id: 0.000226] time: 0:00:55.077362 \n",
            "1/1 [==============================] - 0s 19ms/step\n",
            "1/1 [==============================] - 0s 19ms/step\n",
            "1/1 [==============================] - 0s 24ms/step\n",
            "1/1 [==============================] - 0s 17ms/step\n",
            "[Epoch 0/1] [Batch 105/1] [D loss: 0.847589, acc:  53%] [G loss: 2.127385, adv: 0.480870, recon: 0.145704, id: 0.000069] time: 0:00:55.521944 \n",
            "1/1 [==============================] - 0s 18ms/step\n",
            "1/1 [==============================] - 0s 19ms/step\n",
            "1/1 [==============================] - 0s 17ms/step\n",
            "1/1 [==============================] - 0s 19ms/step\n",
            "[Epoch 0/1] [Batch 106/1] [D loss: 0.842819, acc:  55%] [G loss: 1.876304, adv: 0.465055, recon: 0.118273, id: 0.000133] time: 0:00:55.870388 \n",
            "1/1 [==============================] - 0s 21ms/step\n",
            "1/1 [==============================] - 0s 20ms/step\n",
            "1/1 [==============================] - 0s 18ms/step\n",
            "1/1 [==============================] - 0s 18ms/step\n",
            "[Epoch 0/1] [Batch 107/1] [D loss: 0.837825, acc:  54%] [G loss: 2.049220, adv: 0.466523, recon: 0.139521, id: 0.000049] time: 0:00:56.302774 \n",
            "1/1 [==============================] - 0s 18ms/step\n",
            "1/1 [==============================] - 0s 17ms/step\n",
            "1/1 [==============================] - 0s 20ms/step\n",
            "1/1 [==============================] - 0s 20ms/step\n",
            "[Epoch 0/1] [Batch 108/1] [D loss: 0.832438, acc:  53%] [G loss: 2.348389, adv: 0.468109, recon: 0.176521, id: 0.000111] time: 0:00:56.667731 \n",
            "1/1 [==============================] - 0s 23ms/step\n",
            "1/1 [==============================] - 0s 18ms/step\n",
            "1/1 [==============================] - 0s 17ms/step\n",
            "1/1 [==============================] - 0s 20ms/step\n",
            "[Epoch 0/1] [Batch 109/1] [D loss: 0.826162, acc:  52%] [G loss: 2.197629, adv: 0.472792, recon: 0.156504, id: 0.000236] time: 0:00:57.017000 \n",
            "1/1 [==============================] - 0s 18ms/step\n",
            "1/1 [==============================] - 0s 18ms/step\n",
            "1/1 [==============================] - 0s 18ms/step\n",
            "1/1 [==============================] - 0s 17ms/step\n",
            "[Epoch 0/1] [Batch 110/1] [D loss: 0.821211, acc:  52%] [G loss: 2.021869, adv: 0.469487, recon: 0.135360, id: 0.000189] time: 0:00:57.377209 \n",
            "1/1 [==============================] - 0s 18ms/step\n",
            "1/1 [==============================] - 0s 17ms/step\n",
            "1/1 [==============================] - 0s 19ms/step\n",
            "1/1 [==============================] - 0s 17ms/step\n",
            "[Epoch 0/1] [Batch 111/1] [D loss: 0.812774, acc:  52%] [G loss: 2.120859, adv: 0.461000, recon: 0.149856, id: 0.000185] time: 0:00:57.730263 \n",
            "1/1 [==============================] - 0s 19ms/step\n",
            "1/1 [==============================] - 0s 20ms/step\n",
            "1/1 [==============================] - 0s 18ms/step\n",
            "1/1 [==============================] - 0s 18ms/step\n",
            "[Epoch 0/1] [Batch 112/1] [D loss: 0.794879, acc:  52%] [G loss: 2.305618, adv: 0.466891, recon: 0.171477, id: 0.000414] time: 0:00:58.095001 \n",
            "1/1 [==============================] - 0s 17ms/step\n",
            "1/1 [==============================] - 0s 17ms/step\n",
            "1/1 [==============================] - 0s 18ms/step\n",
            "1/1 [==============================] - 0s 18ms/step\n",
            "[Epoch 0/1] [Batch 113/1] [D loss: 0.768243, acc:  54%] [G loss: 2.113434, adv: 0.419177, recon: 0.159383, id: 0.000148] time: 0:00:58.449296 \n",
            "1/1 [==============================] - 0s 19ms/step\n",
            "1/1 [==============================] - 0s 19ms/step\n",
            "1/1 [==============================] - 0s 18ms/step\n",
            "1/1 [==============================] - 0s 18ms/step\n",
            "[Epoch 0/1] [Batch 114/1] [D loss: 0.778917, acc:  50%] [G loss: 2.295678, adv: 0.399701, recon: 0.187033, id: 0.000193] time: 0:00:58.806367 \n",
            "1/1 [==============================] - 0s 20ms/step\n",
            "1/1 [==============================] - 0s 19ms/step\n",
            "1/1 [==============================] - 0s 18ms/step\n",
            "1/1 [==============================] - 0s 18ms/step\n",
            "[Epoch 0/1] [Batch 115/1] [D loss: 0.767748, acc:  49%] [G loss: 2.304707, adv: 0.442765, recon: 0.177396, id: 0.000238] time: 0:00:59.175773 \n",
            "1/1 [==============================] - 0s 23ms/step\n",
            "1/1 [==============================] - 0s 21ms/step\n",
            "1/1 [==============================] - 0s 18ms/step\n",
            "1/1 [==============================] - 0s 18ms/step\n",
            "[Epoch 0/1] [Batch 116/1] [D loss: 0.748477, acc:  51%] [G loss: 2.377981, adv: 0.446376, recon: 0.185652, id: 0.000254] time: 0:00:59.559639 \n",
            "1/1 [==============================] - 0s 18ms/step\n",
            "1/1 [==============================] - 0s 17ms/step\n",
            "1/1 [==============================] - 0s 18ms/step\n",
            "1/1 [==============================] - 0s 18ms/step\n",
            "[Epoch 0/1] [Batch 117/1] [D loss: 0.741926, acc:  57%] [G loss: 2.202145, adv: 0.393882, recon: 0.176797, id: 0.000136] time: 0:00:59.924574 \n",
            "1/1 [==============================] - 0s 19ms/step\n",
            "1/1 [==============================] - 0s 17ms/step\n",
            "1/1 [==============================] - 0s 17ms/step\n",
            "1/1 [==============================] - 0s 18ms/step\n",
            "[Epoch 0/1] [Batch 118/1] [D loss: 0.728050, acc:  54%] [G loss: 2.097396, adv: 0.435273, recon: 0.153356, id: 0.000053] time: 0:01:00.281729 \n",
            "1/1 [==============================] - 0s 23ms/step\n",
            "1/1 [==============================] - 0s 17ms/step\n",
            "1/1 [==============================] - 0s 17ms/step\n",
            "1/1 [==============================] - 0s 17ms/step\n",
            "[Epoch 0/1] [Batch 119/1] [D loss: 0.727459, acc:  56%] [G loss: 2.270750, adv: 0.376849, recon: 0.189631, id: 0.000080] time: 0:01:00.634287 \n",
            "1/1 [==============================] - 0s 17ms/step\n",
            "1/1 [==============================] - 0s 18ms/step\n",
            "1/1 [==============================] - 0s 19ms/step\n",
            "1/1 [==============================] - 0s 17ms/step\n",
            "[Epoch 0/1] [Batch 120/1] [D loss: 0.762174, acc:  61%] [G loss: 2.226360, adv: 0.386797, recon: 0.181595, id: 0.000103] time: 0:01:01.096127 \n",
            "1/1 [==============================] - 0s 25ms/step\n",
            "1/1 [==============================] - 0s 26ms/step\n",
            "1/1 [==============================] - 0s 26ms/step\n",
            "1/1 [==============================] - 0s 25ms/step\n",
            "1/1 [==============================] - 0s 26ms/step\n",
            "1/1 [==============================] - 0s 26ms/step\n",
            "1/1 [==============================] - 0s 34ms/step\n",
            "1/1 [==============================] - 0s 25ms/step\n",
            "[Epoch 0/1] [Batch 121/1] [D loss: 0.767694, acc:  64%] [G loss: 1.769612, adv: 0.380572, recon: 0.126058, id: 0.000085] time: 0:01:02.109858 \n",
            "1/1 [==============================] - 0s 27ms/step\n",
            "1/1 [==============================] - 0s 26ms/step\n",
            "1/1 [==============================] - 0s 32ms/step\n",
            "1/1 [==============================] - 0s 25ms/step\n",
            "[Epoch 0/1] [Batch 122/1] [D loss: 0.764230, acc:  67%] [G loss: 1.875700, adv: 0.377270, recon: 0.140145, id: 0.000066] time: 0:01:02.576669 \n",
            "1/1 [==============================] - 0s 38ms/step\n",
            "1/1 [==============================] - 0s 28ms/step\n",
            "1/1 [==============================] - 0s 26ms/step\n",
            "1/1 [==============================] - 0s 28ms/step\n",
            "[Epoch 0/1] [Batch 123/1] [D loss: 0.758642, acc:  65%] [G loss: 1.735848, adv: 0.384900, recon: 0.120755, id: 0.000160] time: 0:01:03.062287 \n",
            "1/1 [==============================] - 0s 27ms/step\n",
            "1/1 [==============================] - 0s 31ms/step\n",
            "1/1 [==============================] - 0s 29ms/step\n",
            "1/1 [==============================] - 0s 25ms/step\n",
            "[Epoch 0/1] [Batch 124/1] [D loss: 0.750915, acc:  51%] [G loss: 2.192205, adv: 0.391308, recon: 0.176197, id: 0.000242] time: 0:01:03.618867 \n",
            "1/1 [==============================] - 0s 26ms/step\n",
            "1/1 [==============================] - 0s 26ms/step\n",
            "1/1 [==============================] - 0s 30ms/step\n",
            "1/1 [==============================] - 0s 26ms/step\n",
            "[Epoch 0/1] [Batch 125/1] [D loss: 0.736855, acc:  52%] [G loss: 2.238961, adv: 0.389566, recon: 0.182476, id: 0.000358] time: 0:01:04.084832 \n",
            "1/1 [==============================] - 0s 31ms/step\n",
            "1/1 [==============================] - 0s 27ms/step\n",
            "1/1 [==============================] - 0s 27ms/step\n",
            "1/1 [==============================] - 0s 23ms/step\n",
            "[Epoch 0/1] [Batch 126/1] [D loss: 0.689917, acc:  53%] [G loss: 2.018855, adv: 0.415970, recon: 0.148363, id: 0.000199] time: 0:01:04.538386 \n",
            "1/1 [==============================] - 0s 17ms/step\n",
            "1/1 [==============================] - 0s 19ms/step\n",
            "1/1 [==============================] - 0s 17ms/step\n",
            "1/1 [==============================] - 0s 18ms/step\n",
            "[Epoch 0/1] [Batch 127/1] [D loss: 0.660142, acc:  53%] [G loss: 1.920488, adv: 0.384107, recon: 0.144032, id: 0.000158] time: 0:01:04.887571 \n",
            "1/1 [==============================] - 0s 21ms/step\n",
            "1/1 [==============================] - 0s 19ms/step\n",
            "1/1 [==============================] - 0s 22ms/step\n",
            "1/1 [==============================] - 0s 24ms/step\n",
            "[Epoch 0/1] [Batch 128/1] [D loss: 0.677706, acc:  60%] [G loss: 1.702936, adv: 0.370397, recon: 0.120265, id: 0.000204] time: 0:01:05.277215 \n",
            "1/1 [==============================] - 0s 20ms/step\n",
            "1/1 [==============================] - 0s 17ms/step\n",
            "1/1 [==============================] - 0s 17ms/step\n",
            "1/1 [==============================] - 0s 18ms/step\n",
            "[Epoch 0/1] [Batch 129/1] [D loss: 0.627837, acc:  56%] [G loss: 1.808368, adv: 0.362564, recon: 0.135403, id: 0.000193] time: 0:01:05.647906 \n",
            "1/1 [==============================] - 0s 17ms/step\n",
            "1/1 [==============================] - 0s 20ms/step\n",
            "1/1 [==============================] - 0s 21ms/step\n",
            "1/1 [==============================] - 0s 19ms/step\n",
            "[Epoch 0/1] [Batch 130/1] [D loss: 0.658704, acc:  55%] [G loss: 1.939158, adv: 0.383298, recon: 0.146569, id: 0.000237] time: 0:01:06.023123 \n",
            "1/1 [==============================] - 0s 18ms/step\n",
            "1/1 [==============================] - 0s 19ms/step\n",
            "1/1 [==============================] - 0s 20ms/step\n",
            "1/1 [==============================] - 0s 19ms/step\n",
            "[Epoch 0/1] [Batch 131/1] [D loss: 0.636241, acc:  55%] [G loss: 1.751231, adv: 0.365840, recon: 0.127442, id: 0.000263] time: 0:01:06.460731 \n",
            "1/1 [==============================] - 0s 18ms/step\n",
            "1/1 [==============================] - 0s 17ms/step\n",
            "1/1 [==============================] - 0s 18ms/step\n",
            "1/1 [==============================] - 0s 17ms/step\n",
            "[Epoch 0/1] [Batch 132/1] [D loss: 0.655847, acc:  66%] [G loss: 1.851233, adv: 0.352267, recon: 0.143336, id: 0.000158] time: 0:01:06.820189 \n",
            "1/1 [==============================] - 0s 20ms/step\n",
            "1/1 [==============================] - 0s 17ms/step\n",
            "1/1 [==============================] - 0s 19ms/step\n",
            "1/1 [==============================] - 0s 17ms/step\n",
            "[Epoch 0/1] [Batch 133/1] [D loss: 0.640549, acc:  61%] [G loss: 1.969609, adv: 0.383128, recon: 0.150418, id: 0.000130] time: 0:01:07.187900 \n",
            "1/1 [==============================] - 0s 17ms/step\n",
            "1/1 [==============================] - 0s 19ms/step\n",
            "1/1 [==============================] - 0s 18ms/step\n",
            "1/1 [==============================] - 0s 19ms/step\n",
            "[Epoch 0/1] [Batch 134/1] [D loss: 0.639159, acc:  61%] [G loss: 2.110534, adv: 0.359674, recon: 0.173897, id: 0.000148] time: 0:01:07.651411 \n",
            "1/1 [==============================] - 0s 18ms/step\n",
            "1/1 [==============================] - 0s 19ms/step\n",
            "1/1 [==============================] - 0s 18ms/step\n",
            "1/1 [==============================] - 0s 17ms/step\n",
            "[Epoch 0/1] [Batch 135/1] [D loss: 0.624758, acc:  55%] [G loss: 1.745809, adv: 0.350243, recon: 0.130662, id: 0.000571] time: 0:01:08.005529 \n",
            "1/1 [==============================] - 0s 18ms/step\n",
            "1/1 [==============================] - 0s 21ms/step\n",
            "1/1 [==============================] - 0s 17ms/step\n",
            "1/1 [==============================] - 0s 17ms/step\n",
            "[Epoch 0/1] [Batch 136/1] [D loss: 0.600972, acc:  61%] [G loss: 1.962389, adv: 0.357326, recon: 0.155966, id: 0.000135] time: 0:01:08.374689 \n",
            "1/1 [==============================] - 0s 20ms/step\n",
            "1/1 [==============================] - 0s 19ms/step\n",
            "1/1 [==============================] - 0s 19ms/step\n",
            "1/1 [==============================] - 0s 18ms/step\n",
            "[Epoch 0/1] [Batch 137/1] [D loss: 0.593896, acc:  70%] [G loss: 2.057011, adv: 0.342154, recon: 0.171587, id: 0.000092] time: 0:01:08.822125 \n",
            "1/1 [==============================] - 0s 18ms/step\n",
            "1/1 [==============================] - 0s 17ms/step\n",
            "1/1 [==============================] - 0s 19ms/step\n",
            "1/1 [==============================] - 0s 17ms/step\n",
            "[Epoch 0/1] [Batch 138/1] [D loss: 0.592263, acc:  69%] [G loss: 1.682516, adv: 0.339651, recon: 0.125400, id: 0.000190] time: 0:01:09.184777 \n",
            "1/1 [==============================] - 0s 20ms/step\n",
            "1/1 [==============================] - 0s 19ms/step\n",
            "1/1 [==============================] - 0s 18ms/step\n",
            "1/1 [==============================] - 0s 17ms/step\n",
            "[Epoch 0/1] [Batch 139/1] [D loss: 0.589767, acc:  67%] [G loss: 1.831570, adv: 0.338396, recon: 0.144347, id: 0.000141] time: 0:01:09.550862 \n",
            "1/1 [==============================] - 0s 17ms/step\n",
            "1/1 [==============================] - 0s 18ms/step\n",
            "1/1 [==============================] - 0s 17ms/step\n",
            "1/1 [==============================] - 0s 17ms/step\n",
            "[Epoch 0/1] [Batch 140/1] [D loss: 0.584581, acc:  52%] [G loss: 2.393994, adv: 0.342166, recon: 0.213706, id: 0.000224] time: 0:01:09.898065 \n",
            "1/1 [==============================] - 0s 17ms/step\n",
            "1/1 [==============================] - 0s 18ms/step\n",
            "1/1 [==============================] - 0s 18ms/step\n",
            "1/1 [==============================] - 0s 18ms/step\n",
            "1/1 [==============================] - 0s 23ms/step\n",
            "1/1 [==============================] - 0s 23ms/step\n",
            "1/1 [==============================] - 0s 22ms/step\n",
            "1/1 [==============================] - 0s 24ms/step\n",
            "[Epoch 0/1] [Batch 141/1] [D loss: 0.572790, acc:  51%] [G loss: 1.788937, adv: 0.346509, recon: 0.136988, id: 0.000151] time: 0:01:10.973543 \n",
            "1/1 [==============================] - 0s 24ms/step\n",
            "1/1 [==============================] - 0s 23ms/step\n",
            "1/1 [==============================] - 0s 22ms/step\n",
            "1/1 [==============================] - 0s 23ms/step\n",
            "[Epoch 0/1] [Batch 142/1] [D loss: 0.568707, acc:  57%] [G loss: 1.583001, adv: 0.341338, recon: 0.112539, id: 0.000209] time: 0:01:11.379385 \n",
            "1/1 [==============================] - 0s 24ms/step\n",
            "1/1 [==============================] - 0s 22ms/step\n",
            "1/1 [==============================] - 0s 24ms/step\n",
            "1/1 [==============================] - 0s 24ms/step\n",
            "[Epoch 0/1] [Batch 143/1] [D loss: 0.560675, acc:  59%] [G loss: 1.619936, adv: 0.340366, recon: 0.117400, id: 0.000140] time: 0:01:11.786386 \n",
            "1/1 [==============================] - 0s 26ms/step\n",
            "1/1 [==============================] - 0s 27ms/step\n",
            "1/1 [==============================] - 0s 27ms/step\n",
            "1/1 [==============================] - 0s 23ms/step\n",
            "[Epoch 0/1] [Batch 144/1] [D loss: 0.561177, acc:  64%] [G loss: 1.739390, adv: 0.334314, recon: 0.133845, id: 0.000057] time: 0:01:12.196235 \n",
            "1/1 [==============================] - 0s 22ms/step\n",
            "1/1 [==============================] - 0s 22ms/step\n",
            "1/1 [==============================] - 0s 23ms/step\n",
            "1/1 [==============================] - 0s 22ms/step\n",
            "[Epoch 0/1] [Batch 145/1] [D loss: 0.550664, acc:  66%] [G loss: 2.091779, adv: 0.333670, recon: 0.178053, id: 0.000167] time: 0:01:12.606369 \n",
            "1/1 [==============================] - 0s 32ms/step\n",
            "1/1 [==============================] - 0s 23ms/step\n",
            "1/1 [==============================] - 0s 23ms/step\n",
            "1/1 [==============================] - 0s 28ms/step\n",
            "[Epoch 0/1] [Batch 146/1] [D loss: 0.538661, acc:  55%] [G loss: 1.724754, adv: 0.332830, recon: 0.132385, id: 0.000347] time: 0:01:13.005465 \n",
            "1/1 [==============================] - 0s 21ms/step\n",
            "1/1 [==============================] - 0s 25ms/step\n",
            "1/1 [==============================] - 0s 22ms/step\n",
            "1/1 [==============================] - 0s 21ms/step\n",
            "[Epoch 0/1] [Batch 147/1] [D loss: 0.544535, acc:  65%] [G loss: 1.788007, adv: 0.322314, recon: 0.142922, id: 0.000121] time: 0:01:13.396528 \n",
            "1/1 [==============================] - 0s 23ms/step\n",
            "1/1 [==============================] - 0s 23ms/step\n",
            "1/1 [==============================] - 0s 20ms/step\n",
            "1/1 [==============================] - 0s 21ms/step\n",
            "[Epoch 0/1] [Batch 148/1] [D loss: 0.530976, acc:  66%] [G loss: 2.057572, adv: 0.316692, recon: 0.178023, id: 0.000137] time: 0:01:13.804983 \n",
            "1/1 [==============================] - 0s 22ms/step\n",
            "1/1 [==============================] - 0s 25ms/step\n",
            "1/1 [==============================] - 0s 24ms/step\n",
            "1/1 [==============================] - 0s 25ms/step\n",
            "[Epoch 0/1] [Batch 149/1] [D loss: 0.533069, acc:  65%] [G loss: 1.834781, adv: 0.323315, recon: 0.148518, id: 0.000106] time: 0:01:14.202786 \n",
            "1/1 [==============================] - 0s 28ms/step\n",
            "1/1 [==============================] - 0s 20ms/step\n",
            "1/1 [==============================] - 0s 30ms/step\n",
            "1/1 [==============================] - 0s 39ms/step\n",
            "[Epoch 0/1] [Batch 150/1] [D loss: 0.527786, acc:  63%] [G loss: 1.817424, adv: 0.327241, recon: 0.145367, id: 0.000117] time: 0:01:14.695431 \n",
            "1/1 [==============================] - 0s 31ms/step\n",
            "1/1 [==============================] - 0s 34ms/step\n",
            "1/1 [==============================] - 0s 29ms/step\n",
            "1/1 [==============================] - 0s 31ms/step\n",
            "[Epoch 0/1] [Batch 151/1] [D loss: 0.531168, acc:  62%] [G loss: 1.544155, adv: 0.327453, recon: 0.111155, id: 0.000128] time: 0:01:15.212846 \n",
            "1/1 [==============================] - 0s 31ms/step\n",
            "1/1 [==============================] - 0s 27ms/step\n",
            "1/1 [==============================] - 0s 28ms/step\n",
            "1/1 [==============================] - 0s 30ms/step\n",
            "[Epoch 0/1] [Batch 152/1] [D loss: 0.531527, acc:  64%] [G loss: 1.823276, adv: 0.312426, recon: 0.149802, id: 0.000122] time: 0:01:15.696224 \n",
            "1/1 [==============================] - 0s 37ms/step\n",
            "1/1 [==============================] - 0s 33ms/step\n",
            "1/1 [==============================] - 0s 29ms/step\n",
            "1/1 [==============================] - 0s 31ms/step\n",
            "[Epoch 0/1] [Batch 153/1] [D loss: 0.526222, acc:  66%] [G loss: 1.843851, adv: 0.311193, recon: 0.152681, id: 0.000106] time: 0:01:16.212558 \n",
            "1/1 [==============================] - 0s 35ms/step\n",
            "1/1 [==============================] - 0s 32ms/step\n",
            "1/1 [==============================] - 0s 28ms/step\n",
            "1/1 [==============================] - 0s 31ms/step\n",
            "[Epoch 0/1] [Batch 154/1] [D loss: 0.522631, acc:  61%] [G loss: 1.976222, adv: 0.329137, recon: 0.164743, id: 0.000123] time: 0:01:16.782858 \n",
            "1/1 [==============================] - 0s 35ms/step\n",
            "1/1 [==============================] - 0s 29ms/step\n",
            "1/1 [==============================] - 0s 30ms/step\n",
            "1/1 [==============================] - 0s 27ms/step\n",
            "[Epoch 0/1] [Batch 155/1] [D loss: 0.547079, acc:  59%] [G loss: 1.918182, adv: 0.327349, recon: 0.157935, id: 0.000138] time: 0:01:17.284633 \n",
            "1/1 [==============================] - 0s 32ms/step\n",
            "1/1 [==============================] - 0s 27ms/step\n",
            "1/1 [==============================] - 0s 34ms/step\n",
            "1/1 [==============================] - 0s 28ms/step\n",
            "[Epoch 0/1] [Batch 156/1] [D loss: 0.515445, acc:  65%] [G loss: 1.887610, adv: 0.316951, recon: 0.156712, id: 0.000202] time: 0:01:17.858749 \n",
            "1/1 [==============================] - 0s 36ms/step\n",
            "1/1 [==============================] - 0s 25ms/step\n",
            "1/1 [==============================] - 0s 18ms/step\n",
            "1/1 [==============================] - 0s 18ms/step\n",
            "[Epoch 0/1] [Batch 157/1] [D loss: 0.514591, acc:  66%] [G loss: 1.744404, adv: 0.311934, recon: 0.140066, id: 0.000150] time: 0:01:18.279871 \n",
            "1/1 [==============================] - 0s 18ms/step\n",
            "1/1 [==============================] - 0s 19ms/step\n",
            "1/1 [==============================] - 0s 17ms/step\n",
            "1/1 [==============================] - 0s 18ms/step\n",
            "[Epoch 0/1] [Batch 158/1] [D loss: 0.518026, acc:  64%] [G loss: 1.686568, adv: 0.310167, recon: 0.133278, id: 0.000174] time: 0:01:18.639482 \n",
            "1/1 [==============================] - 0s 19ms/step\n",
            "1/1 [==============================] - 0s 28ms/step\n",
            "1/1 [==============================] - 0s 23ms/step\n",
            "1/1 [==============================] - 0s 19ms/step\n",
            "[Epoch 0/1] [Batch 159/1] [D loss: 0.518433, acc:  50%] [G loss: 1.916270, adv: 0.322422, recon: 0.158927, id: 0.000156] time: 0:01:19.038537 \n",
            "1/1 [==============================] - 0s 17ms/step\n",
            "1/1 [==============================] - 0s 19ms/step\n",
            "1/1 [==============================] - 0s 17ms/step\n",
            "1/1 [==============================] - 0s 17ms/step\n",
            "[Epoch 0/1] [Batch 160/1] [D loss: 0.505069, acc:  51%] [G loss: 1.806778, adv: 0.327411, recon: 0.143993, id: 0.000097] time: 0:01:19.404774 \n",
            "1/1 [==============================] - 0s 17ms/step\n",
            "1/1 [==============================] - 0s 19ms/step\n",
            "1/1 [==============================] - 0s 17ms/step\n",
            "1/1 [==============================] - 0s 17ms/step\n",
            "1/1 [==============================] - 0s 23ms/step\n",
            "1/1 [==============================] - 0s 18ms/step\n",
            "1/1 [==============================] - 0s 18ms/step\n",
            "1/1 [==============================] - 0s 17ms/step\n",
            "[Epoch 0/1] [Batch 161/1] [D loss: 0.509020, acc:  51%] [G loss: 1.927672, adv: 0.326810, recon: 0.159255, id: 0.000171] time: 0:01:20.103596 \n",
            "1/1 [==============================] - 0s 17ms/step\n",
            "1/1 [==============================] - 0s 17ms/step\n",
            "1/1 [==============================] - 0s 17ms/step\n",
            "1/1 [==============================] - 0s 17ms/step\n",
            "[Epoch 0/1] [Batch 162/1] [D loss: 0.510751, acc:  64%] [G loss: 1.941299, adv: 0.307806, recon: 0.165709, id: 0.000123] time: 0:01:20.452653 \n",
            "1/1 [==============================] - 0s 17ms/step\n",
            "1/1 [==============================] - 0s 18ms/step\n",
            "1/1 [==============================] - 0s 19ms/step\n",
            "1/1 [==============================] - 0s 17ms/step\n",
            "[Epoch 0/1] [Batch 163/1] [D loss: 0.505636, acc:  63%] [G loss: 1.527344, adv: 0.313064, recon: 0.112651, id: 0.000196] time: 0:01:20.827146 \n",
            "1/1 [==============================] - 0s 19ms/step\n",
            "1/1 [==============================] - 0s 20ms/step\n",
            "1/1 [==============================] - 0s 22ms/step\n",
            "1/1 [==============================] - 0s 19ms/step\n",
            "[Epoch 0/1] [Batch 164/1] [D loss: 0.496301, acc:  64%] [G loss: 1.797468, adv: 0.307871, recon: 0.147714, id: 0.000276] time: 0:01:21.200745 \n",
            "1/1 [==============================] - 0s 18ms/step\n",
            "1/1 [==============================] - 0s 19ms/step\n",
            "1/1 [==============================] - 0s 17ms/step\n",
            "1/1 [==============================] - 0s 19ms/step\n",
            "[Epoch 0/1] [Batch 165/1] [D loss: 0.487328, acc:  66%] [G loss: 1.556817, adv: 0.302667, recon: 0.118934, id: 0.000169] time: 0:01:21.572765 \n",
            "1/1 [==============================] - 0s 18ms/step\n",
            "1/1 [==============================] - 0s 19ms/step\n",
            "1/1 [==============================] - 0s 20ms/step\n",
            "1/1 [==============================] - 0s 18ms/step\n",
            "[Epoch 0/1] [Batch 166/1] [D loss: 0.487404, acc:  66%] [G loss: 1.765889, adv: 0.297258, recon: 0.146421, id: 0.000052] time: 0:01:21.948080 \n",
            "1/1 [==============================] - 0s 17ms/step\n",
            "1/1 [==============================] - 0s 21ms/step\n",
            "1/1 [==============================] - 0s 17ms/step\n",
            "1/1 [==============================] - 0s 17ms/step\n",
            "[Epoch 0/1] [Batch 167/1] [D loss: 0.485460, acc:  64%] [G loss: 1.502310, adv: 0.302175, recon: 0.112243, id: 0.000119] time: 0:01:22.303013 \n",
            "1/1 [==============================] - 0s 20ms/step\n",
            "1/1 [==============================] - 0s 18ms/step\n",
            "1/1 [==============================] - 0s 17ms/step\n",
            "1/1 [==============================] - 0s 17ms/step\n",
            "[Epoch 0/1] [Batch 168/1] [D loss: 0.483137, acc:  64%] [G loss: 1.733887, adv: 0.299565, recon: 0.141844, id: 0.000146] time: 0:01:22.674481 \n",
            "1/1 [==============================] - 0s 19ms/step\n",
            "1/1 [==============================] - 0s 18ms/step\n",
            "1/1 [==============================] - 0s 24ms/step\n",
            "1/1 [==============================] - 0s 19ms/step\n",
            "[Epoch 0/1] [Batch 169/1] [D loss: 0.479916, acc:  50%] [G loss: 1.757820, adv: 0.309948, recon: 0.142238, id: 0.000205] time: 0:01:23.033400 \n",
            "1/1 [==============================] - 0s 18ms/step\n",
            "1/1 [==============================] - 0s 18ms/step\n",
            "1/1 [==============================] - 0s 18ms/step\n",
            "1/1 [==============================] - 0s 19ms/step\n",
            "[Epoch 0/1] [Batch 170/1] [D loss: 0.475326, acc:  52%] [G loss: 1.668298, adv: 0.304794, recon: 0.132336, id: 0.000110] time: 0:01:23.479659 \n",
            "1/1 [==============================] - 0s 20ms/step\n",
            "1/1 [==============================] - 0s 17ms/step\n",
            "1/1 [==============================] - 0s 18ms/step\n",
            "1/1 [==============================] - 0s 17ms/step\n",
            "[Epoch 0/1] [Batch 171/1] [D loss: 0.470152, acc:  58%] [G loss: 1.475553, adv: 0.298273, recon: 0.109875, id: 0.000139] time: 0:01:23.834437 \n",
            "1/1 [==============================] - 0s 20ms/step\n",
            "1/1 [==============================] - 0s 18ms/step\n",
            "1/1 [==============================] - 0s 19ms/step\n",
            "1/1 [==============================] - 0s 18ms/step\n",
            "[Epoch 0/1] [Batch 172/1] [D loss: 0.468877, acc:  54%] [G loss: 1.452419, adv: 0.298453, recon: 0.106936, id: 0.000397] time: 0:01:24.290336 \n",
            "1/1 [==============================] - 0s 18ms/step\n",
            "1/1 [==============================] - 0s 19ms/step\n",
            "1/1 [==============================] - 0s 19ms/step\n",
            "1/1 [==============================] - 0s 17ms/step\n",
            "[Epoch 0/1] [Batch 173/1] [D loss: 0.465827, acc:  49%] [G loss: 1.519865, adv: 0.305073, recon: 0.113714, id: 0.000197] time: 0:01:24.647741 \n",
            "1/1 [==============================] - 0s 17ms/step\n",
            "1/1 [==============================] - 0s 19ms/step\n",
            "1/1 [==============================] - 0s 22ms/step\n",
            "1/1 [==============================] - 0s 26ms/step\n",
            "[Epoch 0/1] [Batch 174/1] [D loss: 0.463156, acc:  49%] [G loss: 1.753405, adv: 0.300898, recon: 0.143944, id: 0.001175] time: 0:01:25.024446 \n",
            "1/1 [==============================] - 0s 19ms/step\n",
            "1/1 [==============================] - 0s 19ms/step\n",
            "1/1 [==============================] - 0s 17ms/step\n",
            "1/1 [==============================] - 0s 17ms/step\n",
            "[Epoch 0/1] [Batch 175/1] [D loss: 0.460230, acc:  50%] [G loss: 1.639485, adv: 0.302124, recon: 0.129398, id: 0.001146] time: 0:01:25.398614 \n",
            "1/1 [==============================] - 0s 19ms/step\n",
            "1/1 [==============================] - 0s 19ms/step\n",
            "1/1 [==============================] - 0s 18ms/step\n",
            "1/1 [==============================] - 0s 22ms/step\n",
            "[Epoch 0/1] [Batch 176/1] [D loss: 0.458562, acc:  55%] [G loss: 1.543372, adv: 0.293368, recon: 0.119576, id: 0.000346] time: 0:01:25.832017 \n",
            "1/1 [==============================] - 0s 19ms/step\n",
            "1/1 [==============================] - 0s 18ms/step\n",
            "1/1 [==============================] - 0s 20ms/step\n",
            "1/1 [==============================] - 0s 19ms/step\n",
            "[Epoch 0/1] [Batch 177/1] [D loss: 0.455882, acc:  62%] [G loss: 1.442549, adv: 0.290034, recon: 0.107807, id: 0.000447] time: 0:01:26.231345 \n",
            "1/1 [==============================] - 0s 21ms/step\n",
            "1/1 [==============================] - 0s 17ms/step\n",
            "1/1 [==============================] - 0s 19ms/step\n",
            "1/1 [==============================] - 0s 18ms/step\n",
            "[Epoch 0/1] [Batch 178/1] [D loss: 0.453625, acc:  61%] [G loss: 1.701080, adv: 0.291262, recon: 0.139818, id: 0.000188] time: 0:01:26.667337 \n",
            "1/1 [==============================] - 0s 19ms/step\n",
            "1/1 [==============================] - 0s 18ms/step\n",
            "1/1 [==============================] - 0s 19ms/step\n",
            "1/1 [==============================] - 0s 17ms/step\n",
            "[Epoch 0/1] [Batch 179/1] [D loss: 0.451100, acc:  53%] [G loss: 1.326002, adv: 0.292255, recon: 0.092685, id: 0.000145] time: 0:01:27.052521 \n",
            "1/1 [==============================] - 0s 19ms/step\n",
            "1/1 [==============================] - 0s 17ms/step\n",
            "1/1 [==============================] - 0s 17ms/step\n",
            "1/1 [==============================] - 0s 20ms/step\n",
            "[Epoch 0/1] [Batch 180/1] [D loss: 0.450182, acc:  52%] [G loss: 1.366624, adv: 0.291456, recon: 0.097962, id: 0.000155] time: 0:01:27.409756 \n",
            "1/1 [==============================] - 0s 19ms/step\n",
            "1/1 [==============================] - 0s 20ms/step\n",
            "1/1 [==============================] - 0s 17ms/step\n",
            "1/1 [==============================] - 0s 18ms/step\n",
            "1/1 [==============================] - 0s 19ms/step\n",
            "1/1 [==============================] - 0s 18ms/step\n",
            "1/1 [==============================] - 0s 20ms/step\n",
            "1/1 [==============================] - 0s 23ms/step\n",
            "[Epoch 0/1] [Batch 181/1] [D loss: 0.449193, acc:  64%] [G loss: 1.625245, adv: 0.285300, recon: 0.131828, id: 0.000078] time: 0:01:28.195533 \n",
            "1/1 [==============================] - 0s 29ms/step\n",
            "1/1 [==============================] - 0s 27ms/step\n",
            "1/1 [==============================] - 0s 32ms/step\n",
            "1/1 [==============================] - 0s 25ms/step\n",
            "[Epoch 0/1] [Batch 182/1] [D loss: 0.448572, acc:  48%] [G loss: 1.605040, adv: 0.295197, recon: 0.126829, id: 0.000354] time: 0:01:28.634092 \n",
            "1/1 [==============================] - 0s 37ms/step\n",
            "1/1 [==============================] - 0s 27ms/step\n",
            "1/1 [==============================] - 0s 31ms/step\n",
            "1/1 [==============================] - 0s 38ms/step\n",
            "[Epoch 0/1] [Batch 183/1] [D loss: 0.452123, acc:  49%] [G loss: 1.930085, adv: 0.293682, recon: 0.167839, id: 0.000138] time: 0:01:29.221864 \n",
            "1/1 [==============================] - 0s 28ms/step\n",
            "1/1 [==============================] - 0s 31ms/step\n",
            "1/1 [==============================] - 0s 27ms/step\n",
            "1/1 [==============================] - 0s 26ms/step\n",
            "[Epoch 0/1] [Batch 184/1] [D loss: 0.443844, acc:  50%] [G loss: 1.737887, adv: 0.286825, recon: 0.145529, id: 0.000142] time: 0:01:29.733151 \n",
            "1/1 [==============================] - 0s 25ms/step\n",
            "1/1 [==============================] - 0s 25ms/step\n",
            "1/1 [==============================] - 0s 26ms/step\n",
            "1/1 [==============================] - 0s 28ms/step\n",
            "[Epoch 0/1] [Batch 185/1] [D loss: 0.441534, acc:  64%] [G loss: 1.799970, adv: 0.280331, recon: 0.154912, id: 0.000143] time: 0:01:30.288667 \n",
            "1/1 [==============================] - 0s 30ms/step\n",
            "1/1 [==============================] - 0s 25ms/step\n",
            "1/1 [==============================] - 0s 26ms/step\n",
            "1/1 [==============================] - 0s 25ms/step\n",
            "[Epoch 0/1] [Batch 186/1] [D loss: 0.440767, acc:  46%] [G loss: 1.768290, adv: 0.289615, recon: 0.148631, id: 0.000216] time: 0:01:30.762532 \n",
            "1/1 [==============================] - 0s 34ms/step\n",
            "1/1 [==============================] - 0s 27ms/step\n",
            "1/1 [==============================] - 0s 25ms/step\n",
            "1/1 [==============================] - 0s 30ms/step\n",
            "[Epoch 0/1] [Batch 187/1] [D loss: 0.438530, acc:  48%] [G loss: 1.882597, adv: 0.293314, recon: 0.161995, id: 0.000120] time: 0:01:31.325024 \n",
            "1/1 [==============================] - 0s 27ms/step\n",
            "1/1 [==============================] - 0s 27ms/step\n",
            "1/1 [==============================] - 0s 26ms/step\n",
            "1/1 [==============================] - 0s 17ms/step\n",
            "[Epoch 0/1] [Batch 188/1] [D loss: 0.434763, acc:  50%] [G loss: 2.107013, adv: 0.290508, recon: 0.190747, id: 0.000239] time: 0:01:31.833483 \n",
            "1/1 [==============================] - 0s 19ms/step\n",
            "1/1 [==============================] - 0s 19ms/step\n",
            "1/1 [==============================] - 0s 17ms/step\n",
            "1/1 [==============================] - 0s 28ms/step\n",
            "[Epoch 0/1] [Batch 189/1] [D loss: 0.433133, acc:  64%] [G loss: 1.703424, adv: 0.276938, recon: 0.143691, id: 0.000269] time: 0:01:32.208401 \n",
            "1/1 [==============================] - 0s 19ms/step\n",
            "1/1 [==============================] - 0s 18ms/step\n",
            "1/1 [==============================] - 0s 19ms/step\n",
            "1/1 [==============================] - 0s 18ms/step\n",
            "[Epoch 0/1] [Batch 190/1] [D loss: 0.431737, acc:  52%] [G loss: 1.527809, adv: 0.282223, recon: 0.120419, id: 0.000198] time: 0:01:32.653317 \n",
            "1/1 [==============================] - 0s 18ms/step\n",
            "1/1 [==============================] - 0s 18ms/step\n",
            "1/1 [==============================] - 0s 19ms/step\n",
            "1/1 [==============================] - 0s 18ms/step\n",
            "[Epoch 0/1] [Batch 191/1] [D loss: 0.429185, acc:  51%] [G loss: 1.458162, adv: 0.281468, recon: 0.111900, id: 0.000337] time: 0:01:33.016113 \n",
            "1/1 [==============================] - 0s 18ms/step\n",
            "1/1 [==============================] - 0s 19ms/step\n",
            "1/1 [==============================] - 0s 20ms/step\n",
            "1/1 [==============================] - 0s 17ms/step\n",
            "[Epoch 0/1] [Batch 192/1] [D loss: 0.427521, acc:  59%] [G loss: 1.641038, adv: 0.276518, recon: 0.135997, id: 0.000328] time: 0:01:33.399019 \n",
            "1/1 [==============================] - 0s 17ms/step\n",
            "1/1 [==============================] - 0s 21ms/step\n",
            "1/1 [==============================] - 0s 19ms/step\n",
            "1/1 [==============================] - 0s 22ms/step\n",
            "[Epoch 0/1] [Batch 193/1] [D loss: 0.425788, acc:  55%] [G loss: 1.246636, adv: 0.278271, recon: 0.086260, id: 0.000176] time: 0:01:33.775408 \n",
            "1/1 [==============================] - 0s 18ms/step\n",
            "1/1 [==============================] - 0s 18ms/step\n",
            "1/1 [==============================] - 0s 18ms/step\n",
            "1/1 [==============================] - 0s 20ms/step\n",
            "[Epoch 0/1] [Batch 194/1] [D loss: 0.424323, acc:  50%] [G loss: 1.690316, adv: 0.282046, recon: 0.140774, id: 0.000564] time: 0:01:34.155554 \n",
            "1/1 [==============================] - 0s 18ms/step\n",
            "1/1 [==============================] - 0s 18ms/step\n",
            "1/1 [==============================] - 0s 17ms/step\n",
            "1/1 [==============================] - 0s 17ms/step\n",
            "[Epoch 0/1] [Batch 195/1] [D loss: 0.422791, acc:  48%] [G loss: 1.609288, adv: 0.281179, recon: 0.130865, id: 0.000200] time: 0:01:34.519245 \n",
            "1/1 [==============================] - 0s 17ms/step\n",
            "1/1 [==============================] - 0s 17ms/step\n",
            "1/1 [==============================] - 0s 17ms/step\n",
            "1/1 [==============================] - 0s 19ms/step\n",
            "[Epoch 0/1] [Batch 196/1] [D loss: 0.421010, acc:  54%] [G loss: 1.241782, adv: 0.276972, recon: 0.085978, id: 0.000274] time: 0:01:34.878533 \n",
            "1/1 [==============================] - 0s 21ms/step\n",
            "1/1 [==============================] - 0s 17ms/step\n",
            "1/1 [==============================] - 0s 17ms/step\n",
            "1/1 [==============================] - 0s 17ms/step\n",
            "[Epoch 0/1] [Batch 197/1] [D loss: 0.419522, acc:  64%] [G loss: 1.387505, adv: 0.271263, recon: 0.105620, id: 0.000182] time: 0:01:35.255357 \n",
            "1/1 [==============================] - 0s 23ms/step\n",
            "1/1 [==============================] - 0s 20ms/step\n",
            "1/1 [==============================] - 0s 18ms/step\n",
            "1/1 [==============================] - 0s 20ms/step\n",
            "[Epoch 0/1] [Batch 198/1] [D loss: 0.418017, acc:  50%] [G loss: 1.511498, adv: 0.275818, recon: 0.119980, id: 0.000283] time: 0:01:35.654510 \n",
            "1/1 [==============================] - 0s 18ms/step\n",
            "1/1 [==============================] - 0s 23ms/step\n",
            "1/1 [==============================] - 0s 19ms/step\n",
            "1/1 [==============================] - 0s 17ms/step\n",
            "[Epoch 0/1] [Batch 199/1] [D loss: 0.416556, acc:  58%] [G loss: 1.396366, adv: 0.274701, recon: 0.105869, id: 0.000130] time: 0:01:36.035837 \n",
            "1/1 [==============================] - 0s 21ms/step\n",
            "1/1 [==============================] - 0s 20ms/step\n",
            "1/1 [==============================] - 0s 22ms/step\n",
            "1/1 [==============================] - 0s 22ms/step\n",
            "[Epoch 0/1] [Batch 200/1] [D loss: 0.414913, acc:  63%] [G loss: 1.464783, adv: 0.269372, recon: 0.115753, id: 0.000070] time: 0:01:36.403597 \n",
            "1/1 [==============================] - 0s 20ms/step\n",
            "1/1 [==============================] - 0s 20ms/step\n",
            "1/1 [==============================] - 0s 17ms/step\n",
            "1/1 [==============================] - 0s 17ms/step\n",
            "1/1 [==============================] - 0s 20ms/step\n",
            "1/1 [==============================] - 0s 18ms/step\n",
            "1/1 [==============================] - 0s 18ms/step\n",
            "1/1 [==============================] - 0s 17ms/step\n",
            "[Epoch 0/1] [Batch 201/1] [D loss: 0.413686, acc:  52%] [G loss: 1.396853, adv: 0.271668, recon: 0.106687, id: 0.000100] time: 0:01:37.111945 \n",
            "1/1 [==============================] - 0s 17ms/step\n",
            "1/1 [==============================] - 0s 17ms/step\n",
            "1/1 [==============================] - 0s 18ms/step\n",
            "1/1 [==============================] - 0s 18ms/step\n",
            "[Epoch 0/1] [Batch 202/1] [D loss: 0.412215, acc:  64%] [G loss: 1.431739, adv: 0.266534, recon: 0.112332, id: 0.000132] time: 0:01:37.467652 \n",
            "1/1 [==============================] - 0s 18ms/step\n",
            "1/1 [==============================] - 0s 17ms/step\n",
            "1/1 [==============================] - 0s 25ms/step\n",
            "1/1 [==============================] - 0s 19ms/step\n",
            "[Epoch 0/1] [Batch 203/1] [D loss: 0.410887, acc:  50%] [G loss: 1.471534, adv: 0.272721, recon: 0.115760, id: 0.000222] time: 0:01:37.833173 \n",
            "1/1 [==============================] - 0s 19ms/step\n",
            "1/1 [==============================] - 0s 19ms/step\n",
            "1/1 [==============================] - 0s 18ms/step\n",
            "1/1 [==============================] - 0s 17ms/step\n",
            "[Epoch 0/1] [Batch 204/1] [D loss: 0.409853, acc:  50%] [G loss: 1.903761, adv: 0.272739, recon: 0.169784, id: 0.000192] time: 0:01:38.282247 \n",
            "1/1 [==============================] - 0s 18ms/step\n",
            "1/1 [==============================] - 0s 17ms/step\n",
            "1/1 [==============================] - 0s 17ms/step\n",
            "1/1 [==============================] - 0s 18ms/step\n",
            "[Epoch 0/1] [Batch 205/1] [D loss: 0.408060, acc:  50%] [G loss: 1.368828, adv: 0.271816, recon: 0.103146, id: 0.000237] time: 0:01:38.646423 \n",
            "1/1 [==============================] - 0s 17ms/step\n",
            "1/1 [==============================] - 0s 17ms/step\n",
            "1/1 [==============================] - 0s 17ms/step\n",
            "1/1 [==============================] - 0s 17ms/step\n",
            "[Epoch 0/1] [Batch 206/1] [D loss: 0.407991, acc:  50%] [G loss: 1.870121, adv: 0.269358, recon: 0.166423, id: 0.000303] time: 0:01:39.021010 \n",
            "1/1 [==============================] - 0s 18ms/step\n",
            "1/1 [==============================] - 0s 20ms/step\n",
            "1/1 [==============================] - 0s 18ms/step\n",
            "1/1 [==============================] - 0s 18ms/step\n",
            "[Epoch 0/1] [Batch 207/1] [D loss: 0.407482, acc:  50%] [G loss: 1.670235, adv: 0.269691, recon: 0.141354, id: 0.000246] time: 0:01:39.472330 \n",
            "1/1 [==============================] - 0s 19ms/step\n",
            "1/1 [==============================] - 0s 18ms/step\n",
            "1/1 [==============================] - 0s 17ms/step\n",
            "1/1 [==============================] - 0s 17ms/step\n",
            "[Epoch 0/1] [Batch 208/1] [D loss: 0.404631, acc:  48%] [G loss: 1.507004, adv: 0.269844, recon: 0.120909, id: 0.000907] time: 0:01:39.831534 \n",
            "1/1 [==============================] - 0s 18ms/step\n",
            "1/1 [==============================] - 0s 17ms/step\n",
            "1/1 [==============================] - 0s 19ms/step\n",
            "1/1 [==============================] - 0s 18ms/step\n",
            "[Epoch 0/1] [Batch 209/1] [D loss: 0.403909, acc:  64%] [G loss: 1.636968, adv: 0.260288, recon: 0.139547, id: 0.000220] time: 0:01:40.195873 \n",
            "1/1 [==============================] - 0s 26ms/step\n",
            "1/1 [==============================] - 0s 19ms/step\n",
            "1/1 [==============================] - 0s 17ms/step\n",
            "1/1 [==============================] - 0s 17ms/step\n",
            "[Epoch 0/1] [Batch 210/1] [D loss: 0.402249, acc:  66%] [G loss: 1.593470, adv: 0.257950, recon: 0.134695, id: 0.000105] time: 0:01:40.573192 \n",
            "1/1 [==============================] - 0s 18ms/step\n",
            "1/1 [==============================] - 0s 18ms/step\n",
            "1/1 [==============================] - 0s 18ms/step\n",
            "1/1 [==============================] - 0s 18ms/step\n",
            "[Epoch 0/1] [Batch 211/1] [D loss: 0.400895, acc:  66%] [G loss: 1.753237, adv: 0.256625, recon: 0.154998, id: 0.000110] time: 0:01:40.930616 \n",
            "1/1 [==============================] - 0s 18ms/step\n",
            "1/1 [==============================] - 0s 18ms/step\n",
            "1/1 [==============================] - 0s 19ms/step\n",
            "1/1 [==============================] - 0s 18ms/step\n",
            "[Epoch 0/1] [Batch 212/1] [D loss: 0.399217, acc:  65%] [G loss: 1.812728, adv: 0.259679, recon: 0.161670, id: 0.000112] time: 0:01:41.316191 \n",
            "1/1 [==============================] - 0s 17ms/step\n",
            "1/1 [==============================] - 0s 20ms/step\n",
            "1/1 [==============================] - 0s 18ms/step\n",
            "1/1 [==============================] - 0s 18ms/step\n",
            "[Epoch 0/1] [Batch 213/1] [D loss: 0.397813, acc:  49%] [G loss: 1.486832, adv: 0.265827, recon: 0.119396, id: 0.000161] time: 0:01:41.767621 \n",
            "1/1 [==============================] - 0s 30ms/step\n",
            "1/1 [==============================] - 0s 27ms/step\n",
            "1/1 [==============================] - 0s 27ms/step\n",
            "1/1 [==============================] - 0s 26ms/step\n",
            "[Epoch 0/1] [Batch 214/1] [D loss: 0.396950, acc:  49%] [G loss: 1.687343, adv: 0.264347, recon: 0.144830, id: 0.000174] time: 0:01:42.331729 \n",
            "1/1 [==============================] - 0s 29ms/step\n",
            "1/1 [==============================] - 0s 26ms/step\n",
            "1/1 [==============================] - 0s 38ms/step\n",
            "1/1 [==============================] - 0s 27ms/step\n",
            "[Epoch 0/1] [Batch 215/1] [D loss: 0.395632, acc:  63%] [G loss: 1.635520, adv: 0.259582, recon: 0.139543, id: 0.000121] time: 0:01:42.806084 \n",
            "1/1 [==============================] - 0s 27ms/step\n",
            "1/1 [==============================] - 0s 28ms/step\n",
            "1/1 [==============================] - 0s 29ms/step\n",
            "1/1 [==============================] - 0s 32ms/step\n",
            "[Epoch 0/1] [Batch 216/1] [D loss: 0.394292, acc:  48%] [G loss: 1.915714, adv: 0.263340, recon: 0.173628, id: 0.000121] time: 0:01:43.407889 \n",
            "1/1 [==============================] - 0s 29ms/step\n",
            "1/1 [==============================] - 0s 25ms/step\n",
            "1/1 [==============================] - 0s 26ms/step\n",
            "1/1 [==============================] - 0s 29ms/step\n",
            "[Epoch 0/1] [Batch 217/1] [D loss: 0.393149, acc:  48%] [G loss: 1.550339, adv: 0.263505, recon: 0.127914, id: 0.000230] time: 0:01:43.962034 \n",
            "1/1 [==============================] - 0s 31ms/step\n",
            "1/1 [==============================] - 0s 27ms/step\n",
            "1/1 [==============================] - 0s 31ms/step\n",
            "1/1 [==============================] - 0s 34ms/step\n",
            "[Epoch 0/1] [Batch 218/1] [D loss: 0.391824, acc:  65%] [G loss: 1.520671, adv: 0.252817, recon: 0.126878, id: 0.000220] time: 0:01:44.539136 \n",
            "1/1 [==============================] - 0s 27ms/step\n",
            "1/1 [==============================] - 0s 26ms/step\n",
            "1/1 [==============================] - 0s 28ms/step\n",
            "1/1 [==============================] - 0s 31ms/step\n",
            "[Epoch 0/1] [Batch 219/1] [D loss: 0.390249, acc:  63%] [G loss: 1.218282, adv: 0.258138, recon: 0.087749, id: 0.000336] time: 0:01:45.029868 \n",
            "1/1 [==============================] - 0s 27ms/step\n",
            "1/1 [==============================] - 0s 28ms/step\n",
            "1/1 [==============================] - 0s 17ms/step\n",
            "1/1 [==============================] - 0s 17ms/step\n",
            "[Epoch 0/1] [Batch 220/1] [D loss: 0.389745, acc:  52%] [G loss: 1.597800, adv: 0.256683, recon: 0.135552, id: 0.000452] time: 0:01:45.445083 \n",
            "1/1 [==============================] - 0s 17ms/step\n",
            "1/1 [==============================] - 0s 18ms/step\n",
            "1/1 [==============================] - 0s 19ms/step\n",
            "1/1 [==============================] - 0s 18ms/step\n",
            "1/1 [==============================] - 0s 19ms/step\n",
            "1/1 [==============================] - 0s 18ms/step\n",
            "1/1 [==============================] - 0s 18ms/step\n",
            "1/1 [==============================] - 0s 18ms/step\n",
            "[Epoch 0/1] [Batch 221/1] [D loss: 0.388541, acc:  65%] [G loss: 1.805921, adv: 0.252420, recon: 0.162634, id: 0.000146] time: 0:01:46.140529 \n",
            "1/1 [==============================] - 0s 17ms/step\n",
            "1/1 [==============================] - 0s 17ms/step\n",
            "1/1 [==============================] - 0s 21ms/step\n",
            "1/1 [==============================] - 0s 20ms/step\n",
            "[Epoch 0/1] [Batch 222/1] [D loss: 0.387814, acc:  65%] [G loss: 1.387172, adv: 0.253744, recon: 0.109959, id: 0.000271] time: 0:01:46.524037 \n",
            "1/1 [==============================] - 0s 18ms/step\n",
            "1/1 [==============================] - 0s 17ms/step\n",
            "1/1 [==============================] - 0s 18ms/step\n",
            "1/1 [==============================] - 0s 17ms/step\n",
            "[Epoch 0/1] [Batch 223/1] [D loss: 0.386272, acc:  64%] [G loss: 1.889353, adv: 0.252030, recon: 0.173159, id: 0.000452] time: 0:01:46.880972 \n",
            "1/1 [==============================] - 0s 19ms/step\n",
            "1/1 [==============================] - 0s 19ms/step\n",
            "1/1 [==============================] - 0s 17ms/step\n",
            "1/1 [==============================] - 0s 18ms/step\n"
          ]
        },
        {
          "output_type": "stream",
          "name": "stderr",
          "text": [
            "WARNING:tensorflow:Compiled the loaded model, but the compiled metrics have yet to be built. `model.compile_metrics` will be empty until you train or evaluate the model.\n"
          ]
        },
        {
          "output_type": "stream",
          "name": "stdout",
          "text": [
            "[Epoch 0/1] [Batch 224/1] [D loss: 0.384510, acc:  49%] [G loss: 1.721434, adv: 0.259199, recon: 0.150378, id: 0.000246] time: 0:01:47.246090 \n"
          ]
        },
        {
          "output_type": "stream",
          "name": "stderr",
          "text": [
            "WARNING:tensorflow:Compiled the loaded model, but the compiled metrics have yet to be built. `model.compile_metrics` will be empty until you train or evaluate the model.\n"
          ]
        }
      ],
      "source": [
        "cycleGan, X_test, y_test = model.test_trainSignal()"
      ]
    },
    {
      "cell_type": "code",
      "execution_count": null,
      "metadata": {
        "id": "Pg9qXAupK8yP"
      },
      "outputs": [],
      "source": [
        "#model = TestcycleGAN(\"test_trainSignal\")"
      ]
    },
    {
      "cell_type": "code",
      "execution_count": null,
      "metadata": {
        "id": "7NFoObzJ9ZxH"
      },
      "outputs": [],
      "source": []
    },
    {
      "cell_type": "code",
      "execution_count": null,
      "metadata": {
        "id": "6if5-W4ALCFs"
      },
      "outputs": [],
      "source": [
        "#cycleGan, X_test, y_test = model.test_trainSignal()"
      ]
    },
    {
      "cell_type": "code",
      "execution_count": null,
      "metadata": {
        "id": "F_EyygfkiS9D",
        "colab": {
          "base_uri": "https://localhost:8080/"
        },
        "outputId": "20697320-5d0c-4172-d8a8-af7ab40ec7e4"
      },
      "outputs": [
        {
          "output_type": "stream",
          "name": "stdout",
          "text": [
            "3/3 [==============================] - 1s 125ms/step\n"
          ]
        }
      ],
      "source": [
        "x_g_AB =cycleGan.g_AB.predict(X_test)\n",
        "#x_g_BA = cycleGan.g_BA.predict(X_test)"
      ]
    },
    {
      "cell_type": "code",
      "execution_count": null,
      "metadata": {
        "id": "vOoeJ1miu81V",
        "colab": {
          "base_uri": "https://localhost:8080/"
        },
        "outputId": "54832398-c9fc-44f4-e748-ed1ffd70df1c"
      },
      "outputs": [
        {
          "output_type": "stream",
          "name": "stdout",
          "text": [
            "75000 75000\n"
          ]
        }
      ],
      "source": [
        "# import pandas as pd\n",
        "# import numpy as np\n",
        "\n",
        "# a = np.array(y_test.flatten())\n",
        "# b = x_g_AB.flatten()\n",
        "# print(len(a), len(b))\n",
        "# df1 = pd.DataFrame({ \"ECG Original\" : a})\n",
        "# df2 = pd.DataFrame({ \"ECG Predicted\" : b})\n",
        "# df1.to_csv(\"/content/drive/MyDrive/ECG_data/original_ECG_1.csv\", index=False)\n",
        "# df2.to_csv(\"/content/drive/MyDrive/ECG_data/generated_ECG_1.csv\", index=False)\n",
        "\n",
        "\n",
        "\n",
        "\n",
        "import pandas as pd\n",
        "import numpy as np\n",
        "\n",
        "# a = np.array(original_scg)\n",
        "a = np.array(y_test.flatten())\n",
        "b = x_g_AB.flatten()\n",
        "print(len(a), len(b))\n",
        "df1 = pd.DataFrame({ \"ECG Original\" : a})\n",
        "df2 = pd.DataFrame({ \"ECG Predicted\" : b})\n",
        "df1.to_csv(\"original_ECG_10.csv\", index=False)\n",
        "#df2.to_csv(\"/content/drive/MyDrive/ECG_data/generated_ECG_10.csv\", index=False)\n"
      ]
    },
    {
      "cell_type": "code",
      "execution_count": null,
      "metadata": {
        "id": "HcUbWMkcVTQA",
        "colab": {
          "base_uri": "https://localhost:8080/"
        },
        "outputId": "01b8e170-55f8-4814-88f6-12264fea2bfc"
      },
      "outputs": [
        {
          "output_type": "stream",
          "name": "stdout",
          "text": [
            "Looking in indexes: https://pypi.org/simple, https://us-python.pkg.dev/colab-wheels/public/simple/\n",
            "Collecting heartpy\n",
            "  Downloading heartpy-1.2.7-py3-none-any.whl (1.0 MB)\n",
            "\u001b[2K     \u001b[90m━━━━━━━━━━━━━━━━━━━━━━━━━━━━━━━━━━━━━━━━\u001b[0m \u001b[32m1.0/1.0 MB\u001b[0m \u001b[31m22.3 MB/s\u001b[0m eta \u001b[36m0:00:00\u001b[0m\n",
            "\u001b[?25hRequirement already satisfied: numpy>=1.17 in /usr/local/lib/python3.10/dist-packages (from heartpy) (1.22.4)\n",
            "Requirement already satisfied: scipy in /usr/local/lib/python3.10/dist-packages (from heartpy) (1.10.1)\n",
            "Requirement already satisfied: matplotlib in /usr/local/lib/python3.10/dist-packages (from heartpy) (3.7.1)\n",
            "Requirement already satisfied: contourpy>=1.0.1 in /usr/local/lib/python3.10/dist-packages (from matplotlib->heartpy) (1.0.7)\n",
            "Requirement already satisfied: cycler>=0.10 in /usr/local/lib/python3.10/dist-packages (from matplotlib->heartpy) (0.11.0)\n",
            "Requirement already satisfied: fonttools>=4.22.0 in /usr/local/lib/python3.10/dist-packages (from matplotlib->heartpy) (4.39.3)\n",
            "Requirement already satisfied: kiwisolver>=1.0.1 in /usr/local/lib/python3.10/dist-packages (from matplotlib->heartpy) (1.4.4)\n",
            "Requirement already satisfied: packaging>=20.0 in /usr/local/lib/python3.10/dist-packages (from matplotlib->heartpy) (23.1)\n",
            "Requirement already satisfied: pillow>=6.2.0 in /usr/local/lib/python3.10/dist-packages (from matplotlib->heartpy) (8.4.0)\n",
            "Requirement already satisfied: pyparsing>=2.3.1 in /usr/local/lib/python3.10/dist-packages (from matplotlib->heartpy) (3.0.9)\n",
            "Requirement already satisfied: python-dateutil>=2.7 in /usr/local/lib/python3.10/dist-packages (from matplotlib->heartpy) (2.8.2)\n",
            "Requirement already satisfied: six>=1.5 in /usr/local/lib/python3.10/dist-packages (from python-dateutil>=2.7->matplotlib->heartpy) (1.16.0)\n",
            "Installing collected packages: heartpy\n",
            "Successfully installed heartpy-1.2.7\n"
          ]
        }
      ],
      "source": [
        "!pip install heartpy"
      ]
    },
    {
      "cell_type": "code",
      "execution_count": null,
      "metadata": {
        "id": "kpOjSUASVWzH"
      },
      "outputs": [],
      "source": [
        "import heartpy as hp\n",
        "import matplotlib.pyplot as plt\n",
        "\n",
        "sample_rate = 250"
      ]
    },
    {
      "cell_type": "code",
      "execution_count": null,
      "metadata": {
        "id": "5ld_q3I2VaDl",
        "colab": {
          "base_uri": "https://localhost:8080/",
          "height": 368
        },
        "outputId": "2898509f-6d11-43df-ea74-c63e2895111f"
      },
      "outputs": [
        {
          "output_type": "display_data",
          "data": {
            "text/plain": [
              "<Figure size 1200x400 with 1 Axes>"
            ],
            "image/png": "[encoded data removed]"
          },
          "metadata": {}
        }
      ],
      "source": [
        "data = hp.get_data('/content/original_ECG_10.csv')\n",
        "\n",
        "plt.figure(figsize=(12,4))\n",
        "plt.plot(data)\n",
        "plt.show()"
      ]
    },
    {
      "cell_type": "code",
      "execution_count": null,
      "metadata": {
        "colab": {
          "base_uri": "https://localhost:8080/",
          "height": 1000
        },
        "id": "DwCoAPRaVgN7",
        "outputId": "d4567d57-d9de-48c2-8391-f36445392777"
      },
      "outputs": [
        {
          "output_type": "stream",
          "name": "stdout",
          "text": [
            "heart rates:  [ 128.20512821   65.50218341  234.375        25.55366269  125.\n",
            "   66.07929515  234.375        84.26966292   41.43646409  123.96694215\n",
            "   66.66666667  230.76923077   26.92998205  127.11864407   64.93506494\n",
            "  241.93548387   25.29510961  125.           65.78947368  230.76923077\n",
            "   26.17801047  121.95121951   66.37168142  234.375        28.30188679\n",
            "  123.96694215   65.2173913   250.           26.26970228  123.96694215\n",
            "   64.93506494  241.93548387   87.20930233 1500.           38.65979381\n",
            "  126.05042017   65.50218341  234.375        27.07581227  125.\n",
            "   65.2173913   254.23728814   30.99173554  123.96694215   65.78947368\n",
            "  254.23728814   33.48214286  126.05042017   66.66666667  238.0952381\n",
            "   30.67484663  129.31034483   65.50218341  241.93548387   28.68068834\n",
            "  126.05042017   65.78947368  238.0952381    26.83363148  126.05042017\n",
            "   66.96428571  223.88059701   28.84615385  122.95081967   64.93506494\n",
            "  277.77777778   81.52173913   55.35055351  118.11023622   66.66666667\n",
            "  241.93548387   32.67973856  319.14893617  123.96694215   66.07929515\n",
            "  234.375        81.52173913   53.38078292 3000.          220.58823529\n",
            "  120.           63.55932203  263.15789474   27.07581227  121.95121951\n",
            "   66.37168142  227.27272727   29.82107356  118.11023622   64.3776824\n",
            "  288.46153846   83.79888268   57.91505792  121.95121951   68.49315068\n",
            "  234.375        35.04672897  120.           67.26457399  241.93548387\n",
            "   33.632287    125.           66.37168142  245.90163934   82.87292818\n",
            "   47.77070064  126.05042017  111.94029851  163.04347826  234.375\n",
            "   81.08108108   44.37869822  127.11864407   66.37168142  238.0952381\n",
            "   97.4025974    42.25352113  119.04761905   67.87330317  230.76923077\n",
            "   29.23976608  121.95121951   65.78947368  250.           27.57352941\n",
            "  125.           66.96428571  223.88059701   28.24858757  123.96694215\n",
            "   67.87330317  227.27272727   29.94011976  120.           67.26457399\n",
            "  234.375        30.86419753  288.46153846  128.20512821   66.07929515\n",
            "  238.0952381    29.82107356  294.11764706  127.11864407   66.66666667\n",
            "  230.76923077   28.30188679  122.95081967   67.26457399  238.0952381\n",
            "   31.57894737  357.14285714  127.11864407   67.56756757  223.88059701\n",
            "   31.25        312.5         128.20512821   88.75739645  258.62068966\n",
            "  238.0952381    29.35420744  128.20512821   67.87330317  211.26760563\n",
            "   31.71247357  333.33333333  128.20512821   63.82978723  277.77777778\n",
            "   28.84615385  126.05042017   67.87330317  227.27272727   30.06012024\n",
            "  125.           69.44444444  214.28571429   31.18503119  127.11864407\n",
            "   66.07929515  254.23728814   30.12048193  127.11864407   67.87330317\n",
            "  227.27272727   31.12033195  128.20512821   64.1025641   277.77777778\n",
            "   38.56041131  375.          125.           66.37168142  245.90163934\n",
            "   38.16793893  288.46153846  127.11864407   65.50218341  254.23728814\n",
            "   31.05590062  348.8372093   125.           65.78947368  254.23728814\n",
            "   92.02453988 1363.63636364   40.76086957  121.95121951   66.37168142\n",
            "  245.90163934   83.79888268   42.85714286  127.11864407   67.26457399\n",
            "  230.76923077   24.91694352  122.95081967   67.26457399  223.88059701\n",
            "   24.          122.95081967   66.07929515  241.93548387   23.65930599\n",
            "  122.95081967   64.3776824   263.15789474   23.58490566  121.95121951\n",
            "   66.07929515  245.90163934   79.78723404   33.18584071  125.\n",
            "   67.87330317  214.28571429   89.28571429  789.47368421   31.91489362\n",
            "  125.           68.49315068  208.33333333   23.18392581  121.95121951\n",
            "   66.37168142  230.76923077   79.78723404   36.40776699  120.96774194\n",
            "   66.96428571  238.0952381    25.59726962  127.11864407   65.50218341\n",
            "  250.           25.38071066  357.14285714  125.           65.50218341\n",
            "  241.93548387   23.18392581  123.96694215   65.78947368  234.375\n",
            "   24.15458937  119.04761905   66.66666667  238.0952381    27.72643253\n",
            "  120.96774194   67.56756757  227.27272727   25.9965338   126.05042017\n",
            "   64.93506494  245.90163934   25.08361204  126.05042017   66.37168142\n",
            "  230.76923077   27.22323049  319.14893617  120.96774194   66.37168142\n",
            "  238.0952381    83.79888268   43.10344828  122.95081967   68.49315068\n",
            "  227.27272727   78.94736842   45.18072289  125.           66.66666667\n",
            "  238.0952381    27.88104089  357.14285714  120.96774194   65.2173913\n",
            "  250.           24.23263328  122.95081967   65.2173913   254.23728814\n",
            "   25.21008403  123.96694215   68.18181818  217.39130435   25.42372881\n",
            "  120.96774194   66.07929515  245.90163934   86.20689655   36.05769231\n",
            "  121.95121951   66.37168142  238.0952381    23.65930599  120.96774194\n",
            "   65.50218341  241.93548387   24.          119.04761905   66.66666667\n",
            "  234.375        81.96721311   40.54054054  125.           65.50218341\n",
            "  263.15789474   81.08108108   42.37288136  127.11864407   66.37168142\n",
            "  241.93548387   85.22727273   35.79952267  126.05042017   64.1025641\n",
            "  267.85714286   78.53403141   34.16856492  122.95081967   66.96428571\n",
            "  220.58823529   82.87292818   32.60869565  120.           66.96428571\n",
            "  227.27272727   70.42253521  576.92307692  833.33333333 7500.\n",
            " 3750.        ]\n",
            "bpm: 55.487053\n",
            "ibi: 1081.333333\n",
            "sdnn: 35.975300\n",
            "sdsd: nan\n",
            "rmssd: nan\n",
            "pnn20: nan\n",
            "pnn50: nan\n",
            "hr_mad: 40.000000\n",
            "sd1: nan\n",
            "sd2: nan\n",
            "s: nan\n",
            "sd1/sd2: nan\n",
            "breathingrate: nan\n"
          ]
        },
        {
          "output_type": "stream",
          "name": "stderr",
          "text": [
            "/usr/local/lib/python3.10/dist-packages/numpy/ma/core.py:5246: RuntimeWarning: Mean of empty slice.\n",
            "  result = super().mean(axis=axis, dtype=dtype, **kwargs)[()]\n",
            "/usr/local/lib/python3.10/dist-packages/numpy/core/fromnumeric.py:3757: RuntimeWarning: Degrees of freedom <= 0 for slice\n",
            "  return _methods._var(a, axis=axis, dtype=dtype, out=out, ddof=ddof,\n",
            "<ipython-input-44-53e8ba367caa>:15: UserWarning: Warning: converting a masked element to nan.\n",
            "  print('%s: %f' %(measure, m[measure]))\n"
          ]
        },
        {
          "output_type": "display_data",
          "data": {
            "text/plain": [
              "<Figure size 1200x400 with 0 Axes>"
            ]
          },
          "metadata": {}
        },
        {
          "output_type": "display_data",
          "data": {
            "text/plain": [
              "<Figure size 640x480 with 1 Axes>"
            ],
            "image/png": "[encoded data removed]"
          },
          "metadata": {}
        }
      ],
      "source": [
        "#run analysis\n",
        "wd, m = hp.process(data[1:], sample_rate)\n",
        "\n",
        "#visualise in plot of custom size\n",
        "plt.figure(figsize=(12,4))\n",
        "hp.plotter(wd, m)\n",
        "#print(len(wd['hr']))\n",
        "#print(wd.keys())\n",
        "#print(wd['RR_list'])\n",
        "#heart rates\n",
        "hrs = 60000/wd['RR_list']\n",
        "print(\"heart rates: \",hrs)\n",
        "#display computed measures\n",
        "for measure in m.keys():\n",
        "    print('%s: %f' %(measure, m[measure]))"
      ]
    },
    {
      "cell_type": "code",
      "execution_count": null,
      "metadata": {
        "id": "iRmQp2UPVjL0"
      },
      "outputs": [],
      "source": [
        "\n",
        "df2 = pd.DataFrame({ \"Heart Rate\" : np.array(hrs)})\n",
        "df2.to_csv(\"hr_original_10.csv\", index=False)\n"
      ]
    },
    {
      "cell_type": "code",
      "execution_count": null,
      "metadata": {
        "colab": {
          "base_uri": "https://localhost:8080/",
          "height": 380
        },
        "id": "fMobxa04W9_2",
        "outputId": "bf701d8e-cb60-4e45-955c-974de139123c"
      },
      "outputs": [
        {
          "output_type": "error",
          "ename": "FileNotFoundError",
          "evalue": "ignored",
          "traceback": [
            "\u001b[0;31m---------------------------------------------------------------------------\u001b[0m",
            "\u001b[0;31mFileNotFoundError\u001b[0m                         Traceback (most recent call last)",
            "\u001b[0;32m<ipython-input-48-857af1e0f173>\u001b[0m in \u001b[0;36m<cell line: 1>\u001b[0;34m()\u001b[0m\n\u001b[0;32m----> 1\u001b[0;31m \u001b[0mdata\u001b[0m \u001b[0;34m=\u001b[0m \u001b[0mhp\u001b[0m\u001b[0;34m.\u001b[0m\u001b[0mget_data\u001b[0m\u001b[0;34m(\u001b[0m\u001b[0;34m'original_ECG_15.csv'\u001b[0m\u001b[0;34m)\u001b[0m\u001b[0;34m\u001b[0m\u001b[0;34m\u001b[0m\u001b[0m\n\u001b[0m\u001b[1;32m      2\u001b[0m \u001b[0;34m\u001b[0m\u001b[0m\n\u001b[1;32m      3\u001b[0m \u001b[0mplt\u001b[0m\u001b[0;34m.\u001b[0m\u001b[0mfigure\u001b[0m\u001b[0;34m(\u001b[0m\u001b[0mfigsize\u001b[0m\u001b[0;34m=\u001b[0m\u001b[0;34m(\u001b[0m\u001b[0;36m12\u001b[0m\u001b[0;34m,\u001b[0m\u001b[0;36m4\u001b[0m\u001b[0;34m)\u001b[0m\u001b[0;34m)\u001b[0m\u001b[0;34m\u001b[0m\u001b[0;34m\u001b[0m\u001b[0m\n\u001b[1;32m      4\u001b[0m \u001b[0mplt\u001b[0m\u001b[0;34m.\u001b[0m\u001b[0mplot\u001b[0m\u001b[0;34m(\u001b[0m\u001b[0mdata\u001b[0m\u001b[0;34m)\u001b[0m\u001b[0;34m\u001b[0m\u001b[0;34m\u001b[0m\u001b[0m\n\u001b[1;32m      5\u001b[0m \u001b[0mplt\u001b[0m\u001b[0;34m.\u001b[0m\u001b[0mshow\u001b[0m\u001b[0;34m(\u001b[0m\u001b[0;34m)\u001b[0m\u001b[0;34m\u001b[0m\u001b[0;34m\u001b[0m\u001b[0m\n",
            "\u001b[0;32m/usr/local/lib/python3.10/dist-packages/heartpy/datautils.py\u001b[0m in \u001b[0;36mget_data\u001b[0;34m(filename, delim, column_name, encoding, ignore_extension)\u001b[0m\n\u001b[1;32m    111\u001b[0m                                  %(column_name, filename, error))\n\u001b[1;32m    112\u001b[0m         \u001b[0;32melif\u001b[0m \u001b[0mcolumn_name\u001b[0m \u001b[0;34m==\u001b[0m \u001b[0;34m'None'\u001b[0m\u001b[0;34m:\u001b[0m\u001b[0;34m\u001b[0m\u001b[0;34m\u001b[0m\u001b[0m\n\u001b[0;32m--> 113\u001b[0;31m             \u001b[0mhrdata\u001b[0m \u001b[0;34m=\u001b[0m \u001b[0mnp\u001b[0m\u001b[0;34m.\u001b[0m\u001b[0mgenfromtxt\u001b[0m\u001b[0;34m(\u001b[0m\u001b[0mfilename\u001b[0m\u001b[0;34m,\u001b[0m \u001b[0mdelimiter\u001b[0m\u001b[0;34m=\u001b[0m\u001b[0mdelim\u001b[0m\u001b[0;34m,\u001b[0m \u001b[0mdtype\u001b[0m\u001b[0;34m=\u001b[0m\u001b[0mnp\u001b[0m\u001b[0;34m.\u001b[0m\u001b[0mfloat64\u001b[0m\u001b[0;34m)\u001b[0m\u001b[0;34m\u001b[0m\u001b[0;34m\u001b[0m\u001b[0m\n\u001b[0m\u001b[1;32m    114\u001b[0m         \u001b[0;32melse\u001b[0m\u001b[0;34m:\u001b[0m \u001b[0;31m# pragma: no cover\u001b[0m\u001b[0;34m\u001b[0m\u001b[0;34m\u001b[0m\u001b[0m\n\u001b[1;32m    115\u001b[0m             raise LookupError('\\nError: column name \"%s\" not found in header of \"%s\".\\n'\n",
            "\u001b[0;32m/usr/local/lib/python3.10/dist-packages/numpy/lib/npyio.py\u001b[0m in \u001b[0;36mgenfromtxt\u001b[0;34m(fname, dtype, comments, delimiter, skip_header, skip_footer, converters, missing_values, filling_values, usecols, names, excludelist, deletechars, replace_space, autostrip, case_sensitive, defaultfmt, unpack, usemask, loose, invalid_raise, max_rows, encoding, like)\u001b[0m\n\u001b[1;32m   1811\u001b[0m             \u001b[0mfname\u001b[0m \u001b[0;34m=\u001b[0m \u001b[0mos_fspath\u001b[0m\u001b[0;34m(\u001b[0m\u001b[0mfname\u001b[0m\u001b[0;34m)\u001b[0m\u001b[0;34m\u001b[0m\u001b[0;34m\u001b[0m\u001b[0m\n\u001b[1;32m   1812\u001b[0m         \u001b[0;32mif\u001b[0m \u001b[0misinstance\u001b[0m\u001b[0;34m(\u001b[0m\u001b[0mfname\u001b[0m\u001b[0;34m,\u001b[0m \u001b[0mstr\u001b[0m\u001b[0;34m)\u001b[0m\u001b[0;34m:\u001b[0m\u001b[0;34m\u001b[0m\u001b[0;34m\u001b[0m\u001b[0m\n\u001b[0;32m-> 1813\u001b[0;31m             \u001b[0mfid\u001b[0m \u001b[0;34m=\u001b[0m \u001b[0mnp\u001b[0m\u001b[0;34m.\u001b[0m\u001b[0mlib\u001b[0m\u001b[0;34m.\u001b[0m\u001b[0m_datasource\u001b[0m\u001b[0;34m.\u001b[0m\u001b[0mopen\u001b[0m\u001b[0;34m(\u001b[0m\u001b[0mfname\u001b[0m\u001b[0;34m,\u001b[0m \u001b[0;34m'rt'\u001b[0m\u001b[0;34m,\u001b[0m \u001b[0mencoding\u001b[0m\u001b[0;34m=\u001b[0m\u001b[0mencoding\u001b[0m\u001b[0;34m)\u001b[0m\u001b[0;34m\u001b[0m\u001b[0;34m\u001b[0m\u001b[0m\n\u001b[0m\u001b[1;32m   1814\u001b[0m             \u001b[0mfid_ctx\u001b[0m \u001b[0;34m=\u001b[0m \u001b[0mcontextlib\u001b[0m\u001b[0;34m.\u001b[0m\u001b[0mclosing\u001b[0m\u001b[0;34m(\u001b[0m\u001b[0mfid\u001b[0m\u001b[0;34m)\u001b[0m\u001b[0;34m\u001b[0m\u001b[0;34m\u001b[0m\u001b[0m\n\u001b[1;32m   1815\u001b[0m         \u001b[0;32melse\u001b[0m\u001b[0;34m:\u001b[0m\u001b[0;34m\u001b[0m\u001b[0;34m\u001b[0m\u001b[0m\n",
            "\u001b[0;32m/usr/local/lib/python3.10/dist-packages/numpy/lib/_datasource.py\u001b[0m in \u001b[0;36mopen\u001b[0;34m(path, mode, destpath, encoding, newline)\u001b[0m\n\u001b[1;32m    191\u001b[0m \u001b[0;34m\u001b[0m\u001b[0m\n\u001b[1;32m    192\u001b[0m     \u001b[0mds\u001b[0m \u001b[0;34m=\u001b[0m \u001b[0mDataSource\u001b[0m\u001b[0;34m(\u001b[0m\u001b[0mdestpath\u001b[0m\u001b[0;34m)\u001b[0m\u001b[0;34m\u001b[0m\u001b[0;34m\u001b[0m\u001b[0m\n\u001b[0;32m--> 193\u001b[0;31m     \u001b[0;32mreturn\u001b[0m \u001b[0mds\u001b[0m\u001b[0;34m.\u001b[0m\u001b[0mopen\u001b[0m\u001b[0;34m(\u001b[0m\u001b[0mpath\u001b[0m\u001b[0;34m,\u001b[0m \u001b[0mmode\u001b[0m\u001b[0;34m,\u001b[0m \u001b[0mencoding\u001b[0m\u001b[0;34m=\u001b[0m\u001b[0mencoding\u001b[0m\u001b[0;34m,\u001b[0m \u001b[0mnewline\u001b[0m\u001b[0;34m=\u001b[0m\u001b[0mnewline\u001b[0m\u001b[0;34m)\u001b[0m\u001b[0;34m\u001b[0m\u001b[0;34m\u001b[0m\u001b[0m\n\u001b[0m\u001b[1;32m    194\u001b[0m \u001b[0;34m\u001b[0m\u001b[0m\n\u001b[1;32m    195\u001b[0m \u001b[0;34m\u001b[0m\u001b[0m\n",
            "\u001b[0;32m/usr/local/lib/python3.10/dist-packages/numpy/lib/_datasource.py\u001b[0m in \u001b[0;36mopen\u001b[0;34m(self, path, mode, encoding, newline)\u001b[0m\n\u001b[1;32m    530\u001b[0m                                       encoding=encoding, newline=newline)\n\u001b[1;32m    531\u001b[0m         \u001b[0;32melse\u001b[0m\u001b[0;34m:\u001b[0m\u001b[0;34m\u001b[0m\u001b[0;34m\u001b[0m\u001b[0m\n\u001b[0;32m--> 532\u001b[0;31m             \u001b[0;32mraise\u001b[0m \u001b[0mFileNotFoundError\u001b[0m\u001b[0;34m(\u001b[0m\u001b[0;34mf\"{path} not found.\"\u001b[0m\u001b[0;34m)\u001b[0m\u001b[0;34m\u001b[0m\u001b[0;34m\u001b[0m\u001b[0m\n\u001b[0m\u001b[1;32m    533\u001b[0m \u001b[0;34m\u001b[0m\u001b[0m\n\u001b[1;32m    534\u001b[0m \u001b[0;34m\u001b[0m\u001b[0m\n",
            "\u001b[0;31mFileNotFoundError\u001b[0m: original_ECG_15.csv not found."
          ]
        }
      ],
      "source": [
        "data = hp.get_data('original_ECG_15.csv')\n",
        "\n",
        "plt.figure(figsize=(12,4))\n",
        "plt.plot(data)\n",
        "plt.show()"
      ]
    },
    {
      "cell_type": "code",
      "execution_count": null,
      "metadata": {
        "colab": {
          "base_uri": "https://localhost:8080/",
          "height": 1000
        },
        "id": "q1qofWbnXE6x",
        "outputId": "21d4cb66-6232-4fc6-919e-06247dac883c"
      },
      "outputs": [
        {
          "output_type": "stream",
          "name": "stdout",
          "text": [
            "heart rates:  [ 128.20512821   65.50218341  234.375        25.55366269  125.\n",
            "   66.07929515  234.375        84.26966292   41.43646409  123.96694215\n",
            "   66.66666667  230.76923077   26.92998205  127.11864407   64.93506494\n",
            "  241.93548387   25.29510961  125.           65.78947368  230.76923077\n",
            "   26.17801047  121.95121951   66.37168142  234.375        28.30188679\n",
            "  123.96694215   65.2173913   250.           26.26970228  123.96694215\n",
            "   64.93506494  241.93548387   87.20930233 1500.           38.65979381\n",
            "  126.05042017   65.50218341  234.375        27.07581227  125.\n",
            "   65.2173913   254.23728814   30.99173554  123.96694215   65.78947368\n",
            "  254.23728814   33.48214286  126.05042017   66.66666667  238.0952381\n",
            "   30.67484663  129.31034483   65.50218341  241.93548387   28.68068834\n",
            "  126.05042017   65.78947368  238.0952381    26.83363148  126.05042017\n",
            "   66.96428571  223.88059701   28.84615385  122.95081967   64.93506494\n",
            "  277.77777778   81.52173913   55.35055351  118.11023622   66.66666667\n",
            "  241.93548387   32.67973856  319.14893617  123.96694215   66.07929515\n",
            "  234.375        81.52173913   53.38078292 3000.          220.58823529\n",
            "  120.           63.55932203  263.15789474   27.07581227  121.95121951\n",
            "   66.37168142  227.27272727   29.82107356  118.11023622   64.3776824\n",
            "  288.46153846   83.79888268   57.91505792  121.95121951   68.49315068\n",
            "  234.375        35.04672897  120.           67.26457399  241.93548387\n",
            "   33.632287    125.           66.37168142  245.90163934   82.87292818\n",
            "   47.77070064  126.05042017  111.94029851  163.04347826  234.375\n",
            "   81.08108108   44.37869822  127.11864407   66.37168142  238.0952381\n",
            "   97.4025974    42.25352113  119.04761905   67.87330317  230.76923077\n",
            "   29.23976608  121.95121951   65.78947368  250.           27.57352941\n",
            "  125.           66.96428571  223.88059701   28.24858757  123.96694215\n",
            "   67.87330317  227.27272727   29.94011976  120.           67.26457399\n",
            "  234.375        30.86419753  288.46153846  128.20512821   66.07929515\n",
            "  238.0952381    29.82107356  294.11764706  127.11864407   66.66666667\n",
            "  230.76923077   28.30188679  122.95081967   67.26457399  238.0952381\n",
            "   31.57894737  357.14285714  127.11864407   67.56756757  223.88059701\n",
            "   31.25        312.5         128.20512821   88.75739645  258.62068966\n",
            "  238.0952381    29.35420744  128.20512821   67.87330317  211.26760563\n",
            "   31.71247357  333.33333333  128.20512821   63.82978723  277.77777778\n",
            "   28.84615385  126.05042017   67.87330317  227.27272727   30.06012024\n",
            "  125.           69.44444444  214.28571429   31.18503119  127.11864407\n",
            "   66.07929515  254.23728814   30.12048193  127.11864407   67.87330317\n",
            "  227.27272727   31.12033195  128.20512821   64.1025641   277.77777778\n",
            "   38.56041131  375.          125.           66.37168142  245.90163934\n",
            "   38.16793893  288.46153846  127.11864407   65.50218341  254.23728814\n",
            "   31.05590062  348.8372093   125.           65.78947368  254.23728814\n",
            "   92.02453988 1363.63636364   40.76086957  121.95121951   66.37168142\n",
            "  245.90163934   83.79888268   42.85714286  127.11864407   67.26457399\n",
            "  230.76923077   24.91694352  122.95081967   67.26457399  223.88059701\n",
            "   24.          122.95081967   66.07929515  241.93548387   23.65930599\n",
            "  122.95081967   64.3776824   263.15789474   23.58490566  121.95121951\n",
            "   66.07929515  245.90163934   79.78723404   33.18584071  125.\n",
            "   67.87330317  214.28571429   89.28571429  789.47368421   31.91489362\n",
            "  125.           68.49315068  208.33333333   23.18392581  121.95121951\n",
            "   66.37168142  230.76923077   79.78723404   36.40776699  120.96774194\n",
            "   66.96428571  238.0952381    25.59726962  127.11864407   65.50218341\n",
            "  250.           25.38071066  357.14285714  125.           65.50218341\n",
            "  241.93548387   23.18392581  123.96694215   65.78947368  234.375\n",
            "   24.15458937  119.04761905   66.66666667  238.0952381    27.72643253\n",
            "  120.96774194   67.56756757  227.27272727   25.9965338   126.05042017\n",
            "   64.93506494  245.90163934   25.08361204  126.05042017   66.37168142\n",
            "  230.76923077   27.22323049  319.14893617  120.96774194   66.37168142\n",
            "  238.0952381    83.79888268   43.10344828  122.95081967   68.49315068\n",
            "  227.27272727   78.94736842   45.18072289  125.           66.66666667\n",
            "  238.0952381    27.88104089  357.14285714  120.96774194   65.2173913\n",
            "  250.           24.23263328  122.95081967   65.2173913   254.23728814\n",
            "   25.21008403  123.96694215   68.18181818  217.39130435   25.42372881\n",
            "  120.96774194   66.07929515  245.90163934   86.20689655   36.05769231\n",
            "  121.95121951   66.37168142  238.0952381    23.65930599  120.96774194\n",
            "   65.50218341  241.93548387   24.          119.04761905   66.66666667\n",
            "  234.375        81.96721311   40.54054054  125.           65.50218341\n",
            "  263.15789474   81.08108108   42.37288136  127.11864407   66.37168142\n",
            "  241.93548387   85.22727273   35.79952267  126.05042017   64.1025641\n",
            "  267.85714286   78.53403141   34.16856492  122.95081967   66.96428571\n",
            "  220.58823529   82.87292818   32.60869565  120.           66.96428571\n",
            "  227.27272727   70.42253521  576.92307692  833.33333333 7500.\n",
            " 3750.        ]\n",
            "bpm: 55.487053\n",
            "ibi: 1081.333333\n",
            "sdnn: 35.975300\n",
            "sdsd: nan\n",
            "rmssd: nan\n",
            "pnn20: nan\n",
            "pnn50: nan\n",
            "hr_mad: 40.000000\n",
            "sd1: nan\n",
            "sd2: nan\n",
            "s: nan\n",
            "sd1/sd2: nan\n",
            "breathingrate: nan\n"
          ]
        },
        {
          "output_type": "stream",
          "name": "stderr",
          "text": [
            "/usr/local/lib/python3.10/dist-packages/numpy/ma/core.py:5246: RuntimeWarning: Mean of empty slice.\n",
            "  result = super().mean(axis=axis, dtype=dtype, **kwargs)[()]\n",
            "/usr/local/lib/python3.10/dist-packages/numpy/core/fromnumeric.py:3757: RuntimeWarning: Degrees of freedom <= 0 for slice\n",
            "  return _methods._var(a, axis=axis, dtype=dtype, out=out, ddof=ddof,\n",
            "<ipython-input-49-53e8ba367caa>:15: UserWarning: Warning: converting a masked element to nan.\n",
            "  print('%s: %f' %(measure, m[measure]))\n"
          ]
        },
        {
          "output_type": "display_data",
          "data": {
            "text/plain": [
              "<Figure size 1200x400 with 0 Axes>"
            ]
          },
          "metadata": {}
        },
        {
          "output_type": "display_data",
          "data": {
            "text/plain": [
              "<Figure size 640x480 with 1 Axes>"
            ],
            "image/png": "[encoded data removed]"
          },
          "metadata": {}
        }
      ],
      "source": [
        "#run analysis\n",
        "wd, m = hp.process(data[1:], sample_rate)\n",
        "\n",
        "#visualise in plot of custom size\n",
        "plt.figure(figsize=(12,4))\n",
        "hp.plotter(wd, m)\n",
        "#print(len(wd['hr']))\n",
        "#print(wd.keys())\n",
        "#print(wd['RR_list'])\n",
        "#heart rates\n",
        "hrs = 60000/wd['RR_list']\n",
        "print(\"heart rates: \",hrs)\n",
        "#display computed measures\n",
        "for measure in m.keys():\n",
        "    print('%s: %f' %(measure, m[measure]))"
      ]
    },
    {
      "cell_type": "code",
      "execution_count": null,
      "metadata": {
        "id": "wGAOERatXImS"
      },
      "outputs": [],
      "source": [
        "\n",
        "df2 = pd.DataFrame({ \"Heart Rate\" : np.array(hrs)})\n",
        "df2.to_csv(\"/content/drive/MyDrive/ECG_data/hr_original_12.csv\", index=False)\n"
      ]
    },
    {
      "cell_type": "code",
      "execution_count": null,
      "metadata": {
        "id": "h9FkK6KzUdUK"
      },
      "outputs": [],
      "source": [
        "data = hp.get_data('/content/drive/MyDrive/ECG_data/hr_original_10.csv')"
      ]
    },
    {
      "cell_type": "code",
      "execution_count": null,
      "metadata": {
        "id": "Md_oDmlrAEfa"
      },
      "outputs": [],
      "source": [
        "for i in range(len(data)):\n",
        "  if data[i]>500:\n",
        "    data[i]=data[i]/10"
      ]
    },
    {
      "cell_type": "code",
      "execution_count": null,
      "metadata": {
        "id": "8h-0_RjqAHTX"
      },
      "outputs": [],
      "source": [
        "import pandas as pd\n",
        "import numpy as np\n",
        "df2 = pd.DataFrame({ \"Heart Rate\" : np.array(data)})\n",
        "df2.to_csv(\"/content/drive/MyDrive/ECG_data/hr_original_10.csv\", index=False)\n"
      ]
    },
    {
      "cell_type": "code",
      "execution_count": null,
      "metadata": {
        "id": "H-cQFHJz_Nrf"
      },
      "outputs": [],
      "source": [
        "plt.plot(x_g_AB[1])\n",
        "plt.plot(y_test[1])"
      ]
    },
    {
      "cell_type": "code",
      "execution_count": null,
      "metadata": {
        "id": "9PWaTgxKUEQg"
      },
      "outputs": [],
      "source": [
        "#X_test_in = []\n",
        "#x_g_AB_in = []\n",
        "#inverse differencing\n",
        "#for i in range(len(X_test)):\n",
        "#  X_test_in.append((np.concatenate(([X_test[i][0]], X_test[i])).cumsum())[:x_g_AB.shape[1]])\n",
        "#  x_g_AB_in.append((np.concatenate(([x_g_AB[i][0]], x_g_AB[i])).cumsum())[:x_g_AB.shape[1]])"
      ]
    },
    {
      "cell_type": "code",
      "execution_count": null,
      "metadata": {
        "id": "PvGRVswC-0aO"
      },
      "outputs": [],
      "source": [
        "len(x_g_AB_in)"
      ]
    },
    {
      "cell_type": "code",
      "execution_count": null,
      "metadata": {
        "id": "4v2SVaik_I2z"
      },
      "outputs": [],
      "source": [
        "len(x_g_AB_in[0])"
      ]
    },
    {
      "cell_type": "code",
      "execution_count": null,
      "metadata": {
        "id": "G8CBh3HxUW1t"
      },
      "outputs": [],
      "source": [
        "# x_g_AB = np.array(x_g_AB_in).reshape(x_g_AB.shape[0],x_g_AB.shape[1],1)\n",
        "# X_test = np.array(X_test_in).reshape(X_test.shape[0],X_test.shape[1],1)"
      ]
    },
    {
      "cell_type": "code",
      "execution_count": null,
      "metadata": {
        "id": "uPHBd5X9VDNy"
      },
      "outputs": [],
      "source": [
        "def smooth(x,window_len=7,window='hanning'):\n",
        "    \"\"\"smooth the data using a window with requested size.\n",
        "\n",
        "    This method is based on the convolution of a scaled window with the signal.\n",
        "    The signal is prepared by introducing reflected copies of the signal\n",
        "    (with the window size) in both ends so that transient parts are minimized\n",
        "    in the begining and end part of the output signal.\n",
        "\n",
        "    input:\n",
        "        x: the input signal\n",
        "        window_len: the dimension of the smoothing window; should be an odd integer\n",
        "        window: the type of window from 'flat', 'hanning', 'hamming', 'bartlett', 'blackman'\n",
        "            flat window will produce a moving average smoothing.\n",
        "\n",
        "    output:\n",
        "        the smoothed signal\n",
        "\n",
        "    example:\n",
        "\n",
        "    t=linspace(-2,2,0.1)\n",
        "    x=sin(t)+randn(len(t))*0.1\n",
        "    y=smooth(x)\n",
        "\n",
        "    see also:\n",
        "\n",
        "    numpy.hanning, numpy.hamming, numpy.bartlett, numpy.blackman, numpy.convolve\n",
        "    scipy.signal.lfilter\n",
        "\n",
        "    TODO: the window parameter could be the window itself if an array instead of a string\n",
        "    NOTE: length(output) != length(input), to correct this: return y[(window_len/2-1):-(window_len/2)] instead of just y.\n",
        "    \"\"\"\n",
        "\n",
        "    if window_len<3:\n",
        "        return x\n",
        "\n",
        "    s=np.r_[x[window_len-1:0:-1],x,x[-2:-window_len-1:-1]]\n",
        "    #print(len(s))\n",
        "    if window == 'flat': #moving average\n",
        "        w=np.ones(window_len,'d')\n",
        "    else:\n",
        "        w=eval('np.'+window+'(window_len)')\n",
        "\n",
        "    y=np.convolve(w/w.sum(),s,mode='valid')\n",
        "    return y\n"
      ]
    },
    {
      "cell_type": "code",
      "execution_count": null,
      "metadata": {
        "id": "FW-8-EYQZZF4"
      },
      "outputs": [],
      "source": [
        "x_g_AB_reshaped = x_g_AB.reshape(x_g_AB.shape[0],x_g_AB.shape[1])"
      ]
    },
    {
      "cell_type": "code",
      "execution_count": null,
      "metadata": {
        "id": "u163Y4jAZinu"
      },
      "outputs": [],
      "source": [
        "x_g_AB_reshaped.shape"
      ]
    },
    {
      "cell_type": "code",
      "execution_count": null,
      "metadata": {
        "id": "e6zBS52LTMKN"
      },
      "outputs": [],
      "source": [
        "x_g_AB_smoothed = []\n",
        "for i in range(len(x_g_AB_reshaped)):\n",
        "  smoothed = smooth(x_g_AB_reshaped[i])\n",
        "  x_g_AB_smoothed.append(smoothed[:len(x_g_AB_reshaped[i])])\n"
      ]
    },
    {
      "cell_type": "code",
      "execution_count": null,
      "metadata": {
        "id": "rrJEw9AjM2eI"
      },
      "outputs": [],
      "source": [
        "#          Testing functions\n",
        "#################################################################################\n",
        "def rmse(targets, predictions):\n",
        "    return np.sqrt(np.mean((targets-predictions)**2))\n",
        "\n",
        "\n",
        "def prd(targets, predictions):\n",
        "    s1 = np.sum((targets-predictions)**2)\n",
        "    s2 = np.sum(targets**2)\n",
        "    return np.sqrt(s1 / s2 * 100)\n",
        "\n",
        "\n",
        "def mmd(targets, predictions):\n",
        "    mmd_stat = MMDStatistic(400, 400)\n",
        "    sample_target = torch.from_numpy(targets.numpy().reshape((400,1)))\n",
        "    sample_pred = torch.from_numpy(predictions.numpy().reshape((400,1)))\n",
        "\n",
        "    stat = mmd_stat(sample_target, sample_pred, [1.])\n",
        "    return(stat.item())\n"
      ]
    },
    {
      "cell_type": "code",
      "execution_count": null,
      "metadata": {
        "id": "DxYLtf_JYGyZ"
      },
      "outputs": [],
      "source": [
        "x_g_AB_smoothed = np.array(x_g_AB_smoothed)\n",
        "x_g_AB_smoothed = x_g_AB_smoothed.reshape(x_g_AB_smoothed.shape[0],x_g_AB_smoothed.shape[1],1)"
      ]
    },
    {
      "cell_type": "code",
      "execution_count": null,
      "metadata": {
        "id": "LWazhMXzrh8P"
      },
      "outputs": [],
      "source": [
        "y_test.shape"
      ]
    },
    {
      "cell_type": "code",
      "execution_count": null,
      "metadata": {
        "id": "0k8C5LdhrgP0"
      },
      "outputs": [],
      "source": [
        "x_g_AB_smoothed.shape"
      ]
    },
    {
      "cell_type": "code",
      "execution_count": null,
      "metadata": {
        "id": "GCtZY8RUQtjf"
      },
      "outputs": [],
      "source": [
        "#for i in range(len(x_g_AB)):\n",
        "rmse_arr = rmse(y_test,x_g_AB)\n",
        "print(rmse_arr)\n",
        "rmse_smoothed = rmse(y_test,x_g_AB_smoothed)\n",
        "print(\"smoothed\",rmse_smoothed)"
      ]
    },
    {
      "cell_type": "code",
      "execution_count": null,
      "metadata": {
        "id": "L6pV9wzdlTeS"
      },
      "outputs": [],
      "source": [
        "rmse_all =[]\n",
        "rmse_all_smoothened =[]\n",
        "for i in range(len(x_g_AB)):\n",
        "  rmse_all.append(rmse(y_test[i],x_g_AB[i]))\n",
        "  rmse_all_smoothened.append(rmse(y_test[i],x_g_AB_smoothed[i]))\n",
        "\n",
        "rmse_all_mean = np.array(rmse_all).mean()\n",
        "print(rmse_all_mean)\n",
        "rmse_all_smoothed_mean = np.array(rmse_all_smoothened).mean()\n",
        "print(\"smoothed\",rmse_all_smoothed_mean)"
      ]
    },
    {
      "cell_type": "code",
      "execution_count": null,
      "metadata": {
        "id": "1wdDoH7eQ6Hh"
      },
      "outputs": [],
      "source": [
        "\n",
        "prd_arr = prd(y_test,x_g_AB)\n",
        "print(prd_arr)\n",
        "prd_arr_smoothed = prd(y_test,x_g_AB_smoothed)\n",
        "print(\"smoothed\",prd_arr_smoothed)"
      ]
    },
    {
      "cell_type": "code",
      "execution_count": null,
      "metadata": {
        "id": "fHBGblEDuehI"
      },
      "outputs": [],
      "source": [
        "from sklearn.metrics import mean_absolute_error\n",
        "mae_arr = mean_absolute_error(y_test.flatten(),x_g_AB.flatten())\n",
        "print(mae_arr)\n",
        "mae_arr_smoothed = mean_absolute_error(y_test.flatten(),x_g_AB_smoothed.flatten())\n",
        "print(\"smoothed\",mae_arr_smoothed)"
      ]
    },
    {
      "cell_type": "code",
      "execution_count": null,
      "metadata": {
        "id": "XQVy4CB10gIT"
      },
      "outputs": [],
      "source": [
        "def detect_peaks(ecg_signal, threshold=0.3, qrs_filter=None):\n",
        "    '''\n",
        "    Peak detection algorithm using cross corrrelation and threshold\n",
        "    '''\n",
        "    if qrs_filter is None:\n",
        "        # create default qrs filter, which is just a part of the sine function\n",
        "        t = np.linspace(1.5 * np.pi, 3.5 * np.pi, 15)\n",
        "        qrs_filter = np.sin(t)\n",
        "\n",
        "    # normalize data\n",
        "    ecg_signal = (ecg_signal - ecg_signal.mean()) / ecg_signal.std()\n",
        "\n",
        "    # calculate cross correlation\n",
        "    similarity = np.correlate(ecg_signal, qrs_filter, mode=\"same\")\n",
        "    similarity = similarity / np.max(similarity)\n",
        "\n",
        "    # return peaks (values in ms) using threshold\n",
        "    return ecg_signal[similarity > threshold].index, similarity"
      ]
    },
    {
      "cell_type": "code",
      "execution_count": null,
      "metadata": {
        "id": "3sO0w_0O085l"
      },
      "outputs": [],
      "source": [
        "def group_peaks(p, threshold=5):\n",
        "    '''\n",
        "    The peak detection algorithm finds multiple peaks for each QRS complex.\n",
        "    Here we group collections of peaks that are very near (within threshold) and we take the median index\n",
        "    '''\n",
        "    # initialize output\n",
        "    output = np.empty(0)\n",
        "\n",
        "    # label groups of sample that belong to the same peak\n",
        "    peak_groups, num_groups = label(np.diff(p) < threshold)\n",
        "\n",
        "    # iterate through groups and take the mean as peak index\n",
        "    for i in np.unique(peak_groups)[1:]:\n",
        "        peak_group = p[np.where(peak_groups == i)]\n",
        "        output = np.append(output, np.median(peak_group))\n",
        "    return output"
      ]
    },
    {
      "cell_type": "code",
      "execution_count": null,
      "metadata": {
        "id": "qW16tGB_5H12"
      },
      "outputs": [],
      "source": [
        "import pandas as pd\n",
        "df = pd.DataFrame(x_g_AB.flatten(), columns = ['ECG'])\n",
        "df2 = pd.DataFrame(X_test.flatten(), columns = ['SCG'])\n",
        "df3 = pd.DataFrame(y_test.flatten(), columns = ['ECG_orig'])\n",
        "#df['column_name']=pd.Series(x_g_AB.flatten())"
      ]
    },
    {
      "cell_type": "code",
      "execution_count": null,
      "metadata": {
        "id": "Yl2uDfgknydZ"
      },
      "outputs": [],
      "source": [
        "n_samples = f.getNSamples()[0]\n",
        "\n",
        "# Extract the signal data and flatten it\n",
        "signal_data = f.readSignal(0).flatten()\n",
        "\n",
        "# Close the file\n",
        "f.close()"
      ]
    },
    {
      "cell_type": "code",
      "execution_count": null,
      "metadata": {
        "id": "XG1RQ-DoOSoy"
      },
      "outputs": [],
      "source": [
        "!pip install wfdb"
      ]
    },
    {
      "cell_type": "code",
      "execution_count": null,
      "metadata": {
        "id": "V7cR2ZpfPWQW"
      },
      "outputs": [],
      "source": [
        "import wfdb\n",
        "from wfdb import processing"
      ]
    },
    {
      "cell_type": "code",
      "execution_count": null,
      "metadata": {
        "id": "5u5zX8_aGcTm"
      },
      "outputs": [],
      "source": [
        "# to be used for wsdb to edf conversion and reading data using wsdb\n",
        "import wfdb\n",
        "from google.colab import files\n",
        "fileName_str\n",
        "record = wfdb.rdrecord('b001', pn_dir='cebsdb')"
      ]
    },
    {
      "cell_type": "code",
      "execution_count": null,
      "metadata": {
        "id": "_tlWmRfQnsGt"
      },
      "outputs": [],
      "source": [
        "# Get the number of channels and samples\n",
        "n_channels = f.signals_in_file\n",
        "n_samples = f.getNSamples()[0]\n",
        "\n",
        "# Extract the signal data and flatten it\n",
        "signal_data = f.readSignal(0).flatten()\n",
        "\n",
        "# Close the file\n",
        "f.close()"
      ]
    },
    {
      "cell_type": "code",
      "execution_count": null,
      "metadata": {
        "id": "VKlovSfviNPG"
      },
      "outputs": [],
      "source": [
        "record.p_signal[0]"
      ]
    },
    {
      "cell_type": "code",
      "execution_count": null,
      "metadata": {
        "id": "RBWEowuanOEA"
      },
      "outputs": [],
      "source": [
        "qrs = codeFn(ecg_signal, fs)"
      ]
    },
    {
      "cell_type": "code",
      "execution_count": null,
      "metadata": {
        "id": "PEjBAFgSPcVf"
      },
      "outputs": [],
      "source": [
        "\n",
        "# Demo 19 - Use the GQRS detection algorithm and correct the peaks\n",
        "\n",
        "def peaks_hr(sig, peak_inds, fs, title, figsize=(20, 10), saveto=None):\n",
        "    \"Plot a signal with its peaks and heart rate\"\n",
        "    # Calculate heart rate\n",
        "    hrs = processing.hr.compute_hr(sig_len=sig.shape[0], qrs_inds=peak_inds, fs=fs)\n",
        "    print(hrs)\n",
        "    N = sig.shape[0]\n",
        "\n",
        "    fig, ax_left = plt.subplots(figsize=figsize)\n",
        "    ax_right = ax_left.twinx()\n",
        "\n",
        "    ax_left.plot(sig, color='#3979f0', label='Signal')\n",
        "    ax_left.plot(peak_inds, sig[peak_inds], 'rx', marker='x',\n",
        "                 color='#8b0000', label='Peak', markersize=12)\n",
        "    ax_right.plot(np.arange(N), hrs, label='Heart rate', color='m', linewidth=2)\n",
        "\n",
        "    ax_left.set_title(title)\n",
        "\n",
        "    ax_left.set_xlabel('Time (ms)')\n",
        "    ax_left.set_ylabel('ECG (mV)', color='#3979f0')\n",
        "    ax_right.set_ylabel('Heart rate (bpm)', color='m')\n",
        "    # Make the y-axis label, ticks and tick labels match the line color.\n",
        "    ax_left.tick_params('y', colors='#3979f0')\n",
        "    ax_right.tick_params('y', colors='m')\n",
        "    if saveto is not None:\n",
        "        plt.savefig(saveto, dpi=600)\n",
        "    plt.show()\n",
        "    return hrs\n",
        "\n"
      ]
    },
    {
      "cell_type": "code",
      "execution_count": null,
      "metadata": {
        "id": "y2ZCHPZXoCxJ"
      },
      "outputs": [],
      "source": [
        "t = np.arange(len(ecg_signal)) / fs\n",
        "plt.plot(t, ecg_signal)\n",
        "plt.plot(qrs/fs, ecg_signal[qrs], 'ro')\n",
        "plt.xlabel('Time (s)')\n",
        "plt.ylabel('ECG Amplitude')\n",
        "plt.show()"
      ]
    },
    {
      "cell_type": "code",
      "execution_count": null,
      "metadata": {
        "id": "OajguMORasOE"
      },
      "outputs": [],
      "source": [
        "# Load the WFDB record and the physical samples\n",
        "#record = wfdb.rdrecord('sample-data/100', sampfrom=0, sampto=10000, channels=[0])\n",
        "\n",
        "# Use the GQRS algorithm to detect QRS locations in the first channel\n",
        "qrs_inds = processing.qrs.gqrs_detect(sig=record.p_signal[:,0], fs=record.fs)\n",
        "\n",
        "# Plot results\n",
        "hrs = peaks_hr(sig=record.p_signal, peak_inds=qrs_inds, fs=record.fs,\n",
        "         title=\"GQRS peak detection on record b001\")\n",
        "\n",
        "# Correct the peaks shifting them to local maxima\n",
        "min_bpm = 20\n",
        "max_bpm = 230\n",
        "#min_gap = record.fs * 60 / min_bpm\n",
        "# Use the maximum possible bpm as the search radius\n",
        "search_radius = int(record.fs * 60 / max_bpm)\n",
        "corrected_peak_inds = processing.peaks.correct_peaks(record.p_signal[:,0],\n",
        "                                                     peak_inds=qrs_inds,\n",
        "                                                     search_radius=search_radius,\n",
        "                                                     smooth_window_size=150)\n",
        "\n",
        "# Display results\n",
        "print('Corrected GQRS detected peak indices:', sorted(corrected_peak_inds))\n",
        "hrs = peaks_hr(sig=record.p_signal, peak_inds=sorted(corrected_peak_inds), fs=record.fs,\n",
        "         title=\"Corrected GQRS peak detection on sampledata/100\")\n"
      ]
    },
    {
      "cell_type": "code",
      "execution_count": null,
      "metadata": {
        "id": "LVKKF0h-LaTR"
      },
      "outputs": [],
      "source": [
        "# Load the WFDB record and the physical samples\n",
        "#record = wfdb.rdrecord('sample-data/100', sampfrom=0, sampto=10000, channels=[0])\n",
        "\n",
        "# Use the GQRS algorithm to detect QRS locations in the first channel\n",
        "qrs_inds = processing.qrs.gqrs_detect(sig=record.p_signal[:,3], fs=record.fs)\n",
        "\n",
        "# Plot results\n",
        "hrs_scg = peaks_hr(sig=record.p_signal, peak_inds=qrs_inds, fs=record.fs,\n",
        "         title=\"GQRS peak detection on record b001\")\n",
        "\n",
        "# Correct the peaks shifting them to local maxima\n",
        "min_bpm = 20\n",
        "max_bpm = 230\n",
        "#min_gap = record.fs * 60 / min_bpm\n",
        "# Use the maximum possible bpm as the search radius\n",
        "search_radius = int(record.fs * 60 / max_bpm)\n",
        "corrected_peak_inds = processing.peaks.correct_peaks(record.p_signal[:,3],\n",
        "                                                     peak_inds=qrs_inds,\n",
        "                                                     search_radius=search_radius,\n",
        "                                                     smooth_window_size=150)\n",
        "\n",
        "# Display results\n",
        "print('Corrected GQRS detected peak indices:', sorted(corrected_peak_inds))\n",
        "hrs_scg = peaks_hr(sig=record.p_signal, peak_inds=sorted(corrected_peak_inds), fs=record.fs,\n",
        "         title=\"Corrected GQRS peak detection on sampledata/100\")\n"
      ]
    },
    {
      "cell_type": "code",
      "execution_count": null,
      "metadata": {
        "id": "TyrnU2HEV__r"
      },
      "outputs": [],
      "source": [
        "len(hrs)\n",
        "hrs = hrs[~np.isnan(hrs)]\n",
        "hrs=hrs[hrs<160]\n",
        "#hrs=hrs[hrs>100]\n",
        "print(len(hrs))"
      ]
    },
    {
      "cell_type": "code",
      "execution_count": null,
      "metadata": {
        "id": "0DhtZiNIWGSP"
      },
      "outputs": [],
      "source": [
        "len(hrs_scg)\n",
        "\n",
        "hrs_scg = hrs_scg[~np.isnan(hrs_scg)]\n",
        "hrs_scg=hrs_scg[hrs_scg<160]\n",
        "#hrs_scg=hrs_scg[hrs_scg>100]\n",
        "print(len(hrs_scg))"
      ]
    },
    {
      "cell_type": "code",
      "execution_count": null,
      "metadata": {
        "id": "1HsDwqZID_xZ"
      },
      "outputs": [],
      "source": [
        "# plotting the data\n",
        "plt.scatter(hrs[:len(hrs_scg)], hrs_scg)\n",
        "\n",
        "# This will fit the best line into the graph\n",
        "plt.plot(np.unique(hrs), np.poly1d(np.polyfit(hrs[:len(hrs_scg)], hrs_scg, 1))\n",
        "         (np.unique(hrs)), color='red')\n",
        "plt.ylabel(\"SCG heart rate\")\n",
        "plt.xlabel(\"ECG heart rate\")"
      ]
    },
    {
      "cell_type": "code",
      "execution_count": null,
      "metadata": {
        "id": "YvedI0cjGOmL"
      },
      "outputs": [],
      "source": [
        "!pip install pyhrv"
      ]
    },
    {
      "cell_type": "code",
      "execution_count": null,
      "metadata": {
        "id": "m0PTfIEd1MGa"
      },
      "outputs": [],
      "source": [
        "# detect peaks\n",
        "print(len(df.ECG))\n",
        "print(len(df2.SCG))\n",
        "print(len(df3.ECG_orig))\n",
        "peaks_ecg_pred, similarity = detect_peaks(df.ECG, threshold=0.3)\n",
        "peaks_scg, similarity = detect_peaks(df2.SCG, threshold=0.3)\n",
        "peaks_ecg, similarity = detect_peaks(df3.ECG_orig, threshold=0.3)\n",
        "\n",
        "print(len(peaks_ecg_pred))\n",
        "print(len(peaks_scg))\n",
        "print(len(peaks_ecg))\n",
        "# group peaks so we get a single peak per beat (hopefully)\n",
        "\n",
        "from scipy.ndimage import label\n",
        "grouped_peaks_ecg_pred = group_peaks(peaks_ecg_pred)\n",
        "grouped_peaks_scg = group_peaks(peaks_scg)\n",
        "grouped_peaks_ecg = group_peaks(peaks_ecg)\n",
        "\n",
        "print(len(grouped_peaks_ecg_pred))\n",
        "print(len(grouped_peaks_scg))\n",
        "print(len(grouped_peaks_ecg))\n",
        "# RR-intervals are the differences between successive peaks\n",
        "rr_ecg_pred = np.diff(grouped_peaks_ecg_pred)\n",
        "rr_scg = np.diff(grouped_peaks_scg)\n",
        "rr_ecg = np.diff(grouped_peaks_ecg)\n",
        "\n",
        "print(len(rr_ecg_pred))\n",
        "print(len(rr_scg))\n",
        "print(len(rr_ecg))\n",
        "# plot RR-intervals\n",
        "#plt.figure(figsize=(20, 7))\n",
        "#plt.title(\"RR-intervals\")\n",
        "#plt.xlabel(\"Time (ms)\")\n",
        "#plt.ylabel(\"RR-interval (ms)\")\n",
        "\n",
        "#plt.plot(np.cumsum(rr), rr, label=\"RR-interval\", color=\"#A651D8\")\n",
        "#plt.show()"
      ]
    },
    {
      "cell_type": "code",
      "execution_count": null,
      "metadata": {
        "id": "Zdicn0_cI5tj"
      },
      "outputs": [],
      "source": [
        "\n",
        "from matplotlib.patches import Ellipse\n",
        "import seaborn as sns"
      ]
    },
    {
      "cell_type": "code",
      "execution_count": null,
      "metadata": {
        "id": "hM98N4hTIhbL"
      },
      "outputs": [],
      "source": [
        "def plot_poincare(rr):\n",
        "    rr_n = rr[:-1]\n",
        "    rr_n1 = rr[1:]\n",
        "\n",
        "    sd1 = np.sqrt(0.5) * np.std(rr_n1 - rr_n)\n",
        "    sd2 = np.sqrt(0.5) * np.std(rr_n1 + rr_n)\n",
        "\n",
        "    m = np.mean(rr)\n",
        "    min_rr = np.min(rr)\n",
        "    max_rr = np.max(rr)\n",
        "\n",
        "    plt.figure(figsize=(10, 10))\n",
        "    plt.title(\"Poincare plot\")\n",
        "\n",
        "    sns.scatterplot(x=rr_n, y=rr_n1, color=\"#51A6D8\")\n",
        "\n",
        "    plt.xlabel(r'$RR_n (ms)$')\n",
        "    plt.ylabel(r'$RR_{n+1} (ms)$')\n",
        "\n",
        "    e1 = Ellipse((m, m), 2*sd1, 2*sd2, angle=-45, linewidth=1.2, fill=False, color=\"k\")\n",
        "    plt.gca().add_patch(e1)\n",
        "\n",
        "    plt.arrow(m, m, (max_rr-min_rr)*0.4, (max_rr-min_rr)*0.4, color=\"k\", linewidth=0.8, head_width=5, head_length=5)\n",
        "    plt.arrow(m, m, (min_rr-max_rr)*0.4, (max_rr-min_rr)*0.4, color=\"k\", linewidth=0.8, head_width=5, head_length=5)\n",
        "\n",
        "    plt.arrow(m, m, sd2 * np.sqrt(0.5), sd2 * np.sqrt(0.5), color=\"green\", linewidth=5)\n",
        "    plt.arrow(m, m, -sd1 * np.sqrt(0.5), sd1 * np.sqrt(0.5), color=\"red\", linewidth=5)\n",
        "\n",
        "    plt.text(max_rr, max_rr, \"SD2\", fontsize=20, color=\"green\")\n",
        "    plt.text(m-(max_rr-min_rr)*0.4-20, max_rr, \"SD1\", fontsize=20, color=\"red\")\n",
        "\n",
        "    return sd1, sd2"
      ]
    },
    {
      "cell_type": "code",
      "execution_count": null,
      "metadata": {
        "id": "2XtMdphUInOn"
      },
      "outputs": [],
      "source": [
        "sd1, sd2 = plot_poincare(rr_ecg_pred)\n",
        "print(\"SD1: %.3f ms\" % sd1)\n",
        "print(\"SD2: %.3f ms\" % sd2)"
      ]
    },
    {
      "cell_type": "code",
      "execution_count": null,
      "metadata": {
        "id": "A9RogA2aBkBl"
      },
      "outputs": [],
      "source": [
        "sd1, sd2 = plot_poincare(rr_scg)\n",
        "print(\"SD1: %.3f ms\" % sd1)\n",
        "print(\"SD2: %.3f ms\" % sd2)"
      ]
    },
    {
      "cell_type": "code",
      "execution_count": null,
      "metadata": {
        "id": "rcMUKpkBGcVP"
      },
      "outputs": [],
      "source": [
        "import pyhrv\n",
        "pyhrv.nonlinear.poincare(rr_ecg_pred,peaks_ecg_pred)"
      ]
    },
    {
      "cell_type": "code",
      "execution_count": null,
      "metadata": {
        "id": "Cq7uWKlkv5YL"
      },
      "outputs": [],
      "source": [
        "from scipy.stats import pearsonr\n",
        "true = y_test.astype('float')\n",
        "pre =  x_g_AB.astype('float')\n",
        "corr, pval =pearsonr(true.flatten(),pre.flatten())\n",
        "print(\"corre and p-val:: \",corr, pval)\n",
        "\n",
        "\n",
        "pre_smoothed =  x_g_AB_smoothed.astype('float')\n",
        "corr_sm, pval_sm =pearsonr(true.flatten(),pre_smoothed.flatten())\n",
        "print(\"smoothed corre and p-val:: \",corr_sm, pval_sm)"
      ]
    },
    {
      "cell_type": "code",
      "execution_count": null,
      "metadata": {
        "id": "MzA3hVXVKqvG"
      },
      "outputs": [],
      "source": [
        "accuracy_for_AtoB = 100 - (np.mean(np.abs(x_g_AB-y_test)*100))\n",
        "print(accuracy_for_AtoB)\n",
        "\n",
        "accuracy_for_AtoB_sm = 100 - (np.mean(np.abs(x_g_AB_smoothed-y_test)*100))\n",
        "print(\"smoothed\",accuracy_for_AtoB_sm)"
      ]
    },
    {
      "cell_type": "code",
      "execution_count": null,
      "metadata": {
        "id": "9zJcNkEDIeWj"
      },
      "outputs": [],
      "source": [
        "import matplotlib as mpl\n",
        "mpl.rcParams['figure.dpi'] = 300\n"
      ]
    },
    {
      "cell_type": "code",
      "execution_count": null,
      "metadata": {
        "id": "qiGoXcO2HLNl"
      },
      "outputs": [],
      "source": [
        "print(len(str(fileNames[0]))-4)"
      ]
    },
    {
      "cell_type": "code",
      "execution_count": null,
      "metadata": {
        "id": "5rz4ZFn5UxcS"
      },
      "outputs": [],
      "source": [
        "from google.colab import files\n",
        "fig = plt.figure(figsize=(4,3))\n",
        "fig.set_size_inches(50,7)\n",
        "plt.plot(y_test.flatten()[:5000],color=\"blue\")\n",
        "plt.plot(np.array(x_g_AB).flatten()[:5000], color=\"red\")\n",
        "plt.show()\n",
        "fig.savefig('/content/drive/MyDrive/Colab Notebooks/basal/b_to_b_'+str(fileNames[0])[0:len(str(fileNames[0]))-4]+'_first_5000.jpg')"
      ]
    },
    {
      "cell_type": "code",
      "execution_count": null,
      "metadata": {
        "id": "zqQmbihI3VFj"
      },
      "outputs": [],
      "source": [
        "from google.colab import files\n",
        "fig = plt.figure(figsize=(4,3))\n",
        "fig.set_size_inches(50,7)\n",
        "plt.plot(y_test.flatten()[:5000],color=\"blue\")\n",
        "# plt.plot(np.array(x_g_AB).flatten()[:5000], color=\"red\")\n",
        "plt.show()\n",
        "fig.savefig('/content/drive/MyDrive/Colab Notebooks/basal/b_to_b_'+str(fileNames[0])[0:len(str(fileNames[0]))-4]+'_blue.jpg')"
      ]
    },
    {
      "cell_type": "code",
      "execution_count": null,
      "metadata": {
        "id": "7nOF_7Vg5p6z"
      },
      "outputs": [],
      "source": [
        "from google.colab import files\n",
        "fig = plt.figure(figsize=(4,3))\n",
        "fig.set_size_inches(50,7)\n",
        "# plt.plot(y_test.flatten()[:5000],color=\"blue\")\n",
        "plt.plot(np.array(x_g_AB).flatten()[:5000], color=\"red\")\n",
        "plt.show()\n",
        "fig.savefig('/content/drive/MyDrive/Colab Notebooks/basal/b_to_b_'+str(fileNames[0])[0:len(str(fileNames[0]))-4]+'_red.jpg')"
      ]
    },
    {
      "cell_type": "code",
      "execution_count": null,
      "metadata": {
        "id": "ccpSirZgbL7O"
      },
      "outputs": [],
      "source": [
        "from google.colab import files\n",
        "fig = plt.figure(figsize=(4,3))\n",
        "fig.set_size_inches(50,7)\n",
        "plt.plot(y_test.flatten()[:5000],color=\"blue\")\n",
        "plt.plot(np.array(x_g_AB_smoothed).flatten()[:5000], color=\"red\")\n",
        "plt.show()\n",
        "fig.savefig('/content/drive/MyDrive/Colab Notebooks/basal/b_to_b_'+str(fileNames[0])[0:len(str(fileNames[0]))-4]+'_first_5000_smoothed.jpg')"
      ]
    },
    {
      "cell_type": "code",
      "execution_count": null,
      "metadata": {
        "id": "M9BydaDI51Dr"
      },
      "outputs": [],
      "source": [
        "from google.colab import files\n",
        "fig = plt.figure(figsize=(4,3))\n",
        "fig.set_size_inches(50,7)\n",
        "plt.plot(y_test.flatten()[:5000],color=\"blue\")\n",
        "# plt.plot(np.array(x_g_AB_smoothed).flatten()[:5000], color=\"red\")\n",
        "plt.show()\n",
        "fig.savefig('/content/drive/MyDrive/Colab Notebooks/basal/b_to_b_'+str(fileNames[0])[0:len(str(fileNames[0]))-4]+'_blue_smoothed.jpg')"
      ]
    },
    {
      "cell_type": "code",
      "execution_count": null,
      "metadata": {
        "id": "EwXrm5MH6Idu"
      },
      "outputs": [],
      "source": [
        "from google.colab import files\n",
        "fig = plt.figure(figsize=(4,3))\n",
        "fig.set_size_inches(50,7)\n",
        "# plt.plot(y_test.flatten()[:5000],color=\"blue\")\n",
        "plt.plot(np.array(x_g_AB_smoothed).flatten()[:5000], color=\"red\")\n",
        "plt.show()\n",
        "fig.savefig('/content/drive/MyDrive/Colab Notebooks/basal/b_to_b_'+str(fileNames[0])[0:len(str(fileNames[0]))-4]+'_red_smoothed.jpg')"
      ]
    },
    {
      "cell_type": "code",
      "execution_count": null,
      "metadata": {
        "id": "iSjZzZUsVD_x"
      },
      "outputs": [],
      "source": [
        "# for i in range(len(y_test)):\n",
        "#   fig = plt.figure(figsize=(4,3))\n",
        "#   fig.set_size_inches(50,7)\n",
        "#   plt.plot(y_test[i],color=\"blue\")\n",
        "#   plt.plot(x_g_AB[i], color=\"red\")\n",
        "#   plt.show()\n",
        "#   plt.savefig('/content/drive/MyDrive/Colab Notebooks/GAN_PAPER_DATA/basal/b_to_b_1_batch_'+str(i+1)+'.jpg')"
      ]
    },
    {
      "cell_type": "code",
      "execution_count": null,
      "metadata": {
        "id": "7Mb0GpQobaAR"
      },
      "outputs": [],
      "source": [
        "# for i in range(len(y_test)):\n",
        "#   fig = plt.figure(figsize=(4,3))\n",
        "#   fig.set_size_inches(50,7)\n",
        "#   plt.plot(y_test[i],color=\"blue\")\n",
        "#   plt.plot(x_g_AB_smoothed[i], color=\"red\")\n",
        "#   plt.savefig('/content/drive/MyDrive/Colab Notebooks/GAN_PAPER_DATA/basal/b_to_b_1_smoothed_batch_'+str(i+1)+'.jpg')\n",
        "#   plt.show()"
      ]
    },
    {
      "cell_type": "code",
      "execution_count": null,
      "metadata": {
        "id": "8R4embaispm9"
      },
      "outputs": [],
      "source": [
        "# !pip install frechetdist"
      ]
    },
    {
      "cell_type": "code",
      "execution_count": null,
      "metadata": {
        "id": "dsD1i3QNcs_a"
      },
      "outputs": [],
      "source": [
        "# import sys\n",
        "# print(sys.getrecursionlimit())\n",
        "# sys.setrecursionlimit(5000)\n",
        "# print(sys.getrecursionlimit())"
      ]
    },
    {
      "cell_type": "code",
      "execution_count": null,
      "metadata": {
        "id": "KtiJpcXEnjc6"
      },
      "outputs": [],
      "source": [
        "# from frechetdist import frdist\n",
        "# fd = []\n",
        "# for i in range(len(y_test)):\n",
        "#   fd.append(frdist(y_test[i],x_g_AB[i]))\n",
        "# print(\"FD: \", np.array(fd).mean())"
      ]
    },
    {
      "cell_type": "code",
      "execution_count": null,
      "metadata": {
        "id": "mapGaw0HvhHa"
      },
      "outputs": [],
      "source": [
        "\n",
        "#mmd_arr = mmd(y_test,x_g_AB)"
      ]
    },
    {
      "cell_type": "code",
      "execution_count": null,
      "metadata": {
        "id": "FME3FqsWtliD"
      },
      "outputs": [],
      "source": [
        "# fd_mean = np.array(fd).mean()"
      ]
    },
    {
      "cell_type": "code",
      "execution_count": null,
      "metadata": {
        "id": "LqyCpTSVntXV"
      },
      "outputs": [],
      "source": [
        "#To create the blank csv with header.\n",
        "\n",
        "#from csv import writer\n",
        "\n",
        "#List=[\"Subject\",\"Generator param A\", \"Generator param B\",\"Reconstructor param A\",\"Reconstructor param B\",\"RMSE flattened\", \"RMSE Smoothed flattened\",\"RMSE All Mean\", \"RMSE All Smoothed Mean\", \"prd\", \"prd smoothed\",\"mae\",\"mae smoothed\", \"correlation\",\"correlation smoothed\",\"p-val\",\"p-val smoothed\",\"accuracy\",\"accuracy smoothed\",\"frachet dist\"]\n",
        "\n",
        "#with open('/content/drive/MyDrive/Colab Notebooks/GAN_PAPER_DATA/basal/matrices.csv', 'w') as f_object:\n",
        "\n",
        "#    writer_object = writer(f_object)\n",
        "#    writer_object.writerow(List)\n",
        "\n",
        "#    f_object.close()"
      ]
    },
    {
      "cell_type": "code",
      "execution_count": null,
      "metadata": {
        "id": "8tBmFw4I12-y"
      },
      "outputs": [],
      "source": [
        "# change the parameters here\n",
        "gen_param_a = 0\n",
        "gen_param_b = 0\n",
        "rec_param_a = 0\n",
        "rec_param_b = 0"
      ]
    },
    {
      "cell_type": "code",
      "execution_count": null,
      "metadata": {
        "id": "CW92FBJMs1rq"
      },
      "outputs": [],
      "source": [
        "# List\n",
        "List_vals =[fileNames[0], gen_param_a,gen_param_b,rec_param_a,rec_param_b, rmse_arr, rmse_smoothed, rmse_all_mean, rmse_all_smoothed_mean, prd_arr, prd_arr_smoothed,mae_arr,mae_arr_smoothed, corr,corr_sm,pval,pval_sm,accuracy_for_AtoB,accuracy_for_AtoB_sm]"
      ]
    },
    {
      "cell_type": "code",
      "execution_count": null,
      "metadata": {
        "id": "yYk_0-G-t3sX"
      },
      "outputs": [],
      "source": [
        "\n",
        "from csv import writer\n",
        "\n",
        "with open('/content/drive/MyDrive/Colab Notebooks/basal/matrices.csv', 'a') as f_object:\n",
        "\n",
        "    writer_object = writer(f_object)\n",
        "    writer_object.writerow(List_vals)\n",
        "\n",
        "    f_object.close()"
      ]
    },
    {
      "cell_type": "code",
      "execution_count": null,
      "metadata": {
        "id": "xSqpdHYCJA8y"
      },
      "outputs": [],
      "source": [
        "# !pip install torch"
      ]
    },
    {
      "cell_type": "code",
      "execution_count": null,
      "metadata": {
        "id": "F_Xg6pwAiY4h"
      },
      "outputs": [],
      "source": [
        "# !pip install -c dloewenstein torch-two-sample"
      ]
    },
    {
      "cell_type": "code",
      "execution_count": null,
      "metadata": {
        "id": "0aH-uFRmJZm5"
      },
      "outputs": [],
      "source": [
        "#!pip install mmd"
      ]
    },
    {
      "cell_type": "code",
      "execution_count": null,
      "metadata": {
        "id": "Q90eindpKZ7G"
      },
      "outputs": [],
      "source": [
        "# !pip install torch torchvision\n",
        "\n"
      ]
    },
    {
      "cell_type": "code",
      "execution_count": null,
      "metadata": {
        "id": "S733gBm7Qrx5"
      },
      "outputs": [],
      "source": [
        "# from torch_two_sample.statistics_diff import MMDStatistic\n",
        "# print(mmd(y_test,x_g_AB))"
      ]
    },
    {
      "cell_type": "code",
      "execution_count": null,
      "metadata": {
        "id": "X75GyDycKd0j"
      },
      "outputs": [],
      "source": []
    },
    {
      "cell_type": "code",
      "execution_count": null,
      "metadata": {
        "id": "kV3DzxzNGsdJ"
      },
      "outputs": [],
      "source": [
        "#!pip install ecg_plot"
      ]
    },
    {
      "cell_type": "code",
      "execution_count": null,
      "metadata": {
        "id": "JPx2jXZawBbP"
      },
      "outputs": [],
      "source": [
        "#import ecg_plot"
      ]
    },
    {
      "cell_type": "code",
      "execution_count": null,
      "metadata": {
        "id": "rnC5ZOPVo6yi"
      },
      "outputs": [],
      "source": [
        "#for i in range(10):\n",
        "#  ecg_plot.plot_1(y_test_scaled[i], sample_rate=500, title = 'Original ECG')\n",
        " # ecg_plot.plot_1(x_g_AB_scaled[i], sample_rate=500, title = 'Predicted ECG')\n",
        "  #plt.tight_layout()\n",
        " # ecg_plot.show()"
      ]
    },
    {
      "cell_type": "code",
      "execution_count": null,
      "metadata": {
        "id": "jt7WsGomHyAD"
      },
      "outputs": [],
      "source": [
        "\n",
        "#ecg_plot.plot_1(y_test.flatten(), sample_rate=1000, title = 'Original')\n",
        "#ecg_plot.plot_1(x_g_AB.flatten(), sample_rate=1000, title = 'Predicted')"
      ]
    },
    {
      "cell_type": "code",
      "execution_count": null,
      "metadata": {
        "id": "KNUu09O8WhX3"
      },
      "outputs": [],
      "source": [
        "#x = y_test[0].flatten().tolist()\n",
        "#y = x_g_AB[0].flatten().tolist()\n",
        "#for i in range(len(x_g_AB)):\n",
        "#  x.append((y_test[i][len(y_test[i])-1])[0])\n",
        "#  y.append((x_g_AB[i][len(x_g_AB[i])-1])[0])"
      ]
    },
    {
      "cell_type": "code",
      "execution_count": null,
      "metadata": {
        "id": "Qr7ofa2xOc49"
      },
      "outputs": [],
      "source": [
        "print(\"acc: %3d%%\"% accuracy_for_AtoB)"
      ]
    },
    {
      "cell_type": "code",
      "execution_count": null,
      "metadata": {
        "id": "ux9A5BOdPNZD"
      },
      "outputs": [],
      "source": [
        "# normalize correlation\n",
        "a = (y_test - np.mean(y_test)) / (np.std(y_test) * len(y_test))\n",
        "b = (x_g_AB - np.mean(x_g_AB)) / (np.std(x_g_AB))\n",
        "c = np.correlate(a.flatten(), b.flatten(), 'full')\n",
        "print(c)"
      ]
    },
    {
      "cell_type": "code",
      "execution_count": null,
      "metadata": {
        "id": "fVfrUH2l_X3o"
      },
      "outputs": [],
      "source": [
        "from sklearn.metrics import mean_squared_error\n",
        "mse = mean_squared_error(y_test.flatten(), x_g_AB.flatten())\n",
        "print(mse)"
      ]
    },
    {
      "cell_type": "code",
      "execution_count": null,
      "metadata": {
        "id": "9SuBwpYd_oO_"
      },
      "outputs": [],
      "source": [
        "from sklearn.metrics import mean_absolute_error\n",
        "mae = mean_absolute_error(y_test.flatten(), x_g_AB.flatten())\n",
        "print(mae)"
      ]
    },
    {
      "cell_type": "code",
      "execution_count": null,
      "metadata": {
        "id": "aE1VHpvD0-AH"
      },
      "outputs": [],
      "source": [
        "y_pred = x_g_AB.flatten()\n",
        "y_test_new = y_test.flatten()"
      ]
    },
    {
      "cell_type": "code",
      "execution_count": null,
      "metadata": {
        "id": "Zs64HmthxRFs"
      },
      "outputs": [],
      "source": [
        "\n",
        "y_pred[y_pred > 0.5] = 1\n",
        "y_pred[y_pred <= 0.5] = 0"
      ]
    },
    {
      "cell_type": "code",
      "execution_count": null,
      "metadata": {
        "id": "mn6Cv1P9xo49"
      },
      "outputs": [],
      "source": [
        "\n",
        "y_test_new[y_test_new > 0.5] = 1\n",
        "y_test_new[y_test_new <= 0.5] = 0"
      ]
    },
    {
      "cell_type": "code",
      "execution_count": null,
      "metadata": {
        "id": "y2cFEBwO_8Wo"
      },
      "outputs": [],
      "source": [
        "from sklearn.metrics import f1_score,accuracy_score,recall_score,precision_score\n"
      ]
    },
    {
      "cell_type": "code",
      "execution_count": null,
      "metadata": {
        "id": "ailUHhBooDXO"
      },
      "outputs": [],
      "source": [
        "\n",
        "print(\"accuracy_score\",accuracy_score(y_test_new, y_pred))"
      ]
    },
    {
      "cell_type": "code",
      "execution_count": null,
      "metadata": {
        "id": "UwTBJos0zUAz"
      },
      "outputs": [],
      "source": [
        "\n",
        "print(\"precision_score\",precision_score(y_test_new, y_pred , pos_label='positive', average='micro'))"
      ]
    },
    {
      "cell_type": "code",
      "execution_count": null,
      "metadata": {
        "id": "KUaN4GV2xig6"
      },
      "outputs": [],
      "source": [
        "\n",
        "print(\"f1_score\",f1_score(y_test_new, y_pred, pos_label='positive', average='micro'))"
      ]
    },
    {
      "cell_type": "code",
      "execution_count": null,
      "metadata": {
        "id": "Lxidi8ZXxlpA"
      },
      "outputs": [],
      "source": [
        "\n",
        "print(\"recall_score\",recall_score(y_test_new, y_pred, pos_label='positive', average='micro'))"
      ]
    },
    {
      "cell_type": "code",
      "execution_count": null,
      "metadata": {
        "id": "xAC5ojYUxnmy"
      },
      "outputs": [],
      "source": [
        "from sklearn.metrics import confusion_matrix\n",
        "a = [1,1,1,1,1,0]\n",
        "b=[1,1,1,1,0,0]\n",
        "matrix = confusion_matrix(y_test_new, y_pred)\n",
        "print(matrix)"
      ]
    },
    {
      "cell_type": "code",
      "execution_count": null,
      "metadata": {
        "id": "0BIF5Y8gC2-v"
      },
      "outputs": [],
      "source": [
        "# correlation coefficient r of x and y\n",
        "from scipy import stats\n",
        "slope, intercept, r_value, p_value, std_err = stats.linregress(y_test_new, y_pred)\n",
        "print (r_value)"
      ]
    },
    {
      "cell_type": "code",
      "execution_count": null,
      "metadata": {
        "id": "qnqyx3KsDERn"
      },
      "outputs": [],
      "source": [
        "# The coefficient of determination\n",
        "from sklearn.metrics import r2_score\n",
        "print(r2_score(y_test_new, y_pred))"
      ]
    },
    {
      "cell_type": "code",
      "execution_count": null,
      "metadata": {
        "id": "GQrVXwacCWVj"
      },
      "outputs": [],
      "source": []
    }
  ],
  "metadata": {
    "accelerator": "GPU",
    "colab": {
      "provenance": [],
      "include_colab_link": true
    },
    "kernelspec": {
      "display_name": "Python 3",
      "name": "python3"
    }
  },
  "nbformat": 4,
  "nbformat_minor": 0
}